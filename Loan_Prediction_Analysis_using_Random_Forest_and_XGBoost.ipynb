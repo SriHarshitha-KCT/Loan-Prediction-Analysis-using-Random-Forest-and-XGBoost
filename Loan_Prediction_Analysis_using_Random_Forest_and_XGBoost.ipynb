{
  "nbformat": 4,
  "nbformat_minor": 0,
  "metadata": {
    "colab": {
      "provenance": []
    },
    "kernelspec": {
      "name": "python3",
      "display_name": "Python 3"
    },
    "language_info": {
      "name": "python"
    },
    "accelerator": "GPU",
    "gpuClass": "standard"
  },
  "cells": [
    {
      "cell_type": "code",
      "execution_count": 1026,
      "metadata": {
        "colab": {
          "base_uri": "https://localhost:8080/"
        },
        "id": "-GI7Jo9wDGiO",
        "outputId": "870065a8-836f-4582-bac6-23106c61dc7d"
      },
      "outputs": [
        {
          "output_type": "stream",
          "name": "stdout",
          "text": [
            "Looking in indexes: https://pypi.org/simple, https://us-python.pkg.dev/colab-wheels/public/simple/\n",
            "Requirement already satisfied: pyforest in /usr/local/lib/python3.7/dist-packages (1.1.0)\n"
          ]
        }
      ],
      "source": [
        "pip install pyforest"
      ]
    },
    {
      "cell_type": "code",
      "source": [
        "import pyforest"
      ],
      "metadata": {
        "id": "bRhMAmajDQyb"
      },
      "execution_count": 1027,
      "outputs": []
    },
    {
      "cell_type": "code",
      "source": [
        "dataset=pd.read_csv(\"/content/Loan Prediction Dataset.csv\")"
      ],
      "metadata": {
        "colab": {
          "base_uri": "https://localhost:8080/",
          "height": 17
        },
        "id": "P5897w3HDWO2",
        "outputId": "87391b17-3ab8-4711-a8c0-882fe1523cdd"
      },
      "execution_count": 1028,
      "outputs": [
        {
          "output_type": "display_data",
          "data": {
            "text/plain": [
              "<IPython.core.display.Javascript object>"
            ],
            "application/javascript": [
              "\n",
              "        if (window._pyforest_update_imports_cell) { window._pyforest_update_imports_cell('from sklearn.linear_model import LassoCV\\nimport plotly.express as px\\nfrom sklearn.linear_model import ElasticNet\\nimport pandas as pd\\nfrom sklearn.preprocessing import PolynomialFeatures\\nimport fastai\\nfrom pathlib import Path\\nimport matplotlib as mpl\\nimport cv2\\nfrom sklearn.preprocessing import MinMaxScaler\\nimport textblob\\nfrom sklearn.manifold import TSNE\\nimport numpy as np\\nfrom sklearn.ensemble import RandomForestRegressor\\nfrom sklearn.linear_model import LinearRegression\\nimport altair as alt\\nfrom sklearn.model_selection import RandomizedSearchCV\\nimport tensorflow as tf\\nfrom openpyxl import load_workbook\\nimport sys\\nimport statistics\\nfrom sklearn.cluster import KMeans\\nfrom sklearn.model_selection import train_test_split\\nfrom sklearn.model_selection import cross_val_score\\nfrom sklearn.ensemble import GradientBoostingRegressor\\nfrom sklearn.feature_extraction.text import CountVectorizer\\nimport lightgbm as lgb\\nfrom sklearn.preprocessing import OneHotEncoder\\nimport nltk\\nimport re\\nimport matplotlib.pyplot as plt\\nimport tqdm\\nfrom sklearn.linear_model import Lasso\\nfrom sklearn.model_selection import KFold\\nfrom sklearn import metrics\\nimport xgboost as xgb\\nfrom sklearn.preprocessing import RobustScaler\\nfrom sklearn.linear_model import ElasticNetCV\\nimport sklearn\\nimport seaborn as sns\\nimport plotly as py\\nimport imutils\\nfrom sklearn.feature_extraction.text import TfidfVectorizer\\nimport pickle\\nfrom sklearn.linear_model import Ridge\\nfrom sklearn import svm\\nfrom sklearn.linear_model import RidgeCV\\nfrom sklearn.decomposition import PCA\\nfrom scipy import stats\\nfrom PIL import Image\\nfrom sklearn.model_selection import GridSearchCV\\nfrom sklearn.ensemble import GradientBoostingClassifier\\nimport spacy\\nfrom sklearn.linear_model import LogisticRegression\\nfrom sklearn.preprocessing import LabelEncoder\\nimport pydot\\nimport torch\\nimport skimage\\nfrom statsmodels.tsa.arima_model import ARIMA\\nfrom scipy import signal as sg\\nfrom sklearn.ensemble import RandomForestClassifier\\nimport statsmodels.api as sm'); }\n",
              "    "
            ]
          },
          "metadata": {}
        }
      ]
    },
    {
      "cell_type": "code",
      "source": [
        "dataset.shape"
      ],
      "metadata": {
        "colab": {
          "base_uri": "https://localhost:8080/"
        },
        "id": "1BHVzcRUDYeO",
        "outputId": "6a2bc99a-f5c8-4ac9-d071-cc1d1158629b"
      },
      "execution_count": 1029,
      "outputs": [
        {
          "output_type": "execute_result",
          "data": {
            "text/plain": [
              "(614, 13)"
            ]
          },
          "metadata": {},
          "execution_count": 1029
        }
      ]
    },
    {
      "cell_type": "code",
      "source": [
        "dataset.head()"
      ],
      "metadata": {
        "colab": {
          "base_uri": "https://localhost:8080/",
          "height": 287
        },
        "id": "qtrbhEAZDeAA",
        "outputId": "9dfcf518-148e-4216-ef47-f3b26d21f404"
      },
      "execution_count": 1030,
      "outputs": [
        {
          "output_type": "execute_result",
          "data": {
            "text/plain": [
              "    Loan_ID Gender Married  ... Credit_History Property_Area Loan_Status\n",
              "0  LP001002   Male      No  ...            1.0         Urban           Y\n",
              "1  LP001003   Male     Yes  ...            1.0         Rural           N\n",
              "2  LP001005   Male     Yes  ...            1.0         Urban           Y\n",
              "3  LP001006   Male     Yes  ...            1.0         Urban           Y\n",
              "4  LP001008   Male      No  ...            1.0         Urban           Y\n",
              "\n",
              "[5 rows x 13 columns]"
            ],
            "text/html": [
              "\n",
              "  <div id=\"df-37f7a863-cf57-4eb3-9a1c-c41c2a49225c\">\n",
              "    <div class=\"colab-df-container\">\n",
              "      <div>\n",
              "<style scoped>\n",
              "    .dataframe tbody tr th:only-of-type {\n",
              "        vertical-align: middle;\n",
              "    }\n",
              "\n",
              "    .dataframe tbody tr th {\n",
              "        vertical-align: top;\n",
              "    }\n",
              "\n",
              "    .dataframe thead th {\n",
              "        text-align: right;\n",
              "    }\n",
              "</style>\n",
              "<table border=\"1\" class=\"dataframe\">\n",
              "  <thead>\n",
              "    <tr style=\"text-align: right;\">\n",
              "      <th></th>\n",
              "      <th>Loan_ID</th>\n",
              "      <th>Gender</th>\n",
              "      <th>Married</th>\n",
              "      <th>Dependents</th>\n",
              "      <th>Education</th>\n",
              "      <th>Self_Employed</th>\n",
              "      <th>ApplicantIncome</th>\n",
              "      <th>CoapplicantIncome</th>\n",
              "      <th>LoanAmount</th>\n",
              "      <th>Loan_Amount_Term</th>\n",
              "      <th>Credit_History</th>\n",
              "      <th>Property_Area</th>\n",
              "      <th>Loan_Status</th>\n",
              "    </tr>\n",
              "  </thead>\n",
              "  <tbody>\n",
              "    <tr>\n",
              "      <th>0</th>\n",
              "      <td>LP001002</td>\n",
              "      <td>Male</td>\n",
              "      <td>No</td>\n",
              "      <td>0</td>\n",
              "      <td>Graduate</td>\n",
              "      <td>No</td>\n",
              "      <td>5849</td>\n",
              "      <td>0.0</td>\n",
              "      <td>NaN</td>\n",
              "      <td>360.0</td>\n",
              "      <td>1.0</td>\n",
              "      <td>Urban</td>\n",
              "      <td>Y</td>\n",
              "    </tr>\n",
              "    <tr>\n",
              "      <th>1</th>\n",
              "      <td>LP001003</td>\n",
              "      <td>Male</td>\n",
              "      <td>Yes</td>\n",
              "      <td>1</td>\n",
              "      <td>Graduate</td>\n",
              "      <td>No</td>\n",
              "      <td>4583</td>\n",
              "      <td>1508.0</td>\n",
              "      <td>128.0</td>\n",
              "      <td>360.0</td>\n",
              "      <td>1.0</td>\n",
              "      <td>Rural</td>\n",
              "      <td>N</td>\n",
              "    </tr>\n",
              "    <tr>\n",
              "      <th>2</th>\n",
              "      <td>LP001005</td>\n",
              "      <td>Male</td>\n",
              "      <td>Yes</td>\n",
              "      <td>0</td>\n",
              "      <td>Graduate</td>\n",
              "      <td>Yes</td>\n",
              "      <td>3000</td>\n",
              "      <td>0.0</td>\n",
              "      <td>66.0</td>\n",
              "      <td>360.0</td>\n",
              "      <td>1.0</td>\n",
              "      <td>Urban</td>\n",
              "      <td>Y</td>\n",
              "    </tr>\n",
              "    <tr>\n",
              "      <th>3</th>\n",
              "      <td>LP001006</td>\n",
              "      <td>Male</td>\n",
              "      <td>Yes</td>\n",
              "      <td>0</td>\n",
              "      <td>Not Graduate</td>\n",
              "      <td>No</td>\n",
              "      <td>2583</td>\n",
              "      <td>2358.0</td>\n",
              "      <td>120.0</td>\n",
              "      <td>360.0</td>\n",
              "      <td>1.0</td>\n",
              "      <td>Urban</td>\n",
              "      <td>Y</td>\n",
              "    </tr>\n",
              "    <tr>\n",
              "      <th>4</th>\n",
              "      <td>LP001008</td>\n",
              "      <td>Male</td>\n",
              "      <td>No</td>\n",
              "      <td>0</td>\n",
              "      <td>Graduate</td>\n",
              "      <td>No</td>\n",
              "      <td>6000</td>\n",
              "      <td>0.0</td>\n",
              "      <td>141.0</td>\n",
              "      <td>360.0</td>\n",
              "      <td>1.0</td>\n",
              "      <td>Urban</td>\n",
              "      <td>Y</td>\n",
              "    </tr>\n",
              "  </tbody>\n",
              "</table>\n",
              "</div>\n",
              "      <button class=\"colab-df-convert\" onclick=\"convertToInteractive('df-37f7a863-cf57-4eb3-9a1c-c41c2a49225c')\"\n",
              "              title=\"Convert this dataframe to an interactive table.\"\n",
              "              style=\"display:none;\">\n",
              "        \n",
              "  <svg xmlns=\"http://www.w3.org/2000/svg\" height=\"24px\"viewBox=\"0 0 24 24\"\n",
              "       width=\"24px\">\n",
              "    <path d=\"M0 0h24v24H0V0z\" fill=\"none\"/>\n",
              "    <path d=\"M18.56 5.44l.94 2.06.94-2.06 2.06-.94-2.06-.94-.94-2.06-.94 2.06-2.06.94zm-11 1L8.5 8.5l.94-2.06 2.06-.94-2.06-.94L8.5 2.5l-.94 2.06-2.06.94zm10 10l.94 2.06.94-2.06 2.06-.94-2.06-.94-.94-2.06-.94 2.06-2.06.94z\"/><path d=\"M17.41 7.96l-1.37-1.37c-.4-.4-.92-.59-1.43-.59-.52 0-1.04.2-1.43.59L10.3 9.45l-7.72 7.72c-.78.78-.78 2.05 0 2.83L4 21.41c.39.39.9.59 1.41.59.51 0 1.02-.2 1.41-.59l7.78-7.78 2.81-2.81c.8-.78.8-2.07 0-2.86zM5.41 20L4 18.59l7.72-7.72 1.47 1.35L5.41 20z\"/>\n",
              "  </svg>\n",
              "      </button>\n",
              "      \n",
              "  <style>\n",
              "    .colab-df-container {\n",
              "      display:flex;\n",
              "      flex-wrap:wrap;\n",
              "      gap: 12px;\n",
              "    }\n",
              "\n",
              "    .colab-df-convert {\n",
              "      background-color: #E8F0FE;\n",
              "      border: none;\n",
              "      border-radius: 50%;\n",
              "      cursor: pointer;\n",
              "      display: none;\n",
              "      fill: #1967D2;\n",
              "      height: 32px;\n",
              "      padding: 0 0 0 0;\n",
              "      width: 32px;\n",
              "    }\n",
              "\n",
              "    .colab-df-convert:hover {\n",
              "      background-color: #E2EBFA;\n",
              "      box-shadow: 0px 1px 2px rgba(60, 64, 67, 0.3), 0px 1px 3px 1px rgba(60, 64, 67, 0.15);\n",
              "      fill: #174EA6;\n",
              "    }\n",
              "\n",
              "    [theme=dark] .colab-df-convert {\n",
              "      background-color: #3B4455;\n",
              "      fill: #D2E3FC;\n",
              "    }\n",
              "\n",
              "    [theme=dark] .colab-df-convert:hover {\n",
              "      background-color: #434B5C;\n",
              "      box-shadow: 0px 1px 3px 1px rgba(0, 0, 0, 0.15);\n",
              "      filter: drop-shadow(0px 1px 2px rgba(0, 0, 0, 0.3));\n",
              "      fill: #FFFFFF;\n",
              "    }\n",
              "  </style>\n",
              "\n",
              "      <script>\n",
              "        const buttonEl =\n",
              "          document.querySelector('#df-37f7a863-cf57-4eb3-9a1c-c41c2a49225c button.colab-df-convert');\n",
              "        buttonEl.style.display =\n",
              "          google.colab.kernel.accessAllowed ? 'block' : 'none';\n",
              "\n",
              "        async function convertToInteractive(key) {\n",
              "          const element = document.querySelector('#df-37f7a863-cf57-4eb3-9a1c-c41c2a49225c');\n",
              "          const dataTable =\n",
              "            await google.colab.kernel.invokeFunction('convertToInteractive',\n",
              "                                                     [key], {});\n",
              "          if (!dataTable) return;\n",
              "\n",
              "          const docLinkHtml = 'Like what you see? Visit the ' +\n",
              "            '<a target=\"_blank\" href=https://colab.research.google.com/notebooks/data_table.ipynb>data table notebook</a>'\n",
              "            + ' to learn more about interactive tables.';\n",
              "          element.innerHTML = '';\n",
              "          dataTable['output_type'] = 'display_data';\n",
              "          await google.colab.output.renderOutput(dataTable, element);\n",
              "          const docLink = document.createElement('div');\n",
              "          docLink.innerHTML = docLinkHtml;\n",
              "          element.appendChild(docLink);\n",
              "        }\n",
              "      </script>\n",
              "    </div>\n",
              "  </div>\n",
              "  "
            ]
          },
          "metadata": {},
          "execution_count": 1030
        }
      ]
    },
    {
      "cell_type": "code",
      "source": [
        "dataset.columns"
      ],
      "metadata": {
        "colab": {
          "base_uri": "https://localhost:8080/"
        },
        "id": "9VAxMwUWDe_E",
        "outputId": "d754c0f2-2946-40ce-8f58-b776a23f61d6"
      },
      "execution_count": 1031,
      "outputs": [
        {
          "output_type": "execute_result",
          "data": {
            "text/plain": [
              "Index(['Loan_ID', 'Gender', 'Married', 'Dependents', 'Education',\n",
              "       'Self_Employed', 'ApplicantIncome', 'CoapplicantIncome', 'LoanAmount',\n",
              "       'Loan_Amount_Term', 'Credit_History', 'Property_Area', 'Loan_Status'],\n",
              "      dtype='object')"
            ]
          },
          "metadata": {},
          "execution_count": 1031
        }
      ]
    },
    {
      "cell_type": "code",
      "source": [
        "dataset.info()"
      ],
      "metadata": {
        "colab": {
          "base_uri": "https://localhost:8080/"
        },
        "id": "qv1co6JUDf4A",
        "outputId": "b9d8f824-a07a-4ec1-9974-862de5f1a9f0"
      },
      "execution_count": 1032,
      "outputs": [
        {
          "output_type": "stream",
          "name": "stdout",
          "text": [
            "<class 'pandas.core.frame.DataFrame'>\n",
            "RangeIndex: 614 entries, 0 to 613\n",
            "Data columns (total 13 columns):\n",
            " #   Column             Non-Null Count  Dtype  \n",
            "---  ------             --------------  -----  \n",
            " 0   Loan_ID            614 non-null    object \n",
            " 1   Gender             601 non-null    object \n",
            " 2   Married            611 non-null    object \n",
            " 3   Dependents         599 non-null    object \n",
            " 4   Education          614 non-null    object \n",
            " 5   Self_Employed      582 non-null    object \n",
            " 6   ApplicantIncome    614 non-null    int64  \n",
            " 7   CoapplicantIncome  614 non-null    float64\n",
            " 8   LoanAmount         592 non-null    float64\n",
            " 9   Loan_Amount_Term   600 non-null    float64\n",
            " 10  Credit_History     564 non-null    float64\n",
            " 11  Property_Area      614 non-null    object \n",
            " 12  Loan_Status        614 non-null    object \n",
            "dtypes: float64(4), int64(1), object(8)\n",
            "memory usage: 62.5+ KB\n"
          ]
        }
      ]
    },
    {
      "cell_type": "code",
      "source": [
        "dataset.describe()"
      ],
      "metadata": {
        "colab": {
          "base_uri": "https://localhost:8080/",
          "height": 300
        },
        "id": "qke8yQ7YDgvr",
        "outputId": "8ef96044-9f06-42ec-926d-4f77c81a2f10"
      },
      "execution_count": 1033,
      "outputs": [
        {
          "output_type": "execute_result",
          "data": {
            "text/plain": [
              "       ApplicantIncome  CoapplicantIncome  ...  Loan_Amount_Term  Credit_History\n",
              "count       614.000000         614.000000  ...         600.00000      564.000000\n",
              "mean       5403.459283        1621.245798  ...         342.00000        0.842199\n",
              "std        6109.041673        2926.248369  ...          65.12041        0.364878\n",
              "min         150.000000           0.000000  ...          12.00000        0.000000\n",
              "25%        2877.500000           0.000000  ...         360.00000        1.000000\n",
              "50%        3812.500000        1188.500000  ...         360.00000        1.000000\n",
              "75%        5795.000000        2297.250000  ...         360.00000        1.000000\n",
              "max       81000.000000       41667.000000  ...         480.00000        1.000000\n",
              "\n",
              "[8 rows x 5 columns]"
            ],
            "text/html": [
              "\n",
              "  <div id=\"df-2e08ddfc-c919-4b65-859c-b4f8a269a207\">\n",
              "    <div class=\"colab-df-container\">\n",
              "      <div>\n",
              "<style scoped>\n",
              "    .dataframe tbody tr th:only-of-type {\n",
              "        vertical-align: middle;\n",
              "    }\n",
              "\n",
              "    .dataframe tbody tr th {\n",
              "        vertical-align: top;\n",
              "    }\n",
              "\n",
              "    .dataframe thead th {\n",
              "        text-align: right;\n",
              "    }\n",
              "</style>\n",
              "<table border=\"1\" class=\"dataframe\">\n",
              "  <thead>\n",
              "    <tr style=\"text-align: right;\">\n",
              "      <th></th>\n",
              "      <th>ApplicantIncome</th>\n",
              "      <th>CoapplicantIncome</th>\n",
              "      <th>LoanAmount</th>\n",
              "      <th>Loan_Amount_Term</th>\n",
              "      <th>Credit_History</th>\n",
              "    </tr>\n",
              "  </thead>\n",
              "  <tbody>\n",
              "    <tr>\n",
              "      <th>count</th>\n",
              "      <td>614.000000</td>\n",
              "      <td>614.000000</td>\n",
              "      <td>592.000000</td>\n",
              "      <td>600.00000</td>\n",
              "      <td>564.000000</td>\n",
              "    </tr>\n",
              "    <tr>\n",
              "      <th>mean</th>\n",
              "      <td>5403.459283</td>\n",
              "      <td>1621.245798</td>\n",
              "      <td>146.412162</td>\n",
              "      <td>342.00000</td>\n",
              "      <td>0.842199</td>\n",
              "    </tr>\n",
              "    <tr>\n",
              "      <th>std</th>\n",
              "      <td>6109.041673</td>\n",
              "      <td>2926.248369</td>\n",
              "      <td>85.587325</td>\n",
              "      <td>65.12041</td>\n",
              "      <td>0.364878</td>\n",
              "    </tr>\n",
              "    <tr>\n",
              "      <th>min</th>\n",
              "      <td>150.000000</td>\n",
              "      <td>0.000000</td>\n",
              "      <td>9.000000</td>\n",
              "      <td>12.00000</td>\n",
              "      <td>0.000000</td>\n",
              "    </tr>\n",
              "    <tr>\n",
              "      <th>25%</th>\n",
              "      <td>2877.500000</td>\n",
              "      <td>0.000000</td>\n",
              "      <td>100.000000</td>\n",
              "      <td>360.00000</td>\n",
              "      <td>1.000000</td>\n",
              "    </tr>\n",
              "    <tr>\n",
              "      <th>50%</th>\n",
              "      <td>3812.500000</td>\n",
              "      <td>1188.500000</td>\n",
              "      <td>128.000000</td>\n",
              "      <td>360.00000</td>\n",
              "      <td>1.000000</td>\n",
              "    </tr>\n",
              "    <tr>\n",
              "      <th>75%</th>\n",
              "      <td>5795.000000</td>\n",
              "      <td>2297.250000</td>\n",
              "      <td>168.000000</td>\n",
              "      <td>360.00000</td>\n",
              "      <td>1.000000</td>\n",
              "    </tr>\n",
              "    <tr>\n",
              "      <th>max</th>\n",
              "      <td>81000.000000</td>\n",
              "      <td>41667.000000</td>\n",
              "      <td>700.000000</td>\n",
              "      <td>480.00000</td>\n",
              "      <td>1.000000</td>\n",
              "    </tr>\n",
              "  </tbody>\n",
              "</table>\n",
              "</div>\n",
              "      <button class=\"colab-df-convert\" onclick=\"convertToInteractive('df-2e08ddfc-c919-4b65-859c-b4f8a269a207')\"\n",
              "              title=\"Convert this dataframe to an interactive table.\"\n",
              "              style=\"display:none;\">\n",
              "        \n",
              "  <svg xmlns=\"http://www.w3.org/2000/svg\" height=\"24px\"viewBox=\"0 0 24 24\"\n",
              "       width=\"24px\">\n",
              "    <path d=\"M0 0h24v24H0V0z\" fill=\"none\"/>\n",
              "    <path d=\"M18.56 5.44l.94 2.06.94-2.06 2.06-.94-2.06-.94-.94-2.06-.94 2.06-2.06.94zm-11 1L8.5 8.5l.94-2.06 2.06-.94-2.06-.94L8.5 2.5l-.94 2.06-2.06.94zm10 10l.94 2.06.94-2.06 2.06-.94-2.06-.94-.94-2.06-.94 2.06-2.06.94z\"/><path d=\"M17.41 7.96l-1.37-1.37c-.4-.4-.92-.59-1.43-.59-.52 0-1.04.2-1.43.59L10.3 9.45l-7.72 7.72c-.78.78-.78 2.05 0 2.83L4 21.41c.39.39.9.59 1.41.59.51 0 1.02-.2 1.41-.59l7.78-7.78 2.81-2.81c.8-.78.8-2.07 0-2.86zM5.41 20L4 18.59l7.72-7.72 1.47 1.35L5.41 20z\"/>\n",
              "  </svg>\n",
              "      </button>\n",
              "      \n",
              "  <style>\n",
              "    .colab-df-container {\n",
              "      display:flex;\n",
              "      flex-wrap:wrap;\n",
              "      gap: 12px;\n",
              "    }\n",
              "\n",
              "    .colab-df-convert {\n",
              "      background-color: #E8F0FE;\n",
              "      border: none;\n",
              "      border-radius: 50%;\n",
              "      cursor: pointer;\n",
              "      display: none;\n",
              "      fill: #1967D2;\n",
              "      height: 32px;\n",
              "      padding: 0 0 0 0;\n",
              "      width: 32px;\n",
              "    }\n",
              "\n",
              "    .colab-df-convert:hover {\n",
              "      background-color: #E2EBFA;\n",
              "      box-shadow: 0px 1px 2px rgba(60, 64, 67, 0.3), 0px 1px 3px 1px rgba(60, 64, 67, 0.15);\n",
              "      fill: #174EA6;\n",
              "    }\n",
              "\n",
              "    [theme=dark] .colab-df-convert {\n",
              "      background-color: #3B4455;\n",
              "      fill: #D2E3FC;\n",
              "    }\n",
              "\n",
              "    [theme=dark] .colab-df-convert:hover {\n",
              "      background-color: #434B5C;\n",
              "      box-shadow: 0px 1px 3px 1px rgba(0, 0, 0, 0.15);\n",
              "      filter: drop-shadow(0px 1px 2px rgba(0, 0, 0, 0.3));\n",
              "      fill: #FFFFFF;\n",
              "    }\n",
              "  </style>\n",
              "\n",
              "      <script>\n",
              "        const buttonEl =\n",
              "          document.querySelector('#df-2e08ddfc-c919-4b65-859c-b4f8a269a207 button.colab-df-convert');\n",
              "        buttonEl.style.display =\n",
              "          google.colab.kernel.accessAllowed ? 'block' : 'none';\n",
              "\n",
              "        async function convertToInteractive(key) {\n",
              "          const element = document.querySelector('#df-2e08ddfc-c919-4b65-859c-b4f8a269a207');\n",
              "          const dataTable =\n",
              "            await google.colab.kernel.invokeFunction('convertToInteractive',\n",
              "                                                     [key], {});\n",
              "          if (!dataTable) return;\n",
              "\n",
              "          const docLinkHtml = 'Like what you see? Visit the ' +\n",
              "            '<a target=\"_blank\" href=https://colab.research.google.com/notebooks/data_table.ipynb>data table notebook</a>'\n",
              "            + ' to learn more about interactive tables.';\n",
              "          element.innerHTML = '';\n",
              "          dataTable['output_type'] = 'display_data';\n",
              "          await google.colab.output.renderOutput(dataTable, element);\n",
              "          const docLink = document.createElement('div');\n",
              "          docLink.innerHTML = docLinkHtml;\n",
              "          element.appendChild(docLink);\n",
              "        }\n",
              "      </script>\n",
              "    </div>\n",
              "  </div>\n",
              "  "
            ]
          },
          "metadata": {},
          "execution_count": 1033
        }
      ]
    },
    {
      "cell_type": "code",
      "source": [
        "dataset.isnull().sum()"
      ],
      "metadata": {
        "colab": {
          "base_uri": "https://localhost:8080/"
        },
        "id": "5Y7p52oMDiPj",
        "outputId": "52e6e59c-3a72-4bac-eea4-5959d634d5b2"
      },
      "execution_count": 1034,
      "outputs": [
        {
          "output_type": "execute_result",
          "data": {
            "text/plain": [
              "Loan_ID               0\n",
              "Gender               13\n",
              "Married               3\n",
              "Dependents           15\n",
              "Education             0\n",
              "Self_Employed        32\n",
              "ApplicantIncome       0\n",
              "CoapplicantIncome     0\n",
              "LoanAmount           22\n",
              "Loan_Amount_Term     14\n",
              "Credit_History       50\n",
              "Property_Area         0\n",
              "Loan_Status           0\n",
              "dtype: int64"
            ]
          },
          "metadata": {},
          "execution_count": 1034
        }
      ]
    },
    {
      "cell_type": "code",
      "source": [
        "dataset=dataset.drop([\"Loan_ID\"],axis=1)"
      ],
      "metadata": {
        "id": "t22K8rJjD9XB"
      },
      "execution_count": 1035,
      "outputs": []
    },
    {
      "cell_type": "code",
      "source": [
        "dataset[\"Loan_Status\"]=np.where(dataset[\"Loan_Status\"]==\"Y\",1,0)"
      ],
      "metadata": {
        "colab": {
          "base_uri": "https://localhost:8080/",
          "height": 17
        },
        "id": "2tvXOCoXHk9F",
        "outputId": "53a25959-d2df-433c-9f85-6609983bb4c7"
      },
      "execution_count": 1036,
      "outputs": [
        {
          "output_type": "display_data",
          "data": {
            "text/plain": [
              "<IPython.core.display.Javascript object>"
            ],
            "application/javascript": [
              "\n",
              "        if (window._pyforest_update_imports_cell) { window._pyforest_update_imports_cell('from sklearn.linear_model import LassoCV\\nimport plotly.express as px\\nfrom sklearn.linear_model import ElasticNet\\nimport pandas as pd\\nfrom sklearn.preprocessing import PolynomialFeatures\\nimport fastai\\nfrom pathlib import Path\\nimport matplotlib as mpl\\nimport cv2\\nfrom sklearn.preprocessing import MinMaxScaler\\nimport textblob\\nfrom sklearn.manifold import TSNE\\nimport numpy as np\\nfrom sklearn.ensemble import RandomForestRegressor\\nfrom sklearn.linear_model import LinearRegression\\nimport altair as alt\\nfrom sklearn.model_selection import RandomizedSearchCV\\nimport tensorflow as tf\\nfrom openpyxl import load_workbook\\nimport sys\\nimport statistics\\nfrom sklearn.cluster import KMeans\\nfrom sklearn.model_selection import train_test_split\\nfrom sklearn.model_selection import cross_val_score\\nfrom sklearn.ensemble import GradientBoostingRegressor\\nfrom sklearn.feature_extraction.text import CountVectorizer\\nimport lightgbm as lgb\\nfrom sklearn.preprocessing import OneHotEncoder\\nimport nltk\\nimport re\\nimport matplotlib.pyplot as plt\\nimport tqdm\\nfrom sklearn.linear_model import Lasso\\nfrom sklearn.model_selection import KFold\\nfrom sklearn import metrics\\nimport xgboost as xgb\\nfrom sklearn.preprocessing import RobustScaler\\nfrom sklearn.linear_model import ElasticNetCV\\nimport sklearn\\nimport seaborn as sns\\nimport plotly as py\\nimport imutils\\nfrom sklearn.feature_extraction.text import TfidfVectorizer\\nimport pickle\\nfrom sklearn.linear_model import Ridge\\nfrom sklearn import svm\\nfrom sklearn.linear_model import RidgeCV\\nfrom sklearn.decomposition import PCA\\nfrom scipy import stats\\nfrom PIL import Image\\nfrom sklearn.model_selection import GridSearchCV\\nfrom sklearn.ensemble import GradientBoostingClassifier\\nimport spacy\\nfrom sklearn.linear_model import LogisticRegression\\nfrom sklearn.preprocessing import LabelEncoder\\nimport pydot\\nimport torch\\nimport skimage\\nfrom statsmodels.tsa.arima_model import ARIMA\\nfrom scipy import signal as sg\\nfrom sklearn.ensemble import RandomForestClassifier\\nimport statsmodels.api as sm'); }\n",
              "    "
            ]
          },
          "metadata": {}
        }
      ]
    },
    {
      "cell_type": "code",
      "source": [
        "for i in dataset.columns:\n",
        "  dataset[i+\"new\"]=np.where(dataset[i].isnull(),1,0)"
      ],
      "metadata": {
        "colab": {
          "base_uri": "https://localhost:8080/",
          "height": 17
        },
        "id": "FZGdXtWwG5Wf",
        "outputId": "3e6bb78e-a2fc-4276-cf21-be7e9e157f0c"
      },
      "execution_count": 1037,
      "outputs": [
        {
          "output_type": "display_data",
          "data": {
            "text/plain": [
              "<IPython.core.display.Javascript object>"
            ],
            "application/javascript": [
              "\n",
              "        if (window._pyforest_update_imports_cell) { window._pyforest_update_imports_cell('from sklearn.linear_model import LassoCV\\nimport plotly.express as px\\nfrom sklearn.linear_model import ElasticNet\\nimport pandas as pd\\nfrom sklearn.preprocessing import PolynomialFeatures\\nimport fastai\\nfrom pathlib import Path\\nimport matplotlib as mpl\\nimport cv2\\nfrom sklearn.preprocessing import MinMaxScaler\\nimport textblob\\nfrom sklearn.manifold import TSNE\\nimport numpy as np\\nfrom sklearn.ensemble import RandomForestRegressor\\nfrom sklearn.linear_model import LinearRegression\\nimport altair as alt\\nfrom sklearn.model_selection import RandomizedSearchCV\\nimport tensorflow as tf\\nfrom openpyxl import load_workbook\\nimport sys\\nimport statistics\\nfrom sklearn.cluster import KMeans\\nfrom sklearn.model_selection import train_test_split\\nfrom sklearn.model_selection import cross_val_score\\nfrom sklearn.ensemble import GradientBoostingRegressor\\nfrom sklearn.feature_extraction.text import CountVectorizer\\nimport lightgbm as lgb\\nfrom sklearn.preprocessing import OneHotEncoder\\nimport nltk\\nimport re\\nimport matplotlib.pyplot as plt\\nimport tqdm\\nfrom sklearn.linear_model import Lasso\\nfrom sklearn.model_selection import KFold\\nfrom sklearn import metrics\\nimport xgboost as xgb\\nfrom sklearn.preprocessing import RobustScaler\\nfrom sklearn.linear_model import ElasticNetCV\\nimport sklearn\\nimport seaborn as sns\\nimport plotly as py\\nimport imutils\\nfrom sklearn.feature_extraction.text import TfidfVectorizer\\nimport pickle\\nfrom sklearn.linear_model import Ridge\\nfrom sklearn import svm\\nfrom sklearn.linear_model import RidgeCV\\nfrom sklearn.decomposition import PCA\\nfrom scipy import stats\\nfrom PIL import Image\\nfrom sklearn.model_selection import GridSearchCV\\nfrom sklearn.ensemble import GradientBoostingClassifier\\nimport spacy\\nfrom sklearn.linear_model import LogisticRegression\\nfrom sklearn.preprocessing import LabelEncoder\\nimport pydot\\nimport torch\\nimport skimage\\nfrom statsmodels.tsa.arima_model import ARIMA\\nfrom scipy import signal as sg\\nfrom sklearn.ensemble import RandomForestClassifier\\nimport statsmodels.api as sm'); }\n",
              "    "
            ]
          },
          "metadata": {}
        },
        {
          "output_type": "display_data",
          "data": {
            "text/plain": [
              "<IPython.core.display.Javascript object>"
            ],
            "application/javascript": [
              "\n",
              "        if (window._pyforest_update_imports_cell) { window._pyforest_update_imports_cell('from sklearn.linear_model import LassoCV\\nimport plotly.express as px\\nfrom sklearn.linear_model import ElasticNet\\nimport pandas as pd\\nfrom sklearn.preprocessing import PolynomialFeatures\\nimport fastai\\nfrom pathlib import Path\\nimport matplotlib as mpl\\nimport cv2\\nfrom sklearn.preprocessing import MinMaxScaler\\nimport textblob\\nfrom sklearn.manifold import TSNE\\nimport numpy as np\\nfrom sklearn.ensemble import RandomForestRegressor\\nfrom sklearn.linear_model import LinearRegression\\nimport altair as alt\\nfrom sklearn.model_selection import RandomizedSearchCV\\nimport tensorflow as tf\\nfrom openpyxl import load_workbook\\nimport sys\\nimport statistics\\nfrom sklearn.cluster import KMeans\\nfrom sklearn.model_selection import train_test_split\\nfrom sklearn.model_selection import cross_val_score\\nfrom sklearn.ensemble import GradientBoostingRegressor\\nfrom sklearn.feature_extraction.text import CountVectorizer\\nimport lightgbm as lgb\\nfrom sklearn.preprocessing import OneHotEncoder\\nimport nltk\\nimport re\\nimport matplotlib.pyplot as plt\\nimport tqdm\\nfrom sklearn.linear_model import Lasso\\nfrom sklearn.model_selection import KFold\\nfrom sklearn import metrics\\nimport xgboost as xgb\\nfrom sklearn.preprocessing import RobustScaler\\nfrom sklearn.linear_model import ElasticNetCV\\nimport sklearn\\nimport seaborn as sns\\nimport plotly as py\\nimport imutils\\nfrom sklearn.feature_extraction.text import TfidfVectorizer\\nimport pickle\\nfrom sklearn.linear_model import Ridge\\nfrom sklearn import svm\\nfrom sklearn.linear_model import RidgeCV\\nfrom sklearn.decomposition import PCA\\nfrom scipy import stats\\nfrom PIL import Image\\nfrom sklearn.model_selection import GridSearchCV\\nfrom sklearn.ensemble import GradientBoostingClassifier\\nimport spacy\\nfrom sklearn.linear_model import LogisticRegression\\nfrom sklearn.preprocessing import LabelEncoder\\nimport pydot\\nimport torch\\nimport skimage\\nfrom statsmodels.tsa.arima_model import ARIMA\\nfrom scipy import signal as sg\\nfrom sklearn.ensemble import RandomForestClassifier\\nimport statsmodels.api as sm'); }\n",
              "    "
            ]
          },
          "metadata": {}
        },
        {
          "output_type": "display_data",
          "data": {
            "text/plain": [
              "<IPython.core.display.Javascript object>"
            ],
            "application/javascript": [
              "\n",
              "        if (window._pyforest_update_imports_cell) { window._pyforest_update_imports_cell('from sklearn.linear_model import LassoCV\\nimport plotly.express as px\\nfrom sklearn.linear_model import ElasticNet\\nimport pandas as pd\\nfrom sklearn.preprocessing import PolynomialFeatures\\nimport fastai\\nfrom pathlib import Path\\nimport matplotlib as mpl\\nimport cv2\\nfrom sklearn.preprocessing import MinMaxScaler\\nimport textblob\\nfrom sklearn.manifold import TSNE\\nimport numpy as np\\nfrom sklearn.ensemble import RandomForestRegressor\\nfrom sklearn.linear_model import LinearRegression\\nimport altair as alt\\nfrom sklearn.model_selection import RandomizedSearchCV\\nimport tensorflow as tf\\nfrom openpyxl import load_workbook\\nimport sys\\nimport statistics\\nfrom sklearn.cluster import KMeans\\nfrom sklearn.model_selection import train_test_split\\nfrom sklearn.model_selection import cross_val_score\\nfrom sklearn.ensemble import GradientBoostingRegressor\\nfrom sklearn.feature_extraction.text import CountVectorizer\\nimport lightgbm as lgb\\nfrom sklearn.preprocessing import OneHotEncoder\\nimport nltk\\nimport re\\nimport matplotlib.pyplot as plt\\nimport tqdm\\nfrom sklearn.linear_model import Lasso\\nfrom sklearn.model_selection import KFold\\nfrom sklearn import metrics\\nimport xgboost as xgb\\nfrom sklearn.preprocessing import RobustScaler\\nfrom sklearn.linear_model import ElasticNetCV\\nimport sklearn\\nimport seaborn as sns\\nimport plotly as py\\nimport imutils\\nfrom sklearn.feature_extraction.text import TfidfVectorizer\\nimport pickle\\nfrom sklearn.linear_model import Ridge\\nfrom sklearn import svm\\nfrom sklearn.linear_model import RidgeCV\\nfrom sklearn.decomposition import PCA\\nfrom scipy import stats\\nfrom PIL import Image\\nfrom sklearn.model_selection import GridSearchCV\\nfrom sklearn.ensemble import GradientBoostingClassifier\\nimport spacy\\nfrom sklearn.linear_model import LogisticRegression\\nfrom sklearn.preprocessing import LabelEncoder\\nimport pydot\\nimport torch\\nimport skimage\\nfrom statsmodels.tsa.arima_model import ARIMA\\nfrom scipy import signal as sg\\nfrom sklearn.ensemble import RandomForestClassifier\\nimport statsmodels.api as sm'); }\n",
              "    "
            ]
          },
          "metadata": {}
        },
        {
          "output_type": "display_data",
          "data": {
            "text/plain": [
              "<IPython.core.display.Javascript object>"
            ],
            "application/javascript": [
              "\n",
              "        if (window._pyforest_update_imports_cell) { window._pyforest_update_imports_cell('from sklearn.linear_model import LassoCV\\nimport plotly.express as px\\nfrom sklearn.linear_model import ElasticNet\\nimport pandas as pd\\nfrom sklearn.preprocessing import PolynomialFeatures\\nimport fastai\\nfrom pathlib import Path\\nimport matplotlib as mpl\\nimport cv2\\nfrom sklearn.preprocessing import MinMaxScaler\\nimport textblob\\nfrom sklearn.manifold import TSNE\\nimport numpy as np\\nfrom sklearn.ensemble import RandomForestRegressor\\nfrom sklearn.linear_model import LinearRegression\\nimport altair as alt\\nfrom sklearn.model_selection import RandomizedSearchCV\\nimport tensorflow as tf\\nfrom openpyxl import load_workbook\\nimport sys\\nimport statistics\\nfrom sklearn.cluster import KMeans\\nfrom sklearn.model_selection import train_test_split\\nfrom sklearn.model_selection import cross_val_score\\nfrom sklearn.ensemble import GradientBoostingRegressor\\nfrom sklearn.feature_extraction.text import CountVectorizer\\nimport lightgbm as lgb\\nfrom sklearn.preprocessing import OneHotEncoder\\nimport nltk\\nimport re\\nimport matplotlib.pyplot as plt\\nimport tqdm\\nfrom sklearn.linear_model import Lasso\\nfrom sklearn.model_selection import KFold\\nfrom sklearn import metrics\\nimport xgboost as xgb\\nfrom sklearn.preprocessing import RobustScaler\\nfrom sklearn.linear_model import ElasticNetCV\\nimport sklearn\\nimport seaborn as sns\\nimport plotly as py\\nimport imutils\\nfrom sklearn.feature_extraction.text import TfidfVectorizer\\nimport pickle\\nfrom sklearn.linear_model import Ridge\\nfrom sklearn import svm\\nfrom sklearn.linear_model import RidgeCV\\nfrom sklearn.decomposition import PCA\\nfrom scipy import stats\\nfrom PIL import Image\\nfrom sklearn.model_selection import GridSearchCV\\nfrom sklearn.ensemble import GradientBoostingClassifier\\nimport spacy\\nfrom sklearn.linear_model import LogisticRegression\\nfrom sklearn.preprocessing import LabelEncoder\\nimport pydot\\nimport torch\\nimport skimage\\nfrom statsmodels.tsa.arima_model import ARIMA\\nfrom scipy import signal as sg\\nfrom sklearn.ensemble import RandomForestClassifier\\nimport statsmodels.api as sm'); }\n",
              "    "
            ]
          },
          "metadata": {}
        },
        {
          "output_type": "display_data",
          "data": {
            "text/plain": [
              "<IPython.core.display.Javascript object>"
            ],
            "application/javascript": [
              "\n",
              "        if (window._pyforest_update_imports_cell) { window._pyforest_update_imports_cell('from sklearn.linear_model import LassoCV\\nimport plotly.express as px\\nfrom sklearn.linear_model import ElasticNet\\nimport pandas as pd\\nfrom sklearn.preprocessing import PolynomialFeatures\\nimport fastai\\nfrom pathlib import Path\\nimport matplotlib as mpl\\nimport cv2\\nfrom sklearn.preprocessing import MinMaxScaler\\nimport textblob\\nfrom sklearn.manifold import TSNE\\nimport numpy as np\\nfrom sklearn.ensemble import RandomForestRegressor\\nfrom sklearn.linear_model import LinearRegression\\nimport altair as alt\\nfrom sklearn.model_selection import RandomizedSearchCV\\nimport tensorflow as tf\\nfrom openpyxl import load_workbook\\nimport sys\\nimport statistics\\nfrom sklearn.cluster import KMeans\\nfrom sklearn.model_selection import train_test_split\\nfrom sklearn.model_selection import cross_val_score\\nfrom sklearn.ensemble import GradientBoostingRegressor\\nfrom sklearn.feature_extraction.text import CountVectorizer\\nimport lightgbm as lgb\\nfrom sklearn.preprocessing import OneHotEncoder\\nimport nltk\\nimport re\\nimport matplotlib.pyplot as plt\\nimport tqdm\\nfrom sklearn.linear_model import Lasso\\nfrom sklearn.model_selection import KFold\\nfrom sklearn import metrics\\nimport xgboost as xgb\\nfrom sklearn.preprocessing import RobustScaler\\nfrom sklearn.linear_model import ElasticNetCV\\nimport sklearn\\nimport seaborn as sns\\nimport plotly as py\\nimport imutils\\nfrom sklearn.feature_extraction.text import TfidfVectorizer\\nimport pickle\\nfrom sklearn.linear_model import Ridge\\nfrom sklearn import svm\\nfrom sklearn.linear_model import RidgeCV\\nfrom sklearn.decomposition import PCA\\nfrom scipy import stats\\nfrom PIL import Image\\nfrom sklearn.model_selection import GridSearchCV\\nfrom sklearn.ensemble import GradientBoostingClassifier\\nimport spacy\\nfrom sklearn.linear_model import LogisticRegression\\nfrom sklearn.preprocessing import LabelEncoder\\nimport pydot\\nimport torch\\nimport skimage\\nfrom statsmodels.tsa.arima_model import ARIMA\\nfrom scipy import signal as sg\\nfrom sklearn.ensemble import RandomForestClassifier\\nimport statsmodels.api as sm'); }\n",
              "    "
            ]
          },
          "metadata": {}
        },
        {
          "output_type": "display_data",
          "data": {
            "text/plain": [
              "<IPython.core.display.Javascript object>"
            ],
            "application/javascript": [
              "\n",
              "        if (window._pyforest_update_imports_cell) { window._pyforest_update_imports_cell('from sklearn.linear_model import LassoCV\\nimport plotly.express as px\\nfrom sklearn.linear_model import ElasticNet\\nimport pandas as pd\\nfrom sklearn.preprocessing import PolynomialFeatures\\nimport fastai\\nfrom pathlib import Path\\nimport matplotlib as mpl\\nimport cv2\\nfrom sklearn.preprocessing import MinMaxScaler\\nimport textblob\\nfrom sklearn.manifold import TSNE\\nimport numpy as np\\nfrom sklearn.ensemble import RandomForestRegressor\\nfrom sklearn.linear_model import LinearRegression\\nimport altair as alt\\nfrom sklearn.model_selection import RandomizedSearchCV\\nimport tensorflow as tf\\nfrom openpyxl import load_workbook\\nimport sys\\nimport statistics\\nfrom sklearn.cluster import KMeans\\nfrom sklearn.model_selection import train_test_split\\nfrom sklearn.model_selection import cross_val_score\\nfrom sklearn.ensemble import GradientBoostingRegressor\\nfrom sklearn.feature_extraction.text import CountVectorizer\\nimport lightgbm as lgb\\nfrom sklearn.preprocessing import OneHotEncoder\\nimport nltk\\nimport re\\nimport matplotlib.pyplot as plt\\nimport tqdm\\nfrom sklearn.linear_model import Lasso\\nfrom sklearn.model_selection import KFold\\nfrom sklearn import metrics\\nimport xgboost as xgb\\nfrom sklearn.preprocessing import RobustScaler\\nfrom sklearn.linear_model import ElasticNetCV\\nimport sklearn\\nimport seaborn as sns\\nimport plotly as py\\nimport imutils\\nfrom sklearn.feature_extraction.text import TfidfVectorizer\\nimport pickle\\nfrom sklearn.linear_model import Ridge\\nfrom sklearn import svm\\nfrom sklearn.linear_model import RidgeCV\\nfrom sklearn.decomposition import PCA\\nfrom scipy import stats\\nfrom PIL import Image\\nfrom sklearn.model_selection import GridSearchCV\\nfrom sklearn.ensemble import GradientBoostingClassifier\\nimport spacy\\nfrom sklearn.linear_model import LogisticRegression\\nfrom sklearn.preprocessing import LabelEncoder\\nimport pydot\\nimport torch\\nimport skimage\\nfrom statsmodels.tsa.arima_model import ARIMA\\nfrom scipy import signal as sg\\nfrom sklearn.ensemble import RandomForestClassifier\\nimport statsmodels.api as sm'); }\n",
              "    "
            ]
          },
          "metadata": {}
        },
        {
          "output_type": "display_data",
          "data": {
            "text/plain": [
              "<IPython.core.display.Javascript object>"
            ],
            "application/javascript": [
              "\n",
              "        if (window._pyforest_update_imports_cell) { window._pyforest_update_imports_cell('from sklearn.linear_model import LassoCV\\nimport plotly.express as px\\nfrom sklearn.linear_model import ElasticNet\\nimport pandas as pd\\nfrom sklearn.preprocessing import PolynomialFeatures\\nimport fastai\\nfrom pathlib import Path\\nimport matplotlib as mpl\\nimport cv2\\nfrom sklearn.preprocessing import MinMaxScaler\\nimport textblob\\nfrom sklearn.manifold import TSNE\\nimport numpy as np\\nfrom sklearn.ensemble import RandomForestRegressor\\nfrom sklearn.linear_model import LinearRegression\\nimport altair as alt\\nfrom sklearn.model_selection import RandomizedSearchCV\\nimport tensorflow as tf\\nfrom openpyxl import load_workbook\\nimport sys\\nimport statistics\\nfrom sklearn.cluster import KMeans\\nfrom sklearn.model_selection import train_test_split\\nfrom sklearn.model_selection import cross_val_score\\nfrom sklearn.ensemble import GradientBoostingRegressor\\nfrom sklearn.feature_extraction.text import CountVectorizer\\nimport lightgbm as lgb\\nfrom sklearn.preprocessing import OneHotEncoder\\nimport nltk\\nimport re\\nimport matplotlib.pyplot as plt\\nimport tqdm\\nfrom sklearn.linear_model import Lasso\\nfrom sklearn.model_selection import KFold\\nfrom sklearn import metrics\\nimport xgboost as xgb\\nfrom sklearn.preprocessing import RobustScaler\\nfrom sklearn.linear_model import ElasticNetCV\\nimport sklearn\\nimport seaborn as sns\\nimport plotly as py\\nimport imutils\\nfrom sklearn.feature_extraction.text import TfidfVectorizer\\nimport pickle\\nfrom sklearn.linear_model import Ridge\\nfrom sklearn import svm\\nfrom sklearn.linear_model import RidgeCV\\nfrom sklearn.decomposition import PCA\\nfrom scipy import stats\\nfrom PIL import Image\\nfrom sklearn.model_selection import GridSearchCV\\nfrom sklearn.ensemble import GradientBoostingClassifier\\nimport spacy\\nfrom sklearn.linear_model import LogisticRegression\\nfrom sklearn.preprocessing import LabelEncoder\\nimport pydot\\nimport torch\\nimport skimage\\nfrom statsmodels.tsa.arima_model import ARIMA\\nfrom scipy import signal as sg\\nfrom sklearn.ensemble import RandomForestClassifier\\nimport statsmodels.api as sm'); }\n",
              "    "
            ]
          },
          "metadata": {}
        },
        {
          "output_type": "display_data",
          "data": {
            "text/plain": [
              "<IPython.core.display.Javascript object>"
            ],
            "application/javascript": [
              "\n",
              "        if (window._pyforest_update_imports_cell) { window._pyforest_update_imports_cell('from sklearn.linear_model import LassoCV\\nimport plotly.express as px\\nfrom sklearn.linear_model import ElasticNet\\nimport pandas as pd\\nfrom sklearn.preprocessing import PolynomialFeatures\\nimport fastai\\nfrom pathlib import Path\\nimport matplotlib as mpl\\nimport cv2\\nfrom sklearn.preprocessing import MinMaxScaler\\nimport textblob\\nfrom sklearn.manifold import TSNE\\nimport numpy as np\\nfrom sklearn.ensemble import RandomForestRegressor\\nfrom sklearn.linear_model import LinearRegression\\nimport altair as alt\\nfrom sklearn.model_selection import RandomizedSearchCV\\nimport tensorflow as tf\\nfrom openpyxl import load_workbook\\nimport sys\\nimport statistics\\nfrom sklearn.cluster import KMeans\\nfrom sklearn.model_selection import train_test_split\\nfrom sklearn.model_selection import cross_val_score\\nfrom sklearn.ensemble import GradientBoostingRegressor\\nfrom sklearn.feature_extraction.text import CountVectorizer\\nimport lightgbm as lgb\\nfrom sklearn.preprocessing import OneHotEncoder\\nimport nltk\\nimport re\\nimport matplotlib.pyplot as plt\\nimport tqdm\\nfrom sklearn.linear_model import Lasso\\nfrom sklearn.model_selection import KFold\\nfrom sklearn import metrics\\nimport xgboost as xgb\\nfrom sklearn.preprocessing import RobustScaler\\nfrom sklearn.linear_model import ElasticNetCV\\nimport sklearn\\nimport seaborn as sns\\nimport plotly as py\\nimport imutils\\nfrom sklearn.feature_extraction.text import TfidfVectorizer\\nimport pickle\\nfrom sklearn.linear_model import Ridge\\nfrom sklearn import svm\\nfrom sklearn.linear_model import RidgeCV\\nfrom sklearn.decomposition import PCA\\nfrom scipy import stats\\nfrom PIL import Image\\nfrom sklearn.model_selection import GridSearchCV\\nfrom sklearn.ensemble import GradientBoostingClassifier\\nimport spacy\\nfrom sklearn.linear_model import LogisticRegression\\nfrom sklearn.preprocessing import LabelEncoder\\nimport pydot\\nimport torch\\nimport skimage\\nfrom statsmodels.tsa.arima_model import ARIMA\\nfrom scipy import signal as sg\\nfrom sklearn.ensemble import RandomForestClassifier\\nimport statsmodels.api as sm'); }\n",
              "    "
            ]
          },
          "metadata": {}
        },
        {
          "output_type": "display_data",
          "data": {
            "text/plain": [
              "<IPython.core.display.Javascript object>"
            ],
            "application/javascript": [
              "\n",
              "        if (window._pyforest_update_imports_cell) { window._pyforest_update_imports_cell('from sklearn.linear_model import LassoCV\\nimport plotly.express as px\\nfrom sklearn.linear_model import ElasticNet\\nimport pandas as pd\\nfrom sklearn.preprocessing import PolynomialFeatures\\nimport fastai\\nfrom pathlib import Path\\nimport matplotlib as mpl\\nimport cv2\\nfrom sklearn.preprocessing import MinMaxScaler\\nimport textblob\\nfrom sklearn.manifold import TSNE\\nimport numpy as np\\nfrom sklearn.ensemble import RandomForestRegressor\\nfrom sklearn.linear_model import LinearRegression\\nimport altair as alt\\nfrom sklearn.model_selection import RandomizedSearchCV\\nimport tensorflow as tf\\nfrom openpyxl import load_workbook\\nimport sys\\nimport statistics\\nfrom sklearn.cluster import KMeans\\nfrom sklearn.model_selection import train_test_split\\nfrom sklearn.model_selection import cross_val_score\\nfrom sklearn.ensemble import GradientBoostingRegressor\\nfrom sklearn.feature_extraction.text import CountVectorizer\\nimport lightgbm as lgb\\nfrom sklearn.preprocessing import OneHotEncoder\\nimport nltk\\nimport re\\nimport matplotlib.pyplot as plt\\nimport tqdm\\nfrom sklearn.linear_model import Lasso\\nfrom sklearn.model_selection import KFold\\nfrom sklearn import metrics\\nimport xgboost as xgb\\nfrom sklearn.preprocessing import RobustScaler\\nfrom sklearn.linear_model import ElasticNetCV\\nimport sklearn\\nimport seaborn as sns\\nimport plotly as py\\nimport imutils\\nfrom sklearn.feature_extraction.text import TfidfVectorizer\\nimport pickle\\nfrom sklearn.linear_model import Ridge\\nfrom sklearn import svm\\nfrom sklearn.linear_model import RidgeCV\\nfrom sklearn.decomposition import PCA\\nfrom scipy import stats\\nfrom PIL import Image\\nfrom sklearn.model_selection import GridSearchCV\\nfrom sklearn.ensemble import GradientBoostingClassifier\\nimport spacy\\nfrom sklearn.linear_model import LogisticRegression\\nfrom sklearn.preprocessing import LabelEncoder\\nimport pydot\\nimport torch\\nimport skimage\\nfrom statsmodels.tsa.arima_model import ARIMA\\nfrom scipy import signal as sg\\nfrom sklearn.ensemble import RandomForestClassifier\\nimport statsmodels.api as sm'); }\n",
              "    "
            ]
          },
          "metadata": {}
        },
        {
          "output_type": "display_data",
          "data": {
            "text/plain": [
              "<IPython.core.display.Javascript object>"
            ],
            "application/javascript": [
              "\n",
              "        if (window._pyforest_update_imports_cell) { window._pyforest_update_imports_cell('from sklearn.linear_model import LassoCV\\nimport plotly.express as px\\nfrom sklearn.linear_model import ElasticNet\\nimport pandas as pd\\nfrom sklearn.preprocessing import PolynomialFeatures\\nimport fastai\\nfrom pathlib import Path\\nimport matplotlib as mpl\\nimport cv2\\nfrom sklearn.preprocessing import MinMaxScaler\\nimport textblob\\nfrom sklearn.manifold import TSNE\\nimport numpy as np\\nfrom sklearn.ensemble import RandomForestRegressor\\nfrom sklearn.linear_model import LinearRegression\\nimport altair as alt\\nfrom sklearn.model_selection import RandomizedSearchCV\\nimport tensorflow as tf\\nfrom openpyxl import load_workbook\\nimport sys\\nimport statistics\\nfrom sklearn.cluster import KMeans\\nfrom sklearn.model_selection import train_test_split\\nfrom sklearn.model_selection import cross_val_score\\nfrom sklearn.ensemble import GradientBoostingRegressor\\nfrom sklearn.feature_extraction.text import CountVectorizer\\nimport lightgbm as lgb\\nfrom sklearn.preprocessing import OneHotEncoder\\nimport nltk\\nimport re\\nimport matplotlib.pyplot as plt\\nimport tqdm\\nfrom sklearn.linear_model import Lasso\\nfrom sklearn.model_selection import KFold\\nfrom sklearn import metrics\\nimport xgboost as xgb\\nfrom sklearn.preprocessing import RobustScaler\\nfrom sklearn.linear_model import ElasticNetCV\\nimport sklearn\\nimport seaborn as sns\\nimport plotly as py\\nimport imutils\\nfrom sklearn.feature_extraction.text import TfidfVectorizer\\nimport pickle\\nfrom sklearn.linear_model import Ridge\\nfrom sklearn import svm\\nfrom sklearn.linear_model import RidgeCV\\nfrom sklearn.decomposition import PCA\\nfrom scipy import stats\\nfrom PIL import Image\\nfrom sklearn.model_selection import GridSearchCV\\nfrom sklearn.ensemble import GradientBoostingClassifier\\nimport spacy\\nfrom sklearn.linear_model import LogisticRegression\\nfrom sklearn.preprocessing import LabelEncoder\\nimport pydot\\nimport torch\\nimport skimage\\nfrom statsmodels.tsa.arima_model import ARIMA\\nfrom scipy import signal as sg\\nfrom sklearn.ensemble import RandomForestClassifier\\nimport statsmodels.api as sm'); }\n",
              "    "
            ]
          },
          "metadata": {}
        },
        {
          "output_type": "display_data",
          "data": {
            "text/plain": [
              "<IPython.core.display.Javascript object>"
            ],
            "application/javascript": [
              "\n",
              "        if (window._pyforest_update_imports_cell) { window._pyforest_update_imports_cell('from sklearn.linear_model import LassoCV\\nimport plotly.express as px\\nfrom sklearn.linear_model import ElasticNet\\nimport pandas as pd\\nfrom sklearn.preprocessing import PolynomialFeatures\\nimport fastai\\nfrom pathlib import Path\\nimport matplotlib as mpl\\nimport cv2\\nfrom sklearn.preprocessing import MinMaxScaler\\nimport textblob\\nfrom sklearn.manifold import TSNE\\nimport numpy as np\\nfrom sklearn.ensemble import RandomForestRegressor\\nfrom sklearn.linear_model import LinearRegression\\nimport altair as alt\\nfrom sklearn.model_selection import RandomizedSearchCV\\nimport tensorflow as tf\\nfrom openpyxl import load_workbook\\nimport sys\\nimport statistics\\nfrom sklearn.cluster import KMeans\\nfrom sklearn.model_selection import train_test_split\\nfrom sklearn.model_selection import cross_val_score\\nfrom sklearn.ensemble import GradientBoostingRegressor\\nfrom sklearn.feature_extraction.text import CountVectorizer\\nimport lightgbm as lgb\\nfrom sklearn.preprocessing import OneHotEncoder\\nimport nltk\\nimport re\\nimport matplotlib.pyplot as plt\\nimport tqdm\\nfrom sklearn.linear_model import Lasso\\nfrom sklearn.model_selection import KFold\\nfrom sklearn import metrics\\nimport xgboost as xgb\\nfrom sklearn.preprocessing import RobustScaler\\nfrom sklearn.linear_model import ElasticNetCV\\nimport sklearn\\nimport seaborn as sns\\nimport plotly as py\\nimport imutils\\nfrom sklearn.feature_extraction.text import TfidfVectorizer\\nimport pickle\\nfrom sklearn.linear_model import Ridge\\nfrom sklearn import svm\\nfrom sklearn.linear_model import RidgeCV\\nfrom sklearn.decomposition import PCA\\nfrom scipy import stats\\nfrom PIL import Image\\nfrom sklearn.model_selection import GridSearchCV\\nfrom sklearn.ensemble import GradientBoostingClassifier\\nimport spacy\\nfrom sklearn.linear_model import LogisticRegression\\nfrom sklearn.preprocessing import LabelEncoder\\nimport pydot\\nimport torch\\nimport skimage\\nfrom statsmodels.tsa.arima_model import ARIMA\\nfrom scipy import signal as sg\\nfrom sklearn.ensemble import RandomForestClassifier\\nimport statsmodels.api as sm'); }\n",
              "    "
            ]
          },
          "metadata": {}
        },
        {
          "output_type": "display_data",
          "data": {
            "text/plain": [
              "<IPython.core.display.Javascript object>"
            ],
            "application/javascript": [
              "\n",
              "        if (window._pyforest_update_imports_cell) { window._pyforest_update_imports_cell('from sklearn.linear_model import LassoCV\\nimport plotly.express as px\\nfrom sklearn.linear_model import ElasticNet\\nimport pandas as pd\\nfrom sklearn.preprocessing import PolynomialFeatures\\nimport fastai\\nfrom pathlib import Path\\nimport matplotlib as mpl\\nimport cv2\\nfrom sklearn.preprocessing import MinMaxScaler\\nimport textblob\\nfrom sklearn.manifold import TSNE\\nimport numpy as np\\nfrom sklearn.ensemble import RandomForestRegressor\\nfrom sklearn.linear_model import LinearRegression\\nimport altair as alt\\nfrom sklearn.model_selection import RandomizedSearchCV\\nimport tensorflow as tf\\nfrom openpyxl import load_workbook\\nimport sys\\nimport statistics\\nfrom sklearn.cluster import KMeans\\nfrom sklearn.model_selection import train_test_split\\nfrom sklearn.model_selection import cross_val_score\\nfrom sklearn.ensemble import GradientBoostingRegressor\\nfrom sklearn.feature_extraction.text import CountVectorizer\\nimport lightgbm as lgb\\nfrom sklearn.preprocessing import OneHotEncoder\\nimport nltk\\nimport re\\nimport matplotlib.pyplot as plt\\nimport tqdm\\nfrom sklearn.linear_model import Lasso\\nfrom sklearn.model_selection import KFold\\nfrom sklearn import metrics\\nimport xgboost as xgb\\nfrom sklearn.preprocessing import RobustScaler\\nfrom sklearn.linear_model import ElasticNetCV\\nimport sklearn\\nimport seaborn as sns\\nimport plotly as py\\nimport imutils\\nfrom sklearn.feature_extraction.text import TfidfVectorizer\\nimport pickle\\nfrom sklearn.linear_model import Ridge\\nfrom sklearn import svm\\nfrom sklearn.linear_model import RidgeCV\\nfrom sklearn.decomposition import PCA\\nfrom scipy import stats\\nfrom PIL import Image\\nfrom sklearn.model_selection import GridSearchCV\\nfrom sklearn.ensemble import GradientBoostingClassifier\\nimport spacy\\nfrom sklearn.linear_model import LogisticRegression\\nfrom sklearn.preprocessing import LabelEncoder\\nimport pydot\\nimport torch\\nimport skimage\\nfrom statsmodels.tsa.arima_model import ARIMA\\nfrom scipy import signal as sg\\nfrom sklearn.ensemble import RandomForestClassifier\\nimport statsmodels.api as sm'); }\n",
              "    "
            ]
          },
          "metadata": {}
        }
      ]
    },
    {
      "cell_type": "code",
      "source": [
        "dataset.groupby(['Gendernew'])[\"Loan_Status\"].mean().plot.bar()"
      ],
      "metadata": {
        "colab": {
          "base_uri": "https://localhost:8080/",
          "height": 294
        },
        "id": "J4LilyFbEPCY",
        "outputId": "b8bd31d5-7bb9-4cfb-ac1a-d141c4cb4c40"
      },
      "execution_count": 1038,
      "outputs": [
        {
          "output_type": "execute_result",
          "data": {
            "text/plain": [
              "<matplotlib.axes._subplots.AxesSubplot at 0x7f2b8a1a9b10>"
            ]
          },
          "metadata": {},
          "execution_count": 1038
        },
        {
          "output_type": "display_data",
          "data": {
            "text/plain": [
              "<Figure size 432x288 with 1 Axes>"
            ],
            "image/png": "[encoded data removed]"
          },
          "metadata": {
            "needs_background": "light"
          }
        }
      ]
    },
    {
      "cell_type": "code",
      "source": [
        "dataset.groupby(['Marriednew'])[\"Loan_Status\"].mean().plot.bar()"
      ],
      "metadata": {
        "colab": {
          "base_uri": "https://localhost:8080/",
          "height": 294
        },
        "id": "uh-sVbN5FOzm",
        "outputId": "b683de7b-7459-412a-b48d-8ae04fa6c7f5"
      },
      "execution_count": 1039,
      "outputs": [
        {
          "output_type": "execute_result",
          "data": {
            "text/plain": [
              "<matplotlib.axes._subplots.AxesSubplot at 0x7f2b8a101e50>"
            ]
          },
          "metadata": {},
          "execution_count": 1039
        },
        {
          "output_type": "display_data",
          "data": {
            "text/plain": [
              "<Figure size 432x288 with 1 Axes>"
            ],
            "image/png": "[encoded data removed]"
          },
          "metadata": {
            "needs_background": "light"
          }
        }
      ]
    },
    {
      "cell_type": "code",
      "source": [
        "dataset.groupby(['Dependentsnew'])[\"Loan_Status\"].mean().plot.bar()"
      ],
      "metadata": {
        "colab": {
          "base_uri": "https://localhost:8080/",
          "height": 294
        },
        "id": "6IS7bf0PH___",
        "outputId": "136bf98a-8323-4699-85d8-2bd24f1f5ab6"
      },
      "execution_count": 1040,
      "outputs": [
        {
          "output_type": "execute_result",
          "data": {
            "text/plain": [
              "<matplotlib.axes._subplots.AxesSubplot at 0x7f2b8a0bed50>"
            ]
          },
          "metadata": {},
          "execution_count": 1040
        },
        {
          "output_type": "display_data",
          "data": {
            "text/plain": [
              "<Figure size 432x288 with 1 Axes>"
            ],
            "image/png": "[encoded data removed]"
          },
          "metadata": {
            "needs_background": "light"
          }
        }
      ]
    },
    {
      "cell_type": "code",
      "source": [
        "dataset.groupby(['Self_Employednew'])[\"Loan_Status\"].mean().plot.bar()"
      ],
      "metadata": {
        "colab": {
          "base_uri": "https://localhost:8080/",
          "height": 295
        },
        "id": "AY9bAAr0IFhu",
        "outputId": "03d4596e-c8e2-429a-ab4a-e69981e32e16"
      },
      "execution_count": 1041,
      "outputs": [
        {
          "output_type": "execute_result",
          "data": {
            "text/plain": [
              "<matplotlib.axes._subplots.AxesSubplot at 0x7f2b5927a490>"
            ]
          },
          "metadata": {},
          "execution_count": 1041
        },
        {
          "output_type": "display_data",
          "data": {
            "text/plain": [
              "<Figure size 432x288 with 1 Axes>"
            ],
            "image/png": "[encoded data removed]"
          },
          "metadata": {
            "needs_background": "light"
          }
        }
      ]
    },
    {
      "cell_type": "code",
      "source": [
        "dataset.groupby(['LoanAmountnew'])[\"Loan_Status\"].mean().plot.bar()"
      ],
      "metadata": {
        "colab": {
          "base_uri": "https://localhost:8080/",
          "height": 294
        },
        "id": "iayDerbbIJ6F",
        "outputId": "7aa30649-6017-43aa-c9b0-56b4c34014ae"
      },
      "execution_count": 1042,
      "outputs": [
        {
          "output_type": "execute_result",
          "data": {
            "text/plain": [
              "<matplotlib.axes._subplots.AxesSubplot at 0x7f2b8a0b2250>"
            ]
          },
          "metadata": {},
          "execution_count": 1042
        },
        {
          "output_type": "display_data",
          "data": {
            "text/plain": [
              "<Figure size 432x288 with 1 Axes>"
            ],
            "image/png": "[encoded data removed]"
          },
          "metadata": {
            "needs_background": "light"
          }
        }
      ]
    },
    {
      "cell_type": "code",
      "source": [
        "dataset.groupby(['Loan_Amount_Termnew'])[\"Loan_Status\"].mean().plot.bar()"
      ],
      "metadata": {
        "colab": {
          "base_uri": "https://localhost:8080/",
          "height": 295
        },
        "id": "XyZewVSVIREh",
        "outputId": "860c6b5b-2e43-4e43-dc1f-2b5f412bd5a2"
      },
      "execution_count": 1043,
      "outputs": [
        {
          "output_type": "execute_result",
          "data": {
            "text/plain": [
              "<matplotlib.axes._subplots.AxesSubplot at 0x7f2b591eb650>"
            ]
          },
          "metadata": {},
          "execution_count": 1043
        },
        {
          "output_type": "display_data",
          "data": {
            "text/plain": [
              "<Figure size 432x288 with 1 Axes>"
            ],
            "image/png": "[encoded data removed]"
          },
          "metadata": {
            "needs_background": "light"
          }
        }
      ]
    },
    {
      "cell_type": "code",
      "source": [
        "dataset.groupby(['Credit_Historynew'])[\"Loan_Status\"].mean().plot.bar()"
      ],
      "metadata": {
        "colab": {
          "base_uri": "https://localhost:8080/",
          "height": 295
        },
        "id": "QUOKVZvwIXL7",
        "outputId": "6e1fdf9b-6b56-4451-ec3a-a6ae47098a4f"
      },
      "execution_count": 1044,
      "outputs": [
        {
          "output_type": "execute_result",
          "data": {
            "text/plain": [
              "<matplotlib.axes._subplots.AxesSubplot at 0x7f2b591dcc90>"
            ]
          },
          "metadata": {},
          "execution_count": 1044
        },
        {
          "output_type": "display_data",
          "data": {
            "text/plain": [
              "<Figure size 432x288 with 1 Axes>"
            ],
            "image/png": "[encoded data removed]"
          },
          "metadata": {
            "needs_background": "light"
          }
        }
      ]
    },
    {
      "cell_type": "code",
      "source": [
        "sns.countplot(dataset[\"Loan_Status\"])"
      ],
      "metadata": {
        "colab": {
          "base_uri": "https://localhost:8080/",
          "height": 354
        },
        "id": "ui7NzxxnI73I",
        "outputId": "1bfab60d-0f5e-4927-fee3-9917cea8dc81"
      },
      "execution_count": 1045,
      "outputs": [
        {
          "output_type": "display_data",
          "data": {
            "text/plain": [
              "<IPython.core.display.Javascript object>"
            ],
            "application/javascript": [
              "\n",
              "        if (window._pyforest_update_imports_cell) { window._pyforest_update_imports_cell('from sklearn.linear_model import LassoCV\\nimport plotly.express as px\\nfrom sklearn.linear_model import ElasticNet\\nimport pandas as pd\\nfrom sklearn.preprocessing import PolynomialFeatures\\nimport fastai\\nfrom pathlib import Path\\nimport matplotlib as mpl\\nimport cv2\\nfrom sklearn.preprocessing import MinMaxScaler\\nimport textblob\\nfrom sklearn.manifold import TSNE\\nimport numpy as np\\nfrom sklearn.ensemble import RandomForestRegressor\\nfrom sklearn.linear_model import LinearRegression\\nimport altair as alt\\nfrom sklearn.model_selection import RandomizedSearchCV\\nimport tensorflow as tf\\nfrom openpyxl import load_workbook\\nimport sys\\nimport statistics\\nfrom sklearn.cluster import KMeans\\nfrom sklearn.model_selection import train_test_split\\nfrom sklearn.model_selection import cross_val_score\\nfrom sklearn.ensemble import GradientBoostingRegressor\\nfrom sklearn.feature_extraction.text import CountVectorizer\\nimport lightgbm as lgb\\nfrom sklearn.preprocessing import OneHotEncoder\\nimport nltk\\nimport re\\nimport matplotlib.pyplot as plt\\nimport tqdm\\nfrom sklearn.linear_model import Lasso\\nfrom sklearn.model_selection import KFold\\nfrom sklearn import metrics\\nimport xgboost as xgb\\nfrom sklearn.preprocessing import RobustScaler\\nfrom sklearn.linear_model import ElasticNetCV\\nimport sklearn\\nimport seaborn as sns\\nimport plotly as py\\nimport imutils\\nfrom sklearn.feature_extraction.text import TfidfVectorizer\\nimport pickle\\nfrom sklearn.linear_model import Ridge\\nfrom sklearn import svm\\nfrom sklearn.linear_model import RidgeCV\\nfrom sklearn.decomposition import PCA\\nfrom scipy import stats\\nfrom PIL import Image\\nfrom sklearn.model_selection import GridSearchCV\\nfrom sklearn.ensemble import GradientBoostingClassifier\\nimport spacy\\nfrom sklearn.linear_model import LogisticRegression\\nfrom sklearn.preprocessing import LabelEncoder\\nimport pydot\\nimport torch\\nimport skimage\\nfrom statsmodels.tsa.arima_model import ARIMA\\nfrom scipy import signal as sg\\nfrom sklearn.ensemble import RandomForestClassifier\\nimport statsmodels.api as sm'); }\n",
              "    "
            ]
          },
          "metadata": {}
        },
        {
          "output_type": "stream",
          "name": "stderr",
          "text": [
            "/usr/local/lib/python3.7/dist-packages/seaborn/_decorators.py:43: FutureWarning: Pass the following variable as a keyword arg: x. From version 0.12, the only valid positional argument will be `data`, and passing other arguments without an explicit keyword will result in an error or misinterpretation.\n",
            "  FutureWarning\n"
          ]
        },
        {
          "output_type": "execute_result",
          "data": {
            "text/plain": [
              "<matplotlib.axes._subplots.AxesSubplot at 0x7f2b8cb8ef90>"
            ]
          },
          "metadata": {},
          "execution_count": 1045
        },
        {
          "output_type": "display_data",
          "data": {
            "text/plain": [
              "<Figure size 432x288 with 1 Axes>"
            ],
            "image/png": "[encoded data removed]"
          },
          "metadata": {
            "needs_background": "light"
          }
        }
      ]
    },
    {
      "cell_type": "code",
      "source": [
        "dataset"
      ],
      "metadata": {
        "colab": {
          "base_uri": "https://localhost:8080/",
          "height": 505
        },
        "id": "_KHfokZxJBIK",
        "outputId": "75418443-37e8-4a99-f0cd-3e5c448ec367"
      },
      "execution_count": 1046,
      "outputs": [
        {
          "output_type": "execute_result",
          "data": {
            "text/plain": [
              "     Gender Married  ... Property_Areanew Loan_Statusnew\n",
              "0      Male      No  ...                0              0\n",
              "1      Male     Yes  ...                0              0\n",
              "2      Male     Yes  ...                0              0\n",
              "3      Male     Yes  ...                0              0\n",
              "4      Male      No  ...                0              0\n",
              "..      ...     ...  ...              ...            ...\n",
              "609  Female      No  ...                0              0\n",
              "610    Male     Yes  ...                0              0\n",
              "611    Male     Yes  ...                0              0\n",
              "612    Male     Yes  ...                0              0\n",
              "613  Female      No  ...                0              0\n",
              "\n",
              "[614 rows x 24 columns]"
            ],
            "text/html": [
              "\n",
              "  <div id=\"df-f8232b64-a8d9-4359-9025-7a9b30f3d7aa\">\n",
              "    <div class=\"colab-df-container\">\n",
              "      <div>\n",
              "<style scoped>\n",
              "    .dataframe tbody tr th:only-of-type {\n",
              "        vertical-align: middle;\n",
              "    }\n",
              "\n",
              "    .dataframe tbody tr th {\n",
              "        vertical-align: top;\n",
              "    }\n",
              "\n",
              "    .dataframe thead th {\n",
              "        text-align: right;\n",
              "    }\n",
              "</style>\n",
              "<table border=\"1\" class=\"dataframe\">\n",
              "  <thead>\n",
              "    <tr style=\"text-align: right;\">\n",
              "      <th></th>\n",
              "      <th>Gender</th>\n",
              "      <th>Married</th>\n",
              "      <th>Dependents</th>\n",
              "      <th>Education</th>\n",
              "      <th>Self_Employed</th>\n",
              "      <th>ApplicantIncome</th>\n",
              "      <th>CoapplicantIncome</th>\n",
              "      <th>LoanAmount</th>\n",
              "      <th>Loan_Amount_Term</th>\n",
              "      <th>Credit_History</th>\n",
              "      <th>Property_Area</th>\n",
              "      <th>Loan_Status</th>\n",
              "      <th>Gendernew</th>\n",
              "      <th>Marriednew</th>\n",
              "      <th>Dependentsnew</th>\n",
              "      <th>Educationnew</th>\n",
              "      <th>Self_Employednew</th>\n",
              "      <th>ApplicantIncomenew</th>\n",
              "      <th>CoapplicantIncomenew</th>\n",
              "      <th>LoanAmountnew</th>\n",
              "      <th>Loan_Amount_Termnew</th>\n",
              "      <th>Credit_Historynew</th>\n",
              "      <th>Property_Areanew</th>\n",
              "      <th>Loan_Statusnew</th>\n",
              "    </tr>\n",
              "  </thead>\n",
              "  <tbody>\n",
              "    <tr>\n",
              "      <th>0</th>\n",
              "      <td>Male</td>\n",
              "      <td>No</td>\n",
              "      <td>0</td>\n",
              "      <td>Graduate</td>\n",
              "      <td>No</td>\n",
              "      <td>5849</td>\n",
              "      <td>0.0</td>\n",
              "      <td>NaN</td>\n",
              "      <td>360.0</td>\n",
              "      <td>1.0</td>\n",
              "      <td>Urban</td>\n",
              "      <td>1</td>\n",
              "      <td>0</td>\n",
              "      <td>0</td>\n",
              "      <td>0</td>\n",
              "      <td>0</td>\n",
              "      <td>0</td>\n",
              "      <td>0</td>\n",
              "      <td>0</td>\n",
              "      <td>1</td>\n",
              "      <td>0</td>\n",
              "      <td>0</td>\n",
              "      <td>0</td>\n",
              "      <td>0</td>\n",
              "    </tr>\n",
              "    <tr>\n",
              "      <th>1</th>\n",
              "      <td>Male</td>\n",
              "      <td>Yes</td>\n",
              "      <td>1</td>\n",
              "      <td>Graduate</td>\n",
              "      <td>No</td>\n",
              "      <td>4583</td>\n",
              "      <td>1508.0</td>\n",
              "      <td>128.0</td>\n",
              "      <td>360.0</td>\n",
              "      <td>1.0</td>\n",
              "      <td>Rural</td>\n",
              "      <td>0</td>\n",
              "      <td>0</td>\n",
              "      <td>0</td>\n",
              "      <td>0</td>\n",
              "      <td>0</td>\n",
              "      <td>0</td>\n",
              "      <td>0</td>\n",
              "      <td>0</td>\n",
              "      <td>0</td>\n",
              "      <td>0</td>\n",
              "      <td>0</td>\n",
              "      <td>0</td>\n",
              "      <td>0</td>\n",
              "    </tr>\n",
              "    <tr>\n",
              "      <th>2</th>\n",
              "      <td>Male</td>\n",
              "      <td>Yes</td>\n",
              "      <td>0</td>\n",
              "      <td>Graduate</td>\n",
              "      <td>Yes</td>\n",
              "      <td>3000</td>\n",
              "      <td>0.0</td>\n",
              "      <td>66.0</td>\n",
              "      <td>360.0</td>\n",
              "      <td>1.0</td>\n",
              "      <td>Urban</td>\n",
              "      <td>1</td>\n",
              "      <td>0</td>\n",
              "      <td>0</td>\n",
              "      <td>0</td>\n",
              "      <td>0</td>\n",
              "      <td>0</td>\n",
              "      <td>0</td>\n",
              "      <td>0</td>\n",
              "      <td>0</td>\n",
              "      <td>0</td>\n",
              "      <td>0</td>\n",
              "      <td>0</td>\n",
              "      <td>0</td>\n",
              "    </tr>\n",
              "    <tr>\n",
              "      <th>3</th>\n",
              "      <td>Male</td>\n",
              "      <td>Yes</td>\n",
              "      <td>0</td>\n",
              "      <td>Not Graduate</td>\n",
              "      <td>No</td>\n",
              "      <td>2583</td>\n",
              "      <td>2358.0</td>\n",
              "      <td>120.0</td>\n",
              "      <td>360.0</td>\n",
              "      <td>1.0</td>\n",
              "      <td>Urban</td>\n",
              "      <td>1</td>\n",
              "      <td>0</td>\n",
              "      <td>0</td>\n",
              "      <td>0</td>\n",
              "      <td>0</td>\n",
              "      <td>0</td>\n",
              "      <td>0</td>\n",
              "      <td>0</td>\n",
              "      <td>0</td>\n",
              "      <td>0</td>\n",
              "      <td>0</td>\n",
              "      <td>0</td>\n",
              "      <td>0</td>\n",
              "    </tr>\n",
              "    <tr>\n",
              "      <th>4</th>\n",
              "      <td>Male</td>\n",
              "      <td>No</td>\n",
              "      <td>0</td>\n",
              "      <td>Graduate</td>\n",
              "      <td>No</td>\n",
              "      <td>6000</td>\n",
              "      <td>0.0</td>\n",
              "      <td>141.0</td>\n",
              "      <td>360.0</td>\n",
              "      <td>1.0</td>\n",
              "      <td>Urban</td>\n",
              "      <td>1</td>\n",
              "      <td>0</td>\n",
              "      <td>0</td>\n",
              "      <td>0</td>\n",
              "      <td>0</td>\n",
              "      <td>0</td>\n",
              "      <td>0</td>\n",
              "      <td>0</td>\n",
              "      <td>0</td>\n",
              "      <td>0</td>\n",
              "      <td>0</td>\n",
              "      <td>0</td>\n",
              "      <td>0</td>\n",
              "    </tr>\n",
              "    <tr>\n",
              "      <th>...</th>\n",
              "      <td>...</td>\n",
              "      <td>...</td>\n",
              "      <td>...</td>\n",
              "      <td>...</td>\n",
              "      <td>...</td>\n",
              "      <td>...</td>\n",
              "      <td>...</td>\n",
              "      <td>...</td>\n",
              "      <td>...</td>\n",
              "      <td>...</td>\n",
              "      <td>...</td>\n",
              "      <td>...</td>\n",
              "      <td>...</td>\n",
              "      <td>...</td>\n",
              "      <td>...</td>\n",
              "      <td>...</td>\n",
              "      <td>...</td>\n",
              "      <td>...</td>\n",
              "      <td>...</td>\n",
              "      <td>...</td>\n",
              "      <td>...</td>\n",
              "      <td>...</td>\n",
              "      <td>...</td>\n",
              "      <td>...</td>\n",
              "    </tr>\n",
              "    <tr>\n",
              "      <th>609</th>\n",
              "      <td>Female</td>\n",
              "      <td>No</td>\n",
              "      <td>0</td>\n",
              "      <td>Graduate</td>\n",
              "      <td>No</td>\n",
              "      <td>2900</td>\n",
              "      <td>0.0</td>\n",
              "      <td>71.0</td>\n",
              "      <td>360.0</td>\n",
              "      <td>1.0</td>\n",
              "      <td>Rural</td>\n",
              "      <td>1</td>\n",
              "      <td>0</td>\n",
              "      <td>0</td>\n",
              "      <td>0</td>\n",
              "      <td>0</td>\n",
              "      <td>0</td>\n",
              "      <td>0</td>\n",
              "      <td>0</td>\n",
              "      <td>0</td>\n",
              "      <td>0</td>\n",
              "      <td>0</td>\n",
              "      <td>0</td>\n",
              "      <td>0</td>\n",
              "    </tr>\n",
              "    <tr>\n",
              "      <th>610</th>\n",
              "      <td>Male</td>\n",
              "      <td>Yes</td>\n",
              "      <td>3+</td>\n",
              "      <td>Graduate</td>\n",
              "      <td>No</td>\n",
              "      <td>4106</td>\n",
              "      <td>0.0</td>\n",
              "      <td>40.0</td>\n",
              "      <td>180.0</td>\n",
              "      <td>1.0</td>\n",
              "      <td>Rural</td>\n",
              "      <td>1</td>\n",
              "      <td>0</td>\n",
              "      <td>0</td>\n",
              "      <td>0</td>\n",
              "      <td>0</td>\n",
              "      <td>0</td>\n",
              "      <td>0</td>\n",
              "      <td>0</td>\n",
              "      <td>0</td>\n",
              "      <td>0</td>\n",
              "      <td>0</td>\n",
              "      <td>0</td>\n",
              "      <td>0</td>\n",
              "    </tr>\n",
              "    <tr>\n",
              "      <th>611</th>\n",
              "      <td>Male</td>\n",
              "      <td>Yes</td>\n",
              "      <td>1</td>\n",
              "      <td>Graduate</td>\n",
              "      <td>No</td>\n",
              "      <td>8072</td>\n",
              "      <td>240.0</td>\n",
              "      <td>253.0</td>\n",
              "      <td>360.0</td>\n",
              "      <td>1.0</td>\n",
              "      <td>Urban</td>\n",
              "      <td>1</td>\n",
              "      <td>0</td>\n",
              "      <td>0</td>\n",
              "      <td>0</td>\n",
              "      <td>0</td>\n",
              "      <td>0</td>\n",
              "      <td>0</td>\n",
              "      <td>0</td>\n",
              "      <td>0</td>\n",
              "      <td>0</td>\n",
              "      <td>0</td>\n",
              "      <td>0</td>\n",
              "      <td>0</td>\n",
              "    </tr>\n",
              "    <tr>\n",
              "      <th>612</th>\n",
              "      <td>Male</td>\n",
              "      <td>Yes</td>\n",
              "      <td>2</td>\n",
              "      <td>Graduate</td>\n",
              "      <td>No</td>\n",
              "      <td>7583</td>\n",
              "      <td>0.0</td>\n",
              "      <td>187.0</td>\n",
              "      <td>360.0</td>\n",
              "      <td>1.0</td>\n",
              "      <td>Urban</td>\n",
              "      <td>1</td>\n",
              "      <td>0</td>\n",
              "      <td>0</td>\n",
              "      <td>0</td>\n",
              "      <td>0</td>\n",
              "      <td>0</td>\n",
              "      <td>0</td>\n",
              "      <td>0</td>\n",
              "      <td>0</td>\n",
              "      <td>0</td>\n",
              "      <td>0</td>\n",
              "      <td>0</td>\n",
              "      <td>0</td>\n",
              "    </tr>\n",
              "    <tr>\n",
              "      <th>613</th>\n",
              "      <td>Female</td>\n",
              "      <td>No</td>\n",
              "      <td>0</td>\n",
              "      <td>Graduate</td>\n",
              "      <td>Yes</td>\n",
              "      <td>4583</td>\n",
              "      <td>0.0</td>\n",
              "      <td>133.0</td>\n",
              "      <td>360.0</td>\n",
              "      <td>0.0</td>\n",
              "      <td>Semiurban</td>\n",
              "      <td>0</td>\n",
              "      <td>0</td>\n",
              "      <td>0</td>\n",
              "      <td>0</td>\n",
              "      <td>0</td>\n",
              "      <td>0</td>\n",
              "      <td>0</td>\n",
              "      <td>0</td>\n",
              "      <td>0</td>\n",
              "      <td>0</td>\n",
              "      <td>0</td>\n",
              "      <td>0</td>\n",
              "      <td>0</td>\n",
              "    </tr>\n",
              "  </tbody>\n",
              "</table>\n",
              "<p>614 rows × 24 columns</p>\n",
              "</div>\n",
              "      <button class=\"colab-df-convert\" onclick=\"convertToInteractive('df-f8232b64-a8d9-4359-9025-7a9b30f3d7aa')\"\n",
              "              title=\"Convert this dataframe to an interactive table.\"\n",
              "              style=\"display:none;\">\n",
              "        \n",
              "  <svg xmlns=\"http://www.w3.org/2000/svg\" height=\"24px\"viewBox=\"0 0 24 24\"\n",
              "       width=\"24px\">\n",
              "    <path d=\"M0 0h24v24H0V0z\" fill=\"none\"/>\n",
              "    <path d=\"M18.56 5.44l.94 2.06.94-2.06 2.06-.94-2.06-.94-.94-2.06-.94 2.06-2.06.94zm-11 1L8.5 8.5l.94-2.06 2.06-.94-2.06-.94L8.5 2.5l-.94 2.06-2.06.94zm10 10l.94 2.06.94-2.06 2.06-.94-2.06-.94-.94-2.06-.94 2.06-2.06.94z\"/><path d=\"M17.41 7.96l-1.37-1.37c-.4-.4-.92-.59-1.43-.59-.52 0-1.04.2-1.43.59L10.3 9.45l-7.72 7.72c-.78.78-.78 2.05 0 2.83L4 21.41c.39.39.9.59 1.41.59.51 0 1.02-.2 1.41-.59l7.78-7.78 2.81-2.81c.8-.78.8-2.07 0-2.86zM5.41 20L4 18.59l7.72-7.72 1.47 1.35L5.41 20z\"/>\n",
              "  </svg>\n",
              "      </button>\n",
              "      \n",
              "  <style>\n",
              "    .colab-df-container {\n",
              "      display:flex;\n",
              "      flex-wrap:wrap;\n",
              "      gap: 12px;\n",
              "    }\n",
              "\n",
              "    .colab-df-convert {\n",
              "      background-color: #E8F0FE;\n",
              "      border: none;\n",
              "      border-radius: 50%;\n",
              "      cursor: pointer;\n",
              "      display: none;\n",
              "      fill: #1967D2;\n",
              "      height: 32px;\n",
              "      padding: 0 0 0 0;\n",
              "      width: 32px;\n",
              "    }\n",
              "\n",
              "    .colab-df-convert:hover {\n",
              "      background-color: #E2EBFA;\n",
              "      box-shadow: 0px 1px 2px rgba(60, 64, 67, 0.3), 0px 1px 3px 1px rgba(60, 64, 67, 0.15);\n",
              "      fill: #174EA6;\n",
              "    }\n",
              "\n",
              "    [theme=dark] .colab-df-convert {\n",
              "      background-color: #3B4455;\n",
              "      fill: #D2E3FC;\n",
              "    }\n",
              "\n",
              "    [theme=dark] .colab-df-convert:hover {\n",
              "      background-color: #434B5C;\n",
              "      box-shadow: 0px 1px 3px 1px rgba(0, 0, 0, 0.15);\n",
              "      filter: drop-shadow(0px 1px 2px rgba(0, 0, 0, 0.3));\n",
              "      fill: #FFFFFF;\n",
              "    }\n",
              "  </style>\n",
              "\n",
              "      <script>\n",
              "        const buttonEl =\n",
              "          document.querySelector('#df-f8232b64-a8d9-4359-9025-7a9b30f3d7aa button.colab-df-convert');\n",
              "        buttonEl.style.display =\n",
              "          google.colab.kernel.accessAllowed ? 'block' : 'none';\n",
              "\n",
              "        async function convertToInteractive(key) {\n",
              "          const element = document.querySelector('#df-f8232b64-a8d9-4359-9025-7a9b30f3d7aa');\n",
              "          const dataTable =\n",
              "            await google.colab.kernel.invokeFunction('convertToInteractive',\n",
              "                                                     [key], {});\n",
              "          if (!dataTable) return;\n",
              "\n",
              "          const docLinkHtml = 'Like what you see? Visit the ' +\n",
              "            '<a target=\"_blank\" href=https://colab.research.google.com/notebooks/data_table.ipynb>data table notebook</a>'\n",
              "            + ' to learn more about interactive tables.';\n",
              "          element.innerHTML = '';\n",
              "          dataTable['output_type'] = 'display_data';\n",
              "          await google.colab.output.renderOutput(dataTable, element);\n",
              "          const docLink = document.createElement('div');\n",
              "          docLink.innerHTML = docLinkHtml;\n",
              "          element.appendChild(docLink);\n",
              "        }\n",
              "      </script>\n",
              "    </div>\n",
              "  </div>\n",
              "  "
            ]
          },
          "metadata": {},
          "execution_count": 1046
        }
      ]
    },
    {
      "cell_type": "code",
      "source": [
        "for i in dataset.columns:\n",
        "  dataset=dataset.drop(dataset.iloc[:,12:],axis=1)"
      ],
      "metadata": {
        "id": "n6NuoK7yJUST"
      },
      "execution_count": 1047,
      "outputs": []
    },
    {
      "cell_type": "code",
      "source": [
        "dataset.head()"
      ],
      "metadata": {
        "colab": {
          "base_uri": "https://localhost:8080/",
          "height": 287
        },
        "id": "_-A1F0zfJXD8",
        "outputId": "3562368a-8077-4f4a-de85-3b9827247150"
      },
      "execution_count": 1048,
      "outputs": [
        {
          "output_type": "execute_result",
          "data": {
            "text/plain": [
              "  Gender Married Dependents  ... Credit_History Property_Area  Loan_Status\n",
              "0   Male      No          0  ...            1.0         Urban            1\n",
              "1   Male     Yes          1  ...            1.0         Rural            0\n",
              "2   Male     Yes          0  ...            1.0         Urban            1\n",
              "3   Male     Yes          0  ...            1.0         Urban            1\n",
              "4   Male      No          0  ...            1.0         Urban            1\n",
              "\n",
              "[5 rows x 12 columns]"
            ],
            "text/html": [
              "\n",
              "  <div id=\"df-0eedaa89-c637-4ba5-abe6-9c918e85c222\">\n",
              "    <div class=\"colab-df-container\">\n",
              "      <div>\n",
              "<style scoped>\n",
              "    .dataframe tbody tr th:only-of-type {\n",
              "        vertical-align: middle;\n",
              "    }\n",
              "\n",
              "    .dataframe tbody tr th {\n",
              "        vertical-align: top;\n",
              "    }\n",
              "\n",
              "    .dataframe thead th {\n",
              "        text-align: right;\n",
              "    }\n",
              "</style>\n",
              "<table border=\"1\" class=\"dataframe\">\n",
              "  <thead>\n",
              "    <tr style=\"text-align: right;\">\n",
              "      <th></th>\n",
              "      <th>Gender</th>\n",
              "      <th>Married</th>\n",
              "      <th>Dependents</th>\n",
              "      <th>Education</th>\n",
              "      <th>Self_Employed</th>\n",
              "      <th>ApplicantIncome</th>\n",
              "      <th>CoapplicantIncome</th>\n",
              "      <th>LoanAmount</th>\n",
              "      <th>Loan_Amount_Term</th>\n",
              "      <th>Credit_History</th>\n",
              "      <th>Property_Area</th>\n",
              "      <th>Loan_Status</th>\n",
              "    </tr>\n",
              "  </thead>\n",
              "  <tbody>\n",
              "    <tr>\n",
              "      <th>0</th>\n",
              "      <td>Male</td>\n",
              "      <td>No</td>\n",
              "      <td>0</td>\n",
              "      <td>Graduate</td>\n",
              "      <td>No</td>\n",
              "      <td>5849</td>\n",
              "      <td>0.0</td>\n",
              "      <td>NaN</td>\n",
              "      <td>360.0</td>\n",
              "      <td>1.0</td>\n",
              "      <td>Urban</td>\n",
              "      <td>1</td>\n",
              "    </tr>\n",
              "    <tr>\n",
              "      <th>1</th>\n",
              "      <td>Male</td>\n",
              "      <td>Yes</td>\n",
              "      <td>1</td>\n",
              "      <td>Graduate</td>\n",
              "      <td>No</td>\n",
              "      <td>4583</td>\n",
              "      <td>1508.0</td>\n",
              "      <td>128.0</td>\n",
              "      <td>360.0</td>\n",
              "      <td>1.0</td>\n",
              "      <td>Rural</td>\n",
              "      <td>0</td>\n",
              "    </tr>\n",
              "    <tr>\n",
              "      <th>2</th>\n",
              "      <td>Male</td>\n",
              "      <td>Yes</td>\n",
              "      <td>0</td>\n",
              "      <td>Graduate</td>\n",
              "      <td>Yes</td>\n",
              "      <td>3000</td>\n",
              "      <td>0.0</td>\n",
              "      <td>66.0</td>\n",
              "      <td>360.0</td>\n",
              "      <td>1.0</td>\n",
              "      <td>Urban</td>\n",
              "      <td>1</td>\n",
              "    </tr>\n",
              "    <tr>\n",
              "      <th>3</th>\n",
              "      <td>Male</td>\n",
              "      <td>Yes</td>\n",
              "      <td>0</td>\n",
              "      <td>Not Graduate</td>\n",
              "      <td>No</td>\n",
              "      <td>2583</td>\n",
              "      <td>2358.0</td>\n",
              "      <td>120.0</td>\n",
              "      <td>360.0</td>\n",
              "      <td>1.0</td>\n",
              "      <td>Urban</td>\n",
              "      <td>1</td>\n",
              "    </tr>\n",
              "    <tr>\n",
              "      <th>4</th>\n",
              "      <td>Male</td>\n",
              "      <td>No</td>\n",
              "      <td>0</td>\n",
              "      <td>Graduate</td>\n",
              "      <td>No</td>\n",
              "      <td>6000</td>\n",
              "      <td>0.0</td>\n",
              "      <td>141.0</td>\n",
              "      <td>360.0</td>\n",
              "      <td>1.0</td>\n",
              "      <td>Urban</td>\n",
              "      <td>1</td>\n",
              "    </tr>\n",
              "  </tbody>\n",
              "</table>\n",
              "</div>\n",
              "      <button class=\"colab-df-convert\" onclick=\"convertToInteractive('df-0eedaa89-c637-4ba5-abe6-9c918e85c222')\"\n",
              "              title=\"Convert this dataframe to an interactive table.\"\n",
              "              style=\"display:none;\">\n",
              "        \n",
              "  <svg xmlns=\"http://www.w3.org/2000/svg\" height=\"24px\"viewBox=\"0 0 24 24\"\n",
              "       width=\"24px\">\n",
              "    <path d=\"M0 0h24v24H0V0z\" fill=\"none\"/>\n",
              "    <path d=\"M18.56 5.44l.94 2.06.94-2.06 2.06-.94-2.06-.94-.94-2.06-.94 2.06-2.06.94zm-11 1L8.5 8.5l.94-2.06 2.06-.94-2.06-.94L8.5 2.5l-.94 2.06-2.06.94zm10 10l.94 2.06.94-2.06 2.06-.94-2.06-.94-.94-2.06-.94 2.06-2.06.94z\"/><path d=\"M17.41 7.96l-1.37-1.37c-.4-.4-.92-.59-1.43-.59-.52 0-1.04.2-1.43.59L10.3 9.45l-7.72 7.72c-.78.78-.78 2.05 0 2.83L4 21.41c.39.39.9.59 1.41.59.51 0 1.02-.2 1.41-.59l7.78-7.78 2.81-2.81c.8-.78.8-2.07 0-2.86zM5.41 20L4 18.59l7.72-7.72 1.47 1.35L5.41 20z\"/>\n",
              "  </svg>\n",
              "      </button>\n",
              "      \n",
              "  <style>\n",
              "    .colab-df-container {\n",
              "      display:flex;\n",
              "      flex-wrap:wrap;\n",
              "      gap: 12px;\n",
              "    }\n",
              "\n",
              "    .colab-df-convert {\n",
              "      background-color: #E8F0FE;\n",
              "      border: none;\n",
              "      border-radius: 50%;\n",
              "      cursor: pointer;\n",
              "      display: none;\n",
              "      fill: #1967D2;\n",
              "      height: 32px;\n",
              "      padding: 0 0 0 0;\n",
              "      width: 32px;\n",
              "    }\n",
              "\n",
              "    .colab-df-convert:hover {\n",
              "      background-color: #E2EBFA;\n",
              "      box-shadow: 0px 1px 2px rgba(60, 64, 67, 0.3), 0px 1px 3px 1px rgba(60, 64, 67, 0.15);\n",
              "      fill: #174EA6;\n",
              "    }\n",
              "\n",
              "    [theme=dark] .colab-df-convert {\n",
              "      background-color: #3B4455;\n",
              "      fill: #D2E3FC;\n",
              "    }\n",
              "\n",
              "    [theme=dark] .colab-df-convert:hover {\n",
              "      background-color: #434B5C;\n",
              "      box-shadow: 0px 1px 3px 1px rgba(0, 0, 0, 0.15);\n",
              "      filter: drop-shadow(0px 1px 2px rgba(0, 0, 0, 0.3));\n",
              "      fill: #FFFFFF;\n",
              "    }\n",
              "  </style>\n",
              "\n",
              "      <script>\n",
              "        const buttonEl =\n",
              "          document.querySelector('#df-0eedaa89-c637-4ba5-abe6-9c918e85c222 button.colab-df-convert');\n",
              "        buttonEl.style.display =\n",
              "          google.colab.kernel.accessAllowed ? 'block' : 'none';\n",
              "\n",
              "        async function convertToInteractive(key) {\n",
              "          const element = document.querySelector('#df-0eedaa89-c637-4ba5-abe6-9c918e85c222');\n",
              "          const dataTable =\n",
              "            await google.colab.kernel.invokeFunction('convertToInteractive',\n",
              "                                                     [key], {});\n",
              "          if (!dataTable) return;\n",
              "\n",
              "          const docLinkHtml = 'Like what you see? Visit the ' +\n",
              "            '<a target=\"_blank\" href=https://colab.research.google.com/notebooks/data_table.ipynb>data table notebook</a>'\n",
              "            + ' to learn more about interactive tables.';\n",
              "          element.innerHTML = '';\n",
              "          dataTable['output_type'] = 'display_data';\n",
              "          await google.colab.output.renderOutput(dataTable, element);\n",
              "          const docLink = document.createElement('div');\n",
              "          docLink.innerHTML = docLinkHtml;\n",
              "          element.appendChild(docLink);\n",
              "        }\n",
              "      </script>\n",
              "    </div>\n",
              "  </div>\n",
              "  "
            ]
          },
          "metadata": {},
          "execution_count": 1048
        }
      ]
    },
    {
      "cell_type": "code",
      "source": [
        "dataset.isnull().sum()"
      ],
      "metadata": {
        "colab": {
          "base_uri": "https://localhost:8080/"
        },
        "id": "NJMHnwzFKaSS",
        "outputId": "1cab2382-b23f-4164-be0c-cd473c7fabc3"
      },
      "execution_count": 1049,
      "outputs": [
        {
          "output_type": "execute_result",
          "data": {
            "text/plain": [
              "Gender               13\n",
              "Married               3\n",
              "Dependents           15\n",
              "Education             0\n",
              "Self_Employed        32\n",
              "ApplicantIncome       0\n",
              "CoapplicantIncome     0\n",
              "LoanAmount           22\n",
              "Loan_Amount_Term     14\n",
              "Credit_History       50\n",
              "Property_Area         0\n",
              "Loan_Status           0\n",
              "dtype: int64"
            ]
          },
          "metadata": {},
          "execution_count": 1049
        }
      ]
    },
    {
      "cell_type": "code",
      "source": [
        "dataset['Gender'] = dataset[\"Gender\"].fillna(dataset['Gender'].mode()[0])\n",
        "dataset['Married'] = dataset[\"Married\"].fillna(dataset['Married'].mode()[0])\n",
        "dataset['Dependents'] = dataset[\"Dependents\"].fillna(dataset['Dependents'].mode()[0])\n",
        "dataset['Self_Employed'] = dataset[\"Self_Employed\"].fillna(dataset['Self_Employed'].mode()[0])"
      ],
      "metadata": {
        "id": "52M1pZk6K1y-"
      },
      "execution_count": 1050,
      "outputs": []
    },
    {
      "cell_type": "code",
      "source": [
        "dataset['LoanAmount'] = dataset['LoanAmount'].fillna(dataset['LoanAmount'].mean())\n",
        "dataset['Loan_Amount_Term'] = dataset['Loan_Amount_Term'].fillna(dataset['Loan_Amount_Term'].mean())\n",
        "dataset['Credit_History'] = dataset['Credit_History'].fillna(dataset['Credit_History'].mean())"
      ],
      "metadata": {
        "id": "khdsE2K3L8Bd"
      },
      "execution_count": 1051,
      "outputs": []
    },
    {
      "cell_type": "code",
      "source": [
        "dataset.isnull().sum()"
      ],
      "metadata": {
        "colab": {
          "base_uri": "https://localhost:8080/"
        },
        "id": "BY24CxgPMZz5",
        "outputId": "cbba637e-1426-466e-f491-63955fdaa43f"
      },
      "execution_count": 1052,
      "outputs": [
        {
          "output_type": "execute_result",
          "data": {
            "text/plain": [
              "Gender               0\n",
              "Married              0\n",
              "Dependents           0\n",
              "Education            0\n",
              "Self_Employed        0\n",
              "ApplicantIncome      0\n",
              "CoapplicantIncome    0\n",
              "LoanAmount           0\n",
              "Loan_Amount_Term     0\n",
              "Credit_History       0\n",
              "Property_Area        0\n",
              "Loan_Status          0\n",
              "dtype: int64"
            ]
          },
          "metadata": {},
          "execution_count": 1052
        }
      ]
    },
    {
      "cell_type": "code",
      "source": [
        "numeric=[\"ApplicantIncome\",\"CoapplicantIncome\",\"LoanAmount\",\"Loan_Amount_Term\"]\n",
        "continuous=[\"ApplicantIncome\",\"CoapplicantIncome\",\"LoanAmount\"]"
      ],
      "metadata": {
        "id": "mC2yPgcJNf6W"
      },
      "execution_count": 1053,
      "outputs": []
    },
    {
      "cell_type": "code",
      "source": [
        "category=[feature for feature in dataset.columns if dataset[feature].dtypes== \"object\"]"
      ],
      "metadata": {
        "id": "BbOXT5XAOSqq"
      },
      "execution_count": 1054,
      "outputs": []
    },
    {
      "cell_type": "code",
      "source": [
        "category"
      ],
      "metadata": {
        "colab": {
          "base_uri": "https://localhost:8080/"
        },
        "id": "ST-nrc5MOabN",
        "outputId": "1f4b298b-e89c-448d-d00c-94c4f0ce915e"
      },
      "execution_count": 1055,
      "outputs": [
        {
          "output_type": "execute_result",
          "data": {
            "text/plain": [
              "['Gender',\n",
              " 'Married',\n",
              " 'Dependents',\n",
              " 'Education',\n",
              " 'Self_Employed',\n",
              " 'Property_Area']"
            ]
          },
          "metadata": {},
          "execution_count": 1055
        }
      ]
    },
    {
      "cell_type": "code",
      "source": [
        "for i in category:\n",
        "  print(i)\n",
        "  print(dataset[i].value_counts())\n",
        "  print(\"----------------------------\")"
      ],
      "metadata": {
        "id": "i0NCfV1sOexH",
        "colab": {
          "base_uri": "https://localhost:8080/"
        },
        "outputId": "e0dbd3b8-3aec-4065-e594-684e795479ad"
      },
      "execution_count": 1056,
      "outputs": [
        {
          "output_type": "stream",
          "name": "stdout",
          "text": [
            "Gender\n",
            "Male      502\n",
            "Female    112\n",
            "Name: Gender, dtype: int64\n",
            "----------------------------\n",
            "Married\n",
            "Yes    401\n",
            "No     213\n",
            "Name: Married, dtype: int64\n",
            "----------------------------\n",
            "Dependents\n",
            "0     360\n",
            "1     102\n",
            "2     101\n",
            "3+     51\n",
            "Name: Dependents, dtype: int64\n",
            "----------------------------\n",
            "Education\n",
            "Graduate        480\n",
            "Not Graduate    134\n",
            "Name: Education, dtype: int64\n",
            "----------------------------\n",
            "Self_Employed\n",
            "No     532\n",
            "Yes     82\n",
            "Name: Self_Employed, dtype: int64\n",
            "----------------------------\n",
            "Property_Area\n",
            "Semiurban    233\n",
            "Urban        202\n",
            "Rural        179\n",
            "Name: Property_Area, dtype: int64\n",
            "----------------------------\n"
          ]
        }
      ]
    },
    {
      "cell_type": "code",
      "source": [
        "dataset[\"Gender\"]=np.where(dataset[\"Gender\"]==\"Male\",1,0)"
      ],
      "metadata": {
        "colab": {
          "base_uri": "https://localhost:8080/",
          "height": 17
        },
        "id": "HFnc-V-HQSZS",
        "outputId": "c173d02f-e683-46e9-9227-089942f6b451"
      },
      "execution_count": 1057,
      "outputs": [
        {
          "output_type": "display_data",
          "data": {
            "text/plain": [
              "<IPython.core.display.Javascript object>"
            ],
            "application/javascript": [
              "\n",
              "        if (window._pyforest_update_imports_cell) { window._pyforest_update_imports_cell('from sklearn.linear_model import LassoCV\\nimport plotly.express as px\\nfrom sklearn.linear_model import ElasticNet\\nimport pandas as pd\\nfrom sklearn.preprocessing import PolynomialFeatures\\nimport fastai\\nfrom pathlib import Path\\nimport matplotlib as mpl\\nimport cv2\\nfrom sklearn.preprocessing import MinMaxScaler\\nimport textblob\\nfrom sklearn.manifold import TSNE\\nimport numpy as np\\nfrom sklearn.ensemble import RandomForestRegressor\\nfrom sklearn.linear_model import LinearRegression\\nimport altair as alt\\nfrom sklearn.model_selection import RandomizedSearchCV\\nimport tensorflow as tf\\nfrom openpyxl import load_workbook\\nimport sys\\nimport statistics\\nfrom sklearn.cluster import KMeans\\nfrom sklearn.model_selection import train_test_split\\nfrom sklearn.model_selection import cross_val_score\\nfrom sklearn.ensemble import GradientBoostingRegressor\\nfrom sklearn.feature_extraction.text import CountVectorizer\\nimport lightgbm as lgb\\nfrom sklearn.preprocessing import OneHotEncoder\\nimport nltk\\nimport re\\nimport matplotlib.pyplot as plt\\nimport tqdm\\nfrom sklearn.linear_model import Lasso\\nfrom sklearn.model_selection import KFold\\nfrom sklearn import metrics\\nimport xgboost as xgb\\nfrom sklearn.preprocessing import RobustScaler\\nfrom sklearn.linear_model import ElasticNetCV\\nimport sklearn\\nimport seaborn as sns\\nimport plotly as py\\nimport imutils\\nfrom sklearn.feature_extraction.text import TfidfVectorizer\\nimport pickle\\nfrom sklearn.linear_model import Ridge\\nfrom sklearn import svm\\nfrom sklearn.linear_model import RidgeCV\\nfrom sklearn.decomposition import PCA\\nfrom scipy import stats\\nfrom PIL import Image\\nfrom sklearn.model_selection import GridSearchCV\\nfrom sklearn.ensemble import GradientBoostingClassifier\\nimport spacy\\nfrom sklearn.linear_model import LogisticRegression\\nfrom sklearn.preprocessing import LabelEncoder\\nimport pydot\\nimport torch\\nimport skimage\\nfrom statsmodels.tsa.arima_model import ARIMA\\nfrom scipy import signal as sg\\nfrom sklearn.ensemble import RandomForestClassifier\\nimport statsmodels.api as sm'); }\n",
              "    "
            ]
          },
          "metadata": {}
        }
      ]
    },
    {
      "cell_type": "code",
      "source": [
        "dataset[\"Married\"]=np.where(dataset[\"Married\"]==\"Yes\",1,0)"
      ],
      "metadata": {
        "colab": {
          "base_uri": "https://localhost:8080/",
          "height": 17
        },
        "id": "fRlPpICQQ0-h",
        "outputId": "6535cc48-86f8-45bd-e9b3-ed17b41f6977"
      },
      "execution_count": 1058,
      "outputs": [
        {
          "output_type": "display_data",
          "data": {
            "text/plain": [
              "<IPython.core.display.Javascript object>"
            ],
            "application/javascript": [
              "\n",
              "        if (window._pyforest_update_imports_cell) { window._pyforest_update_imports_cell('from sklearn.linear_model import LassoCV\\nimport plotly.express as px\\nfrom sklearn.linear_model import ElasticNet\\nimport pandas as pd\\nfrom sklearn.preprocessing import PolynomialFeatures\\nimport fastai\\nfrom pathlib import Path\\nimport matplotlib as mpl\\nimport cv2\\nfrom sklearn.preprocessing import MinMaxScaler\\nimport textblob\\nfrom sklearn.manifold import TSNE\\nimport numpy as np\\nfrom sklearn.ensemble import RandomForestRegressor\\nfrom sklearn.linear_model import LinearRegression\\nimport altair as alt\\nfrom sklearn.model_selection import RandomizedSearchCV\\nimport tensorflow as tf\\nfrom openpyxl import load_workbook\\nimport sys\\nimport statistics\\nfrom sklearn.cluster import KMeans\\nfrom sklearn.model_selection import train_test_split\\nfrom sklearn.model_selection import cross_val_score\\nfrom sklearn.ensemble import GradientBoostingRegressor\\nfrom sklearn.feature_extraction.text import CountVectorizer\\nimport lightgbm as lgb\\nfrom sklearn.preprocessing import OneHotEncoder\\nimport nltk\\nimport re\\nimport matplotlib.pyplot as plt\\nimport tqdm\\nfrom sklearn.linear_model import Lasso\\nfrom sklearn.model_selection import KFold\\nfrom sklearn import metrics\\nimport xgboost as xgb\\nfrom sklearn.preprocessing import RobustScaler\\nfrom sklearn.linear_model import ElasticNetCV\\nimport sklearn\\nimport seaborn as sns\\nimport plotly as py\\nimport imutils\\nfrom sklearn.feature_extraction.text import TfidfVectorizer\\nimport pickle\\nfrom sklearn.linear_model import Ridge\\nfrom sklearn import svm\\nfrom sklearn.linear_model import RidgeCV\\nfrom sklearn.decomposition import PCA\\nfrom scipy import stats\\nfrom PIL import Image\\nfrom sklearn.model_selection import GridSearchCV\\nfrom sklearn.ensemble import GradientBoostingClassifier\\nimport spacy\\nfrom sklearn.linear_model import LogisticRegression\\nfrom sklearn.preprocessing import LabelEncoder\\nimport pydot\\nimport torch\\nimport skimage\\nfrom statsmodels.tsa.arima_model import ARIMA\\nfrom scipy import signal as sg\\nfrom sklearn.ensemble import RandomForestClassifier\\nimport statsmodels.api as sm'); }\n",
              "    "
            ]
          },
          "metadata": {}
        }
      ]
    },
    {
      "cell_type": "code",
      "source": [
        "dataset[\"Dependents\"]=np.where(dataset[\"Dependents\"]==\"0\",0,1)"
      ],
      "metadata": {
        "colab": {
          "base_uri": "https://localhost:8080/",
          "height": 17
        },
        "id": "9uM6OYhyQ-HS",
        "outputId": "72a0eaf6-19d8-4a29-c7a7-e893eb8df238"
      },
      "execution_count": 1059,
      "outputs": [
        {
          "output_type": "display_data",
          "data": {
            "text/plain": [
              "<IPython.core.display.Javascript object>"
            ],
            "application/javascript": [
              "\n",
              "        if (window._pyforest_update_imports_cell) { window._pyforest_update_imports_cell('from sklearn.linear_model import LassoCV\\nimport plotly.express as px\\nfrom sklearn.linear_model import ElasticNet\\nimport pandas as pd\\nfrom sklearn.preprocessing import PolynomialFeatures\\nimport fastai\\nfrom pathlib import Path\\nimport matplotlib as mpl\\nimport cv2\\nfrom sklearn.preprocessing import MinMaxScaler\\nimport textblob\\nfrom sklearn.manifold import TSNE\\nimport numpy as np\\nfrom sklearn.ensemble import RandomForestRegressor\\nfrom sklearn.linear_model import LinearRegression\\nimport altair as alt\\nfrom sklearn.model_selection import RandomizedSearchCV\\nimport tensorflow as tf\\nfrom openpyxl import load_workbook\\nimport sys\\nimport statistics\\nfrom sklearn.cluster import KMeans\\nfrom sklearn.model_selection import train_test_split\\nfrom sklearn.model_selection import cross_val_score\\nfrom sklearn.ensemble import GradientBoostingRegressor\\nfrom sklearn.feature_extraction.text import CountVectorizer\\nimport lightgbm as lgb\\nfrom sklearn.preprocessing import OneHotEncoder\\nimport nltk\\nimport re\\nimport matplotlib.pyplot as plt\\nimport tqdm\\nfrom sklearn.linear_model import Lasso\\nfrom sklearn.model_selection import KFold\\nfrom sklearn import metrics\\nimport xgboost as xgb\\nfrom sklearn.preprocessing import RobustScaler\\nfrom sklearn.linear_model import ElasticNetCV\\nimport sklearn\\nimport seaborn as sns\\nimport plotly as py\\nimport imutils\\nfrom sklearn.feature_extraction.text import TfidfVectorizer\\nimport pickle\\nfrom sklearn.linear_model import Ridge\\nfrom sklearn import svm\\nfrom sklearn.linear_model import RidgeCV\\nfrom sklearn.decomposition import PCA\\nfrom scipy import stats\\nfrom PIL import Image\\nfrom sklearn.model_selection import GridSearchCV\\nfrom sklearn.ensemble import GradientBoostingClassifier\\nimport spacy\\nfrom sklearn.linear_model import LogisticRegression\\nfrom sklearn.preprocessing import LabelEncoder\\nimport pydot\\nimport torch\\nimport skimage\\nfrom statsmodels.tsa.arima_model import ARIMA\\nfrom scipy import signal as sg\\nfrom sklearn.ensemble import RandomForestClassifier\\nimport statsmodels.api as sm'); }\n",
              "    "
            ]
          },
          "metadata": {}
        }
      ]
    },
    {
      "cell_type": "code",
      "source": [
        "dataset[\"Education\"]=np.where(dataset[\"Education\"]==\"Graduate\",1,0)"
      ],
      "metadata": {
        "colab": {
          "base_uri": "https://localhost:8080/",
          "height": 17
        },
        "id": "hQp2teemRKQH",
        "outputId": "82934413-fd8f-43ec-b0bb-13f62e9e23e5"
      },
      "execution_count": 1060,
      "outputs": [
        {
          "output_type": "display_data",
          "data": {
            "text/plain": [
              "<IPython.core.display.Javascript object>"
            ],
            "application/javascript": [
              "\n",
              "        if (window._pyforest_update_imports_cell) { window._pyforest_update_imports_cell('from sklearn.linear_model import LassoCV\\nimport plotly.express as px\\nfrom sklearn.linear_model import ElasticNet\\nimport pandas as pd\\nfrom sklearn.preprocessing import PolynomialFeatures\\nimport fastai\\nfrom pathlib import Path\\nimport matplotlib as mpl\\nimport cv2\\nfrom sklearn.preprocessing import MinMaxScaler\\nimport textblob\\nfrom sklearn.manifold import TSNE\\nimport numpy as np\\nfrom sklearn.ensemble import RandomForestRegressor\\nfrom sklearn.linear_model import LinearRegression\\nimport altair as alt\\nfrom sklearn.model_selection import RandomizedSearchCV\\nimport tensorflow as tf\\nfrom openpyxl import load_workbook\\nimport sys\\nimport statistics\\nfrom sklearn.cluster import KMeans\\nfrom sklearn.model_selection import train_test_split\\nfrom sklearn.model_selection import cross_val_score\\nfrom sklearn.ensemble import GradientBoostingRegressor\\nfrom sklearn.feature_extraction.text import CountVectorizer\\nimport lightgbm as lgb\\nfrom sklearn.preprocessing import OneHotEncoder\\nimport nltk\\nimport re\\nimport matplotlib.pyplot as plt\\nimport tqdm\\nfrom sklearn.linear_model import Lasso\\nfrom sklearn.model_selection import KFold\\nfrom sklearn import metrics\\nimport xgboost as xgb\\nfrom sklearn.preprocessing import RobustScaler\\nfrom sklearn.linear_model import ElasticNetCV\\nimport sklearn\\nimport seaborn as sns\\nimport plotly as py\\nimport imutils\\nfrom sklearn.feature_extraction.text import TfidfVectorizer\\nimport pickle\\nfrom sklearn.linear_model import Ridge\\nfrom sklearn import svm\\nfrom sklearn.linear_model import RidgeCV\\nfrom sklearn.decomposition import PCA\\nfrom scipy import stats\\nfrom PIL import Image\\nfrom sklearn.model_selection import GridSearchCV\\nfrom sklearn.ensemble import GradientBoostingClassifier\\nimport spacy\\nfrom sklearn.linear_model import LogisticRegression\\nfrom sklearn.preprocessing import LabelEncoder\\nimport pydot\\nimport torch\\nimport skimage\\nfrom statsmodels.tsa.arima_model import ARIMA\\nfrom scipy import signal as sg\\nfrom sklearn.ensemble import RandomForestClassifier\\nimport statsmodels.api as sm'); }\n",
              "    "
            ]
          },
          "metadata": {}
        }
      ]
    },
    {
      "cell_type": "code",
      "source": [
        "dataset[\"Self_Employed\"]=np.where(dataset[\"Self_Employed\"]==\"Yes\",1,0)"
      ],
      "metadata": {
        "colab": {
          "base_uri": "https://localhost:8080/",
          "height": 17
        },
        "id": "i2oECWPGRQrq",
        "outputId": "75c614b4-4398-42e7-e231-5af5e70fca1d"
      },
      "execution_count": 1061,
      "outputs": [
        {
          "output_type": "display_data",
          "data": {
            "text/plain": [
              "<IPython.core.display.Javascript object>"
            ],
            "application/javascript": [
              "\n",
              "        if (window._pyforest_update_imports_cell) { window._pyforest_update_imports_cell('from sklearn.linear_model import LassoCV\\nimport plotly.express as px\\nfrom sklearn.linear_model import ElasticNet\\nimport pandas as pd\\nfrom sklearn.preprocessing import PolynomialFeatures\\nimport fastai\\nfrom pathlib import Path\\nimport matplotlib as mpl\\nimport cv2\\nfrom sklearn.preprocessing import MinMaxScaler\\nimport textblob\\nfrom sklearn.manifold import TSNE\\nimport numpy as np\\nfrom sklearn.ensemble import RandomForestRegressor\\nfrom sklearn.linear_model import LinearRegression\\nimport altair as alt\\nfrom sklearn.model_selection import RandomizedSearchCV\\nimport tensorflow as tf\\nfrom openpyxl import load_workbook\\nimport sys\\nimport statistics\\nfrom sklearn.cluster import KMeans\\nfrom sklearn.model_selection import train_test_split\\nfrom sklearn.model_selection import cross_val_score\\nfrom sklearn.ensemble import GradientBoostingRegressor\\nfrom sklearn.feature_extraction.text import CountVectorizer\\nimport lightgbm as lgb\\nfrom sklearn.preprocessing import OneHotEncoder\\nimport nltk\\nimport re\\nimport matplotlib.pyplot as plt\\nimport tqdm\\nfrom sklearn.linear_model import Lasso\\nfrom sklearn.model_selection import KFold\\nfrom sklearn import metrics\\nimport xgboost as xgb\\nfrom sklearn.preprocessing import RobustScaler\\nfrom sklearn.linear_model import ElasticNetCV\\nimport sklearn\\nimport seaborn as sns\\nimport plotly as py\\nimport imutils\\nfrom sklearn.feature_extraction.text import TfidfVectorizer\\nimport pickle\\nfrom sklearn.linear_model import Ridge\\nfrom sklearn import svm\\nfrom sklearn.linear_model import RidgeCV\\nfrom sklearn.decomposition import PCA\\nfrom scipy import stats\\nfrom PIL import Image\\nfrom sklearn.model_selection import GridSearchCV\\nfrom sklearn.ensemble import GradientBoostingClassifier\\nimport spacy\\nfrom sklearn.linear_model import LogisticRegression\\nfrom sklearn.preprocessing import LabelEncoder\\nimport pydot\\nimport torch\\nimport skimage\\nfrom statsmodels.tsa.arima_model import ARIMA\\nfrom scipy import signal as sg\\nfrom sklearn.ensemble import RandomForestClassifier\\nimport statsmodels.api as sm'); }\n",
              "    "
            ]
          },
          "metadata": {}
        }
      ]
    },
    {
      "cell_type": "code",
      "source": [
        "propertyarea=pd.get_dummies(dataset[\"Property_Area\"],drop_first=True)"
      ],
      "metadata": {
        "colab": {
          "base_uri": "https://localhost:8080/",
          "height": 17
        },
        "id": "LZv4zvVnRZrq",
        "outputId": "28a9e4e8-e200-496b-8727-b49b360afe56"
      },
      "execution_count": 1062,
      "outputs": [
        {
          "output_type": "display_data",
          "data": {
            "text/plain": [
              "<IPython.core.display.Javascript object>"
            ],
            "application/javascript": [
              "\n",
              "        if (window._pyforest_update_imports_cell) { window._pyforest_update_imports_cell('from sklearn.linear_model import LassoCV\\nimport plotly.express as px\\nfrom sklearn.linear_model import ElasticNet\\nimport pandas as pd\\nfrom sklearn.preprocessing import PolynomialFeatures\\nimport fastai\\nfrom pathlib import Path\\nimport matplotlib as mpl\\nimport cv2\\nfrom sklearn.preprocessing import MinMaxScaler\\nimport textblob\\nfrom sklearn.manifold import TSNE\\nimport numpy as np\\nfrom sklearn.ensemble import RandomForestRegressor\\nfrom sklearn.linear_model import LinearRegression\\nimport altair as alt\\nfrom sklearn.model_selection import RandomizedSearchCV\\nimport tensorflow as tf\\nfrom openpyxl import load_workbook\\nimport sys\\nimport statistics\\nfrom sklearn.cluster import KMeans\\nfrom sklearn.model_selection import train_test_split\\nfrom sklearn.model_selection import cross_val_score\\nfrom sklearn.ensemble import GradientBoostingRegressor\\nfrom sklearn.feature_extraction.text import CountVectorizer\\nimport lightgbm as lgb\\nfrom sklearn.preprocessing import OneHotEncoder\\nimport nltk\\nimport re\\nimport matplotlib.pyplot as plt\\nimport tqdm\\nfrom sklearn.linear_model import Lasso\\nfrom sklearn.model_selection import KFold\\nfrom sklearn import metrics\\nimport xgboost as xgb\\nfrom sklearn.preprocessing import RobustScaler\\nfrom sklearn.linear_model import ElasticNetCV\\nimport sklearn\\nimport seaborn as sns\\nimport plotly as py\\nimport imutils\\nfrom sklearn.feature_extraction.text import TfidfVectorizer\\nimport pickle\\nfrom sklearn.linear_model import Ridge\\nfrom sklearn import svm\\nfrom sklearn.linear_model import RidgeCV\\nfrom sklearn.decomposition import PCA\\nfrom scipy import stats\\nfrom PIL import Image\\nfrom sklearn.model_selection import GridSearchCV\\nfrom sklearn.ensemble import GradientBoostingClassifier\\nimport spacy\\nfrom sklearn.linear_model import LogisticRegression\\nfrom sklearn.preprocessing import LabelEncoder\\nimport pydot\\nimport torch\\nimport skimage\\nfrom statsmodels.tsa.arima_model import ARIMA\\nfrom scipy import signal as sg\\nfrom sklearn.ensemble import RandomForestClassifier\\nimport statsmodels.api as sm'); }\n",
              "    "
            ]
          },
          "metadata": {}
        }
      ]
    },
    {
      "cell_type": "code",
      "source": [
        "dataset=dataset.drop([\"Property_Area\"],axis=1)"
      ],
      "metadata": {
        "id": "-iz_WXYxRotq"
      },
      "execution_count": 1063,
      "outputs": []
    },
    {
      "cell_type": "code",
      "source": [
        "dataset=pd.concat([dataset,propertyarea],axis=1)"
      ],
      "metadata": {
        "colab": {
          "base_uri": "https://localhost:8080/",
          "height": 17
        },
        "id": "Z2WWOjoSRs42",
        "outputId": "c933145d-3b01-4193-9b83-14f1c26237d5"
      },
      "execution_count": 1064,
      "outputs": [
        {
          "output_type": "display_data",
          "data": {
            "text/plain": [
              "<IPython.core.display.Javascript object>"
            ],
            "application/javascript": [
              "\n",
              "        if (window._pyforest_update_imports_cell) { window._pyforest_update_imports_cell('from sklearn.linear_model import LassoCV\\nimport plotly.express as px\\nfrom sklearn.linear_model import ElasticNet\\nimport pandas as pd\\nfrom sklearn.preprocessing import PolynomialFeatures\\nimport fastai\\nfrom pathlib import Path\\nimport matplotlib as mpl\\nimport cv2\\nfrom sklearn.preprocessing import MinMaxScaler\\nimport textblob\\nfrom sklearn.manifold import TSNE\\nimport numpy as np\\nfrom sklearn.ensemble import RandomForestRegressor\\nfrom sklearn.linear_model import LinearRegression\\nimport altair as alt\\nfrom sklearn.model_selection import RandomizedSearchCV\\nimport tensorflow as tf\\nfrom openpyxl import load_workbook\\nimport sys\\nimport statistics\\nfrom sklearn.cluster import KMeans\\nfrom sklearn.model_selection import train_test_split\\nfrom sklearn.model_selection import cross_val_score\\nfrom sklearn.ensemble import GradientBoostingRegressor\\nfrom sklearn.feature_extraction.text import CountVectorizer\\nimport lightgbm as lgb\\nfrom sklearn.preprocessing import OneHotEncoder\\nimport nltk\\nimport re\\nimport matplotlib.pyplot as plt\\nimport tqdm\\nfrom sklearn.linear_model import Lasso\\nfrom sklearn.model_selection import KFold\\nfrom sklearn import metrics\\nimport xgboost as xgb\\nfrom sklearn.preprocessing import RobustScaler\\nfrom sklearn.linear_model import ElasticNetCV\\nimport sklearn\\nimport seaborn as sns\\nimport plotly as py\\nimport imutils\\nfrom sklearn.feature_extraction.text import TfidfVectorizer\\nimport pickle\\nfrom sklearn.linear_model import Ridge\\nfrom sklearn import svm\\nfrom sklearn.linear_model import RidgeCV\\nfrom sklearn.decomposition import PCA\\nfrom scipy import stats\\nfrom PIL import Image\\nfrom sklearn.model_selection import GridSearchCV\\nfrom sklearn.ensemble import GradientBoostingClassifier\\nimport spacy\\nfrom sklearn.linear_model import LogisticRegression\\nfrom sklearn.preprocessing import LabelEncoder\\nimport pydot\\nimport torch\\nimport skimage\\nfrom statsmodels.tsa.arima_model import ARIMA\\nfrom scipy import signal as sg\\nfrom sklearn.ensemble import RandomForestClassifier\\nimport statsmodels.api as sm'); }\n",
              "    "
            ]
          },
          "metadata": {}
        }
      ]
    },
    {
      "cell_type": "code",
      "source": [
        "dataset.head()"
      ],
      "metadata": {
        "colab": {
          "base_uri": "https://localhost:8080/",
          "height": 270
        },
        "id": "8wRLjWflRzLp",
        "outputId": "fddbb288-4f79-432f-c629-4d532b0b5a87"
      },
      "execution_count": 1065,
      "outputs": [
        {
          "output_type": "execute_result",
          "data": {
            "text/plain": [
              "   Gender  Married  Dependents  ...  Loan_Status  Semiurban  Urban\n",
              "0       1        0           0  ...            1          0      1\n",
              "1       1        1           1  ...            0          0      0\n",
              "2       1        1           0  ...            1          0      1\n",
              "3       1        1           0  ...            1          0      1\n",
              "4       1        0           0  ...            1          0      1\n",
              "\n",
              "[5 rows x 13 columns]"
            ],
            "text/html": [
              "\n",
              "  <div id=\"df-9daae35d-e12b-45b1-bcaa-68d29afe4a6d\">\n",
              "    <div class=\"colab-df-container\">\n",
              "      <div>\n",
              "<style scoped>\n",
              "    .dataframe tbody tr th:only-of-type {\n",
              "        vertical-align: middle;\n",
              "    }\n",
              "\n",
              "    .dataframe tbody tr th {\n",
              "        vertical-align: top;\n",
              "    }\n",
              "\n",
              "    .dataframe thead th {\n",
              "        text-align: right;\n",
              "    }\n",
              "</style>\n",
              "<table border=\"1\" class=\"dataframe\">\n",
              "  <thead>\n",
              "    <tr style=\"text-align: right;\">\n",
              "      <th></th>\n",
              "      <th>Gender</th>\n",
              "      <th>Married</th>\n",
              "      <th>Dependents</th>\n",
              "      <th>Education</th>\n",
              "      <th>Self_Employed</th>\n",
              "      <th>ApplicantIncome</th>\n",
              "      <th>CoapplicantIncome</th>\n",
              "      <th>LoanAmount</th>\n",
              "      <th>Loan_Amount_Term</th>\n",
              "      <th>Credit_History</th>\n",
              "      <th>Loan_Status</th>\n",
              "      <th>Semiurban</th>\n",
              "      <th>Urban</th>\n",
              "    </tr>\n",
              "  </thead>\n",
              "  <tbody>\n",
              "    <tr>\n",
              "      <th>0</th>\n",
              "      <td>1</td>\n",
              "      <td>0</td>\n",
              "      <td>0</td>\n",
              "      <td>1</td>\n",
              "      <td>0</td>\n",
              "      <td>5849</td>\n",
              "      <td>0.0</td>\n",
              "      <td>146.412162</td>\n",
              "      <td>360.0</td>\n",
              "      <td>1.0</td>\n",
              "      <td>1</td>\n",
              "      <td>0</td>\n",
              "      <td>1</td>\n",
              "    </tr>\n",
              "    <tr>\n",
              "      <th>1</th>\n",
              "      <td>1</td>\n",
              "      <td>1</td>\n",
              "      <td>1</td>\n",
              "      <td>1</td>\n",
              "      <td>0</td>\n",
              "      <td>4583</td>\n",
              "      <td>1508.0</td>\n",
              "      <td>128.000000</td>\n",
              "      <td>360.0</td>\n",
              "      <td>1.0</td>\n",
              "      <td>0</td>\n",
              "      <td>0</td>\n",
              "      <td>0</td>\n",
              "    </tr>\n",
              "    <tr>\n",
              "      <th>2</th>\n",
              "      <td>1</td>\n",
              "      <td>1</td>\n",
              "      <td>0</td>\n",
              "      <td>1</td>\n",
              "      <td>1</td>\n",
              "      <td>3000</td>\n",
              "      <td>0.0</td>\n",
              "      <td>66.000000</td>\n",
              "      <td>360.0</td>\n",
              "      <td>1.0</td>\n",
              "      <td>1</td>\n",
              "      <td>0</td>\n",
              "      <td>1</td>\n",
              "    </tr>\n",
              "    <tr>\n",
              "      <th>3</th>\n",
              "      <td>1</td>\n",
              "      <td>1</td>\n",
              "      <td>0</td>\n",
              "      <td>0</td>\n",
              "      <td>0</td>\n",
              "      <td>2583</td>\n",
              "      <td>2358.0</td>\n",
              "      <td>120.000000</td>\n",
              "      <td>360.0</td>\n",
              "      <td>1.0</td>\n",
              "      <td>1</td>\n",
              "      <td>0</td>\n",
              "      <td>1</td>\n",
              "    </tr>\n",
              "    <tr>\n",
              "      <th>4</th>\n",
              "      <td>1</td>\n",
              "      <td>0</td>\n",
              "      <td>0</td>\n",
              "      <td>1</td>\n",
              "      <td>0</td>\n",
              "      <td>6000</td>\n",
              "      <td>0.0</td>\n",
              "      <td>141.000000</td>\n",
              "      <td>360.0</td>\n",
              "      <td>1.0</td>\n",
              "      <td>1</td>\n",
              "      <td>0</td>\n",
              "      <td>1</td>\n",
              "    </tr>\n",
              "  </tbody>\n",
              "</table>\n",
              "</div>\n",
              "      <button class=\"colab-df-convert\" onclick=\"convertToInteractive('df-9daae35d-e12b-45b1-bcaa-68d29afe4a6d')\"\n",
              "              title=\"Convert this dataframe to an interactive table.\"\n",
              "              style=\"display:none;\">\n",
              "        \n",
              "  <svg xmlns=\"http://www.w3.org/2000/svg\" height=\"24px\"viewBox=\"0 0 24 24\"\n",
              "       width=\"24px\">\n",
              "    <path d=\"M0 0h24v24H0V0z\" fill=\"none\"/>\n",
              "    <path d=\"M18.56 5.44l.94 2.06.94-2.06 2.06-.94-2.06-.94-.94-2.06-.94 2.06-2.06.94zm-11 1L8.5 8.5l.94-2.06 2.06-.94-2.06-.94L8.5 2.5l-.94 2.06-2.06.94zm10 10l.94 2.06.94-2.06 2.06-.94-2.06-.94-.94-2.06-.94 2.06-2.06.94z\"/><path d=\"M17.41 7.96l-1.37-1.37c-.4-.4-.92-.59-1.43-.59-.52 0-1.04.2-1.43.59L10.3 9.45l-7.72 7.72c-.78.78-.78 2.05 0 2.83L4 21.41c.39.39.9.59 1.41.59.51 0 1.02-.2 1.41-.59l7.78-7.78 2.81-2.81c.8-.78.8-2.07 0-2.86zM5.41 20L4 18.59l7.72-7.72 1.47 1.35L5.41 20z\"/>\n",
              "  </svg>\n",
              "      </button>\n",
              "      \n",
              "  <style>\n",
              "    .colab-df-container {\n",
              "      display:flex;\n",
              "      flex-wrap:wrap;\n",
              "      gap: 12px;\n",
              "    }\n",
              "\n",
              "    .colab-df-convert {\n",
              "      background-color: #E8F0FE;\n",
              "      border: none;\n",
              "      border-radius: 50%;\n",
              "      cursor: pointer;\n",
              "      display: none;\n",
              "      fill: #1967D2;\n",
              "      height: 32px;\n",
              "      padding: 0 0 0 0;\n",
              "      width: 32px;\n",
              "    }\n",
              "\n",
              "    .colab-df-convert:hover {\n",
              "      background-color: #E2EBFA;\n",
              "      box-shadow: 0px 1px 2px rgba(60, 64, 67, 0.3), 0px 1px 3px 1px rgba(60, 64, 67, 0.15);\n",
              "      fill: #174EA6;\n",
              "    }\n",
              "\n",
              "    [theme=dark] .colab-df-convert {\n",
              "      background-color: #3B4455;\n",
              "      fill: #D2E3FC;\n",
              "    }\n",
              "\n",
              "    [theme=dark] .colab-df-convert:hover {\n",
              "      background-color: #434B5C;\n",
              "      box-shadow: 0px 1px 3px 1px rgba(0, 0, 0, 0.15);\n",
              "      filter: drop-shadow(0px 1px 2px rgba(0, 0, 0, 0.3));\n",
              "      fill: #FFFFFF;\n",
              "    }\n",
              "  </style>\n",
              "\n",
              "      <script>\n",
              "        const buttonEl =\n",
              "          document.querySelector('#df-9daae35d-e12b-45b1-bcaa-68d29afe4a6d button.colab-df-convert');\n",
              "        buttonEl.style.display =\n",
              "          google.colab.kernel.accessAllowed ? 'block' : 'none';\n",
              "\n",
              "        async function convertToInteractive(key) {\n",
              "          const element = document.querySelector('#df-9daae35d-e12b-45b1-bcaa-68d29afe4a6d');\n",
              "          const dataTable =\n",
              "            await google.colab.kernel.invokeFunction('convertToInteractive',\n",
              "                                                     [key], {});\n",
              "          if (!dataTable) return;\n",
              "\n",
              "          const docLinkHtml = 'Like what you see? Visit the ' +\n",
              "            '<a target=\"_blank\" href=https://colab.research.google.com/notebooks/data_table.ipynb>data table notebook</a>'\n",
              "            + ' to learn more about interactive tables.';\n",
              "          element.innerHTML = '';\n",
              "          dataTable['output_type'] = 'display_data';\n",
              "          await google.colab.output.renderOutput(dataTable, element);\n",
              "          const docLink = document.createElement('div');\n",
              "          docLink.innerHTML = docLinkHtml;\n",
              "          element.appendChild(docLink);\n",
              "        }\n",
              "      </script>\n",
              "    </div>\n",
              "  </div>\n",
              "  "
            ]
          },
          "metadata": {},
          "execution_count": 1065
        }
      ]
    },
    {
      "cell_type": "code",
      "source": [
        "dataset[\"Loan_Amount_Term\"].value_counts()"
      ],
      "metadata": {
        "colab": {
          "base_uri": "https://localhost:8080/"
        },
        "id": "lbzpTgV8R0k-",
        "outputId": "738c8ea7-a0cc-40cd-aa75-6fa7c9edb891"
      },
      "execution_count": 1066,
      "outputs": [
        {
          "output_type": "execute_result",
          "data": {
            "text/plain": [
              "360.0    512\n",
              "180.0     44\n",
              "480.0     15\n",
              "342.0     14\n",
              "300.0     13\n",
              "240.0      4\n",
              "84.0       4\n",
              "120.0      3\n",
              "60.0       2\n",
              "36.0       2\n",
              "12.0       1\n",
              "Name: Loan_Amount_Term, dtype: int64"
            ]
          },
          "metadata": {},
          "execution_count": 1066
        }
      ]
    },
    {
      "cell_type": "code",
      "source": [
        "for i in continuous:\n",
        "  dataset[i]=np.log1p(dataset[i])"
      ],
      "metadata": {
        "colab": {
          "base_uri": "https://localhost:8080/",
          "height": 17
        },
        "id": "1k0oaAiVSO0h",
        "outputId": "e661a3ce-4b0e-4b21-e49f-c141dbd1be9f"
      },
      "execution_count": 1067,
      "outputs": [
        {
          "output_type": "display_data",
          "data": {
            "text/plain": [
              "<IPython.core.display.Javascript object>"
            ],
            "application/javascript": [
              "\n",
              "        if (window._pyforest_update_imports_cell) { window._pyforest_update_imports_cell('from sklearn.linear_model import LassoCV\\nimport plotly.express as px\\nfrom sklearn.linear_model import ElasticNet\\nimport pandas as pd\\nfrom sklearn.preprocessing import PolynomialFeatures\\nimport fastai\\nfrom pathlib import Path\\nimport matplotlib as mpl\\nimport cv2\\nfrom sklearn.preprocessing import MinMaxScaler\\nimport textblob\\nfrom sklearn.manifold import TSNE\\nimport numpy as np\\nfrom sklearn.ensemble import RandomForestRegressor\\nfrom sklearn.linear_model import LinearRegression\\nimport altair as alt\\nfrom sklearn.model_selection import RandomizedSearchCV\\nimport tensorflow as tf\\nfrom openpyxl import load_workbook\\nimport sys\\nimport statistics\\nfrom sklearn.cluster import KMeans\\nfrom sklearn.model_selection import train_test_split\\nfrom sklearn.model_selection import cross_val_score\\nfrom sklearn.ensemble import GradientBoostingRegressor\\nfrom sklearn.feature_extraction.text import CountVectorizer\\nimport lightgbm as lgb\\nfrom sklearn.preprocessing import OneHotEncoder\\nimport nltk\\nimport re\\nimport matplotlib.pyplot as plt\\nimport tqdm\\nfrom sklearn.linear_model import Lasso\\nfrom sklearn.model_selection import KFold\\nfrom sklearn import metrics\\nimport xgboost as xgb\\nfrom sklearn.preprocessing import RobustScaler\\nfrom sklearn.linear_model import ElasticNetCV\\nimport sklearn\\nimport seaborn as sns\\nimport plotly as py\\nimport imutils\\nfrom sklearn.feature_extraction.text import TfidfVectorizer\\nimport pickle\\nfrom sklearn.linear_model import Ridge\\nfrom sklearn import svm\\nfrom sklearn.linear_model import RidgeCV\\nfrom sklearn.decomposition import PCA\\nfrom scipy import stats\\nfrom PIL import Image\\nfrom sklearn.model_selection import GridSearchCV\\nfrom sklearn.ensemble import GradientBoostingClassifier\\nimport spacy\\nfrom sklearn.linear_model import LogisticRegression\\nfrom sklearn.preprocessing import LabelEncoder\\nimport pydot\\nimport torch\\nimport skimage\\nfrom statsmodels.tsa.arima_model import ARIMA\\nfrom scipy import signal as sg\\nfrom sklearn.ensemble import RandomForestClassifier\\nimport statsmodels.api as sm'); }\n",
              "    "
            ]
          },
          "metadata": {}
        },
        {
          "output_type": "display_data",
          "data": {
            "text/plain": [
              "<IPython.core.display.Javascript object>"
            ],
            "application/javascript": [
              "\n",
              "        if (window._pyforest_update_imports_cell) { window._pyforest_update_imports_cell('from sklearn.linear_model import LassoCV\\nimport plotly.express as px\\nfrom sklearn.linear_model import ElasticNet\\nimport pandas as pd\\nfrom sklearn.preprocessing import PolynomialFeatures\\nimport fastai\\nfrom pathlib import Path\\nimport matplotlib as mpl\\nimport cv2\\nfrom sklearn.preprocessing import MinMaxScaler\\nimport textblob\\nfrom sklearn.manifold import TSNE\\nimport numpy as np\\nfrom sklearn.ensemble import RandomForestRegressor\\nfrom sklearn.linear_model import LinearRegression\\nimport altair as alt\\nfrom sklearn.model_selection import RandomizedSearchCV\\nimport tensorflow as tf\\nfrom openpyxl import load_workbook\\nimport sys\\nimport statistics\\nfrom sklearn.cluster import KMeans\\nfrom sklearn.model_selection import train_test_split\\nfrom sklearn.model_selection import cross_val_score\\nfrom sklearn.ensemble import GradientBoostingRegressor\\nfrom sklearn.feature_extraction.text import CountVectorizer\\nimport lightgbm as lgb\\nfrom sklearn.preprocessing import OneHotEncoder\\nimport nltk\\nimport re\\nimport matplotlib.pyplot as plt\\nimport tqdm\\nfrom sklearn.linear_model import Lasso\\nfrom sklearn.model_selection import KFold\\nfrom sklearn import metrics\\nimport xgboost as xgb\\nfrom sklearn.preprocessing import RobustScaler\\nfrom sklearn.linear_model import ElasticNetCV\\nimport sklearn\\nimport seaborn as sns\\nimport plotly as py\\nimport imutils\\nfrom sklearn.feature_extraction.text import TfidfVectorizer\\nimport pickle\\nfrom sklearn.linear_model import Ridge\\nfrom sklearn import svm\\nfrom sklearn.linear_model import RidgeCV\\nfrom sklearn.decomposition import PCA\\nfrom scipy import stats\\nfrom PIL import Image\\nfrom sklearn.model_selection import GridSearchCV\\nfrom sklearn.ensemble import GradientBoostingClassifier\\nimport spacy\\nfrom sklearn.linear_model import LogisticRegression\\nfrom sklearn.preprocessing import LabelEncoder\\nimport pydot\\nimport torch\\nimport skimage\\nfrom statsmodels.tsa.arima_model import ARIMA\\nfrom scipy import signal as sg\\nfrom sklearn.ensemble import RandomForestClassifier\\nimport statsmodels.api as sm'); }\n",
              "    "
            ]
          },
          "metadata": {}
        },
        {
          "output_type": "display_data",
          "data": {
            "text/plain": [
              "<IPython.core.display.Javascript object>"
            ],
            "application/javascript": [
              "\n",
              "        if (window._pyforest_update_imports_cell) { window._pyforest_update_imports_cell('from sklearn.linear_model import LassoCV\\nimport plotly.express as px\\nfrom sklearn.linear_model import ElasticNet\\nimport pandas as pd\\nfrom sklearn.preprocessing import PolynomialFeatures\\nimport fastai\\nfrom pathlib import Path\\nimport matplotlib as mpl\\nimport cv2\\nfrom sklearn.preprocessing import MinMaxScaler\\nimport textblob\\nfrom sklearn.manifold import TSNE\\nimport numpy as np\\nfrom sklearn.ensemble import RandomForestRegressor\\nfrom sklearn.linear_model import LinearRegression\\nimport altair as alt\\nfrom sklearn.model_selection import RandomizedSearchCV\\nimport tensorflow as tf\\nfrom openpyxl import load_workbook\\nimport sys\\nimport statistics\\nfrom sklearn.cluster import KMeans\\nfrom sklearn.model_selection import train_test_split\\nfrom sklearn.model_selection import cross_val_score\\nfrom sklearn.ensemble import GradientBoostingRegressor\\nfrom sklearn.feature_extraction.text import CountVectorizer\\nimport lightgbm as lgb\\nfrom sklearn.preprocessing import OneHotEncoder\\nimport nltk\\nimport re\\nimport matplotlib.pyplot as plt\\nimport tqdm\\nfrom sklearn.linear_model import Lasso\\nfrom sklearn.model_selection import KFold\\nfrom sklearn import metrics\\nimport xgboost as xgb\\nfrom sklearn.preprocessing import RobustScaler\\nfrom sklearn.linear_model import ElasticNetCV\\nimport sklearn\\nimport seaborn as sns\\nimport plotly as py\\nimport imutils\\nfrom sklearn.feature_extraction.text import TfidfVectorizer\\nimport pickle\\nfrom sklearn.linear_model import Ridge\\nfrom sklearn import svm\\nfrom sklearn.linear_model import RidgeCV\\nfrom sklearn.decomposition import PCA\\nfrom scipy import stats\\nfrom PIL import Image\\nfrom sklearn.model_selection import GridSearchCV\\nfrom sklearn.ensemble import GradientBoostingClassifier\\nimport spacy\\nfrom sklearn.linear_model import LogisticRegression\\nfrom sklearn.preprocessing import LabelEncoder\\nimport pydot\\nimport torch\\nimport skimage\\nfrom statsmodels.tsa.arima_model import ARIMA\\nfrom scipy import signal as sg\\nfrom sklearn.ensemble import RandomForestClassifier\\nimport statsmodels.api as sm'); }\n",
              "    "
            ]
          },
          "metadata": {}
        }
      ]
    },
    {
      "cell_type": "code",
      "source": [
        "import scipy.stats as stat\n",
        "import pylab"
      ],
      "metadata": {
        "id": "ZXhjTyHRSeqr"
      },
      "execution_count": 1068,
      "outputs": []
    },
    {
      "cell_type": "code",
      "source": [
        "for i in continuous:\n",
        "  stats.probplot(dataset[i],plot=pylab)\n",
        "  plt.xlabel(i)\n",
        "  plt.show()"
      ],
      "metadata": {
        "colab": {
          "base_uri": "https://localhost:8080/",
          "height": 851
        },
        "id": "mnVxt0T7Sk9t",
        "outputId": "02478dfa-6784-4f90-f84f-2e3b4cf35711"
      },
      "execution_count": 1069,
      "outputs": [
        {
          "output_type": "display_data",
          "data": {
            "text/plain": [
              "<IPython.core.display.Javascript object>"
            ],
            "application/javascript": [
              "\n",
              "        if (window._pyforest_update_imports_cell) { window._pyforest_update_imports_cell('from sklearn.linear_model import LassoCV\\nimport plotly.express as px\\nfrom sklearn.linear_model import ElasticNet\\nimport pandas as pd\\nfrom sklearn.preprocessing import PolynomialFeatures\\nimport fastai\\nfrom pathlib import Path\\nimport matplotlib as mpl\\nimport cv2\\nfrom sklearn.preprocessing import MinMaxScaler\\nimport textblob\\nfrom sklearn.manifold import TSNE\\nimport numpy as np\\nfrom sklearn.ensemble import RandomForestRegressor\\nfrom sklearn.linear_model import LinearRegression\\nimport altair as alt\\nfrom sklearn.model_selection import RandomizedSearchCV\\nimport tensorflow as tf\\nfrom openpyxl import load_workbook\\nimport sys\\nimport statistics\\nfrom sklearn.cluster import KMeans\\nfrom sklearn.model_selection import train_test_split\\nfrom sklearn.model_selection import cross_val_score\\nfrom sklearn.ensemble import GradientBoostingRegressor\\nfrom sklearn.feature_extraction.text import CountVectorizer\\nimport lightgbm as lgb\\nfrom sklearn.preprocessing import OneHotEncoder\\nimport nltk\\nimport re\\nimport matplotlib.pyplot as plt\\nimport tqdm\\nfrom sklearn.linear_model import Lasso\\nfrom sklearn.model_selection import KFold\\nfrom sklearn import metrics\\nimport xgboost as xgb\\nfrom sklearn.preprocessing import RobustScaler\\nfrom sklearn.linear_model import ElasticNetCV\\nimport sklearn\\nimport seaborn as sns\\nimport plotly as py\\nimport imutils\\nfrom sklearn.feature_extraction.text import TfidfVectorizer\\nimport pickle\\nfrom sklearn.linear_model import Ridge\\nfrom sklearn import svm\\nfrom sklearn.linear_model import RidgeCV\\nfrom sklearn.decomposition import PCA\\nfrom scipy import stats\\nfrom PIL import Image\\nfrom sklearn.model_selection import GridSearchCV\\nfrom sklearn.ensemble import GradientBoostingClassifier\\nimport spacy\\nfrom sklearn.linear_model import LogisticRegression\\nfrom sklearn.preprocessing import LabelEncoder\\nimport pydot\\nimport torch\\nimport skimage\\nfrom statsmodels.tsa.arima_model import ARIMA\\nfrom scipy import signal as sg\\nfrom sklearn.ensemble import RandomForestClassifier\\nimport statsmodels.api as sm'); }\n",
              "    "
            ]
          },
          "metadata": {}
        },
        {
          "output_type": "display_data",
          "data": {
            "text/plain": [
              "<IPython.core.display.Javascript object>"
            ],
            "application/javascript": [
              "\n",
              "        if (window._pyforest_update_imports_cell) { window._pyforest_update_imports_cell('from sklearn.linear_model import LassoCV\\nimport plotly.express as px\\nfrom sklearn.linear_model import ElasticNet\\nimport pandas as pd\\nfrom sklearn.preprocessing import PolynomialFeatures\\nimport fastai\\nfrom pathlib import Path\\nimport matplotlib as mpl\\nimport cv2\\nfrom sklearn.preprocessing import MinMaxScaler\\nimport textblob\\nfrom sklearn.manifold import TSNE\\nimport numpy as np\\nfrom sklearn.ensemble import RandomForestRegressor\\nfrom sklearn.linear_model import LinearRegression\\nimport altair as alt\\nfrom sklearn.model_selection import RandomizedSearchCV\\nimport tensorflow as tf\\nfrom openpyxl import load_workbook\\nimport sys\\nimport statistics\\nfrom sklearn.cluster import KMeans\\nfrom sklearn.model_selection import train_test_split\\nfrom sklearn.model_selection import cross_val_score\\nfrom sklearn.ensemble import GradientBoostingRegressor\\nfrom sklearn.feature_extraction.text import CountVectorizer\\nimport lightgbm as lgb\\nfrom sklearn.preprocessing import OneHotEncoder\\nimport nltk\\nimport re\\nimport matplotlib.pyplot as plt\\nimport tqdm\\nfrom sklearn.linear_model import Lasso\\nfrom sklearn.model_selection import KFold\\nfrom sklearn import metrics\\nimport xgboost as xgb\\nfrom sklearn.preprocessing import RobustScaler\\nfrom sklearn.linear_model import ElasticNetCV\\nimport sklearn\\nimport seaborn as sns\\nimport plotly as py\\nimport imutils\\nfrom sklearn.feature_extraction.text import TfidfVectorizer\\nimport pickle\\nfrom sklearn.linear_model import Ridge\\nfrom sklearn import svm\\nfrom sklearn.linear_model import RidgeCV\\nfrom sklearn.decomposition import PCA\\nfrom scipy import stats\\nfrom PIL import Image\\nfrom sklearn.model_selection import GridSearchCV\\nfrom sklearn.ensemble import GradientBoostingClassifier\\nimport spacy\\nfrom sklearn.linear_model import LogisticRegression\\nfrom sklearn.preprocessing import LabelEncoder\\nimport pydot\\nimport torch\\nimport skimage\\nfrom statsmodels.tsa.arima_model import ARIMA\\nfrom scipy import signal as sg\\nfrom sklearn.ensemble import RandomForestClassifier\\nimport statsmodels.api as sm'); }\n",
              "    "
            ]
          },
          "metadata": {}
        },
        {
          "output_type": "display_data",
          "data": {
            "text/plain": [
              "<IPython.core.display.Javascript object>"
            ],
            "application/javascript": [
              "\n",
              "        if (window._pyforest_update_imports_cell) { window._pyforest_update_imports_cell('from sklearn.linear_model import LassoCV\\nimport plotly.express as px\\nfrom sklearn.linear_model import ElasticNet\\nimport pandas as pd\\nfrom sklearn.preprocessing import PolynomialFeatures\\nimport fastai\\nfrom pathlib import Path\\nimport matplotlib as mpl\\nimport cv2\\nfrom sklearn.preprocessing import MinMaxScaler\\nimport textblob\\nfrom sklearn.manifold import TSNE\\nimport numpy as np\\nfrom sklearn.ensemble import RandomForestRegressor\\nfrom sklearn.linear_model import LinearRegression\\nimport altair as alt\\nfrom sklearn.model_selection import RandomizedSearchCV\\nimport tensorflow as tf\\nfrom openpyxl import load_workbook\\nimport sys\\nimport statistics\\nfrom sklearn.cluster import KMeans\\nfrom sklearn.model_selection import train_test_split\\nfrom sklearn.model_selection import cross_val_score\\nfrom sklearn.ensemble import GradientBoostingRegressor\\nfrom sklearn.feature_extraction.text import CountVectorizer\\nimport lightgbm as lgb\\nfrom sklearn.preprocessing import OneHotEncoder\\nimport nltk\\nimport re\\nimport matplotlib.pyplot as plt\\nimport tqdm\\nfrom sklearn.linear_model import Lasso\\nfrom sklearn.model_selection import KFold\\nfrom sklearn import metrics\\nimport xgboost as xgb\\nfrom sklearn.preprocessing import RobustScaler\\nfrom sklearn.linear_model import ElasticNetCV\\nimport sklearn\\nimport seaborn as sns\\nimport plotly as py\\nimport imutils\\nfrom sklearn.feature_extraction.text import TfidfVectorizer\\nimport pickle\\nfrom sklearn.linear_model import Ridge\\nfrom sklearn import svm\\nfrom sklearn.linear_model import RidgeCV\\nfrom sklearn.decomposition import PCA\\nfrom scipy import stats\\nfrom PIL import Image\\nfrom sklearn.model_selection import GridSearchCV\\nfrom sklearn.ensemble import GradientBoostingClassifier\\nimport spacy\\nfrom sklearn.linear_model import LogisticRegression\\nfrom sklearn.preprocessing import LabelEncoder\\nimport pydot\\nimport torch\\nimport skimage\\nfrom statsmodels.tsa.arima_model import ARIMA\\nfrom scipy import signal as sg\\nfrom sklearn.ensemble import RandomForestClassifier\\nimport statsmodels.api as sm'); }\n",
              "    "
            ]
          },
          "metadata": {}
        },
        {
          "output_type": "display_data",
          "data": {
            "text/plain": [
              "<Figure size 432x288 with 1 Axes>"
            ],
            "image/png": "[encoded data removed]"
          },
          "metadata": {
            "needs_background": "light"
          }
        },
        {
          "output_type": "display_data",
          "data": {
            "text/plain": [
              "<IPython.core.display.Javascript object>"
            ],
            "application/javascript": [
              "\n",
              "        if (window._pyforest_update_imports_cell) { window._pyforest_update_imports_cell('from sklearn.linear_model import LassoCV\\nimport plotly.express as px\\nfrom sklearn.linear_model import ElasticNet\\nimport pandas as pd\\nfrom sklearn.preprocessing import PolynomialFeatures\\nimport fastai\\nfrom pathlib import Path\\nimport matplotlib as mpl\\nimport cv2\\nfrom sklearn.preprocessing import MinMaxScaler\\nimport textblob\\nfrom sklearn.manifold import TSNE\\nimport numpy as np\\nfrom sklearn.ensemble import RandomForestRegressor\\nfrom sklearn.linear_model import LinearRegression\\nimport altair as alt\\nfrom sklearn.model_selection import RandomizedSearchCV\\nimport tensorflow as tf\\nfrom openpyxl import load_workbook\\nimport sys\\nimport statistics\\nfrom sklearn.cluster import KMeans\\nfrom sklearn.model_selection import train_test_split\\nfrom sklearn.model_selection import cross_val_score\\nfrom sklearn.ensemble import GradientBoostingRegressor\\nfrom sklearn.feature_extraction.text import CountVectorizer\\nimport lightgbm as lgb\\nfrom sklearn.preprocessing import OneHotEncoder\\nimport nltk\\nimport re\\nimport matplotlib.pyplot as plt\\nimport tqdm\\nfrom sklearn.linear_model import Lasso\\nfrom sklearn.model_selection import KFold\\nfrom sklearn import metrics\\nimport xgboost as xgb\\nfrom sklearn.preprocessing import RobustScaler\\nfrom sklearn.linear_model import ElasticNetCV\\nimport sklearn\\nimport seaborn as sns\\nimport plotly as py\\nimport imutils\\nfrom sklearn.feature_extraction.text import TfidfVectorizer\\nimport pickle\\nfrom sklearn.linear_model import Ridge\\nfrom sklearn import svm\\nfrom sklearn.linear_model import RidgeCV\\nfrom sklearn.decomposition import PCA\\nfrom scipy import stats\\nfrom PIL import Image\\nfrom sklearn.model_selection import GridSearchCV\\nfrom sklearn.ensemble import GradientBoostingClassifier\\nimport spacy\\nfrom sklearn.linear_model import LogisticRegression\\nfrom sklearn.preprocessing import LabelEncoder\\nimport pydot\\nimport torch\\nimport skimage\\nfrom statsmodels.tsa.arima_model import ARIMA\\nfrom scipy import signal as sg\\nfrom sklearn.ensemble import RandomForestClassifier\\nimport statsmodels.api as sm'); }\n",
              "    "
            ]
          },
          "metadata": {}
        },
        {
          "output_type": "display_data",
          "data": {
            "text/plain": [
              "<IPython.core.display.Javascript object>"
            ],
            "application/javascript": [
              "\n",
              "        if (window._pyforest_update_imports_cell) { window._pyforest_update_imports_cell('from sklearn.linear_model import LassoCV\\nimport plotly.express as px\\nfrom sklearn.linear_model import ElasticNet\\nimport pandas as pd\\nfrom sklearn.preprocessing import PolynomialFeatures\\nimport fastai\\nfrom pathlib import Path\\nimport matplotlib as mpl\\nimport cv2\\nfrom sklearn.preprocessing import MinMaxScaler\\nimport textblob\\nfrom sklearn.manifold import TSNE\\nimport numpy as np\\nfrom sklearn.ensemble import RandomForestRegressor\\nfrom sklearn.linear_model import LinearRegression\\nimport altair as alt\\nfrom sklearn.model_selection import RandomizedSearchCV\\nimport tensorflow as tf\\nfrom openpyxl import load_workbook\\nimport sys\\nimport statistics\\nfrom sklearn.cluster import KMeans\\nfrom sklearn.model_selection import train_test_split\\nfrom sklearn.model_selection import cross_val_score\\nfrom sklearn.ensemble import GradientBoostingRegressor\\nfrom sklearn.feature_extraction.text import CountVectorizer\\nimport lightgbm as lgb\\nfrom sklearn.preprocessing import OneHotEncoder\\nimport nltk\\nimport re\\nimport matplotlib.pyplot as plt\\nimport tqdm\\nfrom sklearn.linear_model import Lasso\\nfrom sklearn.model_selection import KFold\\nfrom sklearn import metrics\\nimport xgboost as xgb\\nfrom sklearn.preprocessing import RobustScaler\\nfrom sklearn.linear_model import ElasticNetCV\\nimport sklearn\\nimport seaborn as sns\\nimport plotly as py\\nimport imutils\\nfrom sklearn.feature_extraction.text import TfidfVectorizer\\nimport pickle\\nfrom sklearn.linear_model import Ridge\\nfrom sklearn import svm\\nfrom sklearn.linear_model import RidgeCV\\nfrom sklearn.decomposition import PCA\\nfrom scipy import stats\\nfrom PIL import Image\\nfrom sklearn.model_selection import GridSearchCV\\nfrom sklearn.ensemble import GradientBoostingClassifier\\nimport spacy\\nfrom sklearn.linear_model import LogisticRegression\\nfrom sklearn.preprocessing import LabelEncoder\\nimport pydot\\nimport torch\\nimport skimage\\nfrom statsmodels.tsa.arima_model import ARIMA\\nfrom scipy import signal as sg\\nfrom sklearn.ensemble import RandomForestClassifier\\nimport statsmodels.api as sm'); }\n",
              "    "
            ]
          },
          "metadata": {}
        },
        {
          "output_type": "display_data",
          "data": {
            "text/plain": [
              "<IPython.core.display.Javascript object>"
            ],
            "application/javascript": [
              "\n",
              "        if (window._pyforest_update_imports_cell) { window._pyforest_update_imports_cell('from sklearn.linear_model import LassoCV\\nimport plotly.express as px\\nfrom sklearn.linear_model import ElasticNet\\nimport pandas as pd\\nfrom sklearn.preprocessing import PolynomialFeatures\\nimport fastai\\nfrom pathlib import Path\\nimport matplotlib as mpl\\nimport cv2\\nfrom sklearn.preprocessing import MinMaxScaler\\nimport textblob\\nfrom sklearn.manifold import TSNE\\nimport numpy as np\\nfrom sklearn.ensemble import RandomForestRegressor\\nfrom sklearn.linear_model import LinearRegression\\nimport altair as alt\\nfrom sklearn.model_selection import RandomizedSearchCV\\nimport tensorflow as tf\\nfrom openpyxl import load_workbook\\nimport sys\\nimport statistics\\nfrom sklearn.cluster import KMeans\\nfrom sklearn.model_selection import train_test_split\\nfrom sklearn.model_selection import cross_val_score\\nfrom sklearn.ensemble import GradientBoostingRegressor\\nfrom sklearn.feature_extraction.text import CountVectorizer\\nimport lightgbm as lgb\\nfrom sklearn.preprocessing import OneHotEncoder\\nimport nltk\\nimport re\\nimport matplotlib.pyplot as plt\\nimport tqdm\\nfrom sklearn.linear_model import Lasso\\nfrom sklearn.model_selection import KFold\\nfrom sklearn import metrics\\nimport xgboost as xgb\\nfrom sklearn.preprocessing import RobustScaler\\nfrom sklearn.linear_model import ElasticNetCV\\nimport sklearn\\nimport seaborn as sns\\nimport plotly as py\\nimport imutils\\nfrom sklearn.feature_extraction.text import TfidfVectorizer\\nimport pickle\\nfrom sklearn.linear_model import Ridge\\nfrom sklearn import svm\\nfrom sklearn.linear_model import RidgeCV\\nfrom sklearn.decomposition import PCA\\nfrom scipy import stats\\nfrom PIL import Image\\nfrom sklearn.model_selection import GridSearchCV\\nfrom sklearn.ensemble import GradientBoostingClassifier\\nimport spacy\\nfrom sklearn.linear_model import LogisticRegression\\nfrom sklearn.preprocessing import LabelEncoder\\nimport pydot\\nimport torch\\nimport skimage\\nfrom statsmodels.tsa.arima_model import ARIMA\\nfrom scipy import signal as sg\\nfrom sklearn.ensemble import RandomForestClassifier\\nimport statsmodels.api as sm'); }\n",
              "    "
            ]
          },
          "metadata": {}
        },
        {
          "output_type": "display_data",
          "data": {
            "text/plain": [
              "<Figure size 432x288 with 1 Axes>"
            ],
            "image/png": "[encoded data removed]"
          },
          "metadata": {
            "needs_background": "light"
          }
        },
        {
          "output_type": "display_data",
          "data": {
            "text/plain": [
              "<IPython.core.display.Javascript object>"
            ],
            "application/javascript": [
              "\n",
              "        if (window._pyforest_update_imports_cell) { window._pyforest_update_imports_cell('from sklearn.linear_model import LassoCV\\nimport plotly.express as px\\nfrom sklearn.linear_model import ElasticNet\\nimport pandas as pd\\nfrom sklearn.preprocessing import PolynomialFeatures\\nimport fastai\\nfrom pathlib import Path\\nimport matplotlib as mpl\\nimport cv2\\nfrom sklearn.preprocessing import MinMaxScaler\\nimport textblob\\nfrom sklearn.manifold import TSNE\\nimport numpy as np\\nfrom sklearn.ensemble import RandomForestRegressor\\nfrom sklearn.linear_model import LinearRegression\\nimport altair as alt\\nfrom sklearn.model_selection import RandomizedSearchCV\\nimport tensorflow as tf\\nfrom openpyxl import load_workbook\\nimport sys\\nimport statistics\\nfrom sklearn.cluster import KMeans\\nfrom sklearn.model_selection import train_test_split\\nfrom sklearn.model_selection import cross_val_score\\nfrom sklearn.ensemble import GradientBoostingRegressor\\nfrom sklearn.feature_extraction.text import CountVectorizer\\nimport lightgbm as lgb\\nfrom sklearn.preprocessing import OneHotEncoder\\nimport nltk\\nimport re\\nimport matplotlib.pyplot as plt\\nimport tqdm\\nfrom sklearn.linear_model import Lasso\\nfrom sklearn.model_selection import KFold\\nfrom sklearn import metrics\\nimport xgboost as xgb\\nfrom sklearn.preprocessing import RobustScaler\\nfrom sklearn.linear_model import ElasticNetCV\\nimport sklearn\\nimport seaborn as sns\\nimport plotly as py\\nimport imutils\\nfrom sklearn.feature_extraction.text import TfidfVectorizer\\nimport pickle\\nfrom sklearn.linear_model import Ridge\\nfrom sklearn import svm\\nfrom sklearn.linear_model import RidgeCV\\nfrom sklearn.decomposition import PCA\\nfrom scipy import stats\\nfrom PIL import Image\\nfrom sklearn.model_selection import GridSearchCV\\nfrom sklearn.ensemble import GradientBoostingClassifier\\nimport spacy\\nfrom sklearn.linear_model import LogisticRegression\\nfrom sklearn.preprocessing import LabelEncoder\\nimport pydot\\nimport torch\\nimport skimage\\nfrom statsmodels.tsa.arima_model import ARIMA\\nfrom scipy import signal as sg\\nfrom sklearn.ensemble import RandomForestClassifier\\nimport statsmodels.api as sm'); }\n",
              "    "
            ]
          },
          "metadata": {}
        },
        {
          "output_type": "display_data",
          "data": {
            "text/plain": [
              "<IPython.core.display.Javascript object>"
            ],
            "application/javascript": [
              "\n",
              "        if (window._pyforest_update_imports_cell) { window._pyforest_update_imports_cell('from sklearn.linear_model import LassoCV\\nimport plotly.express as px\\nfrom sklearn.linear_model import ElasticNet\\nimport pandas as pd\\nfrom sklearn.preprocessing import PolynomialFeatures\\nimport fastai\\nfrom pathlib import Path\\nimport matplotlib as mpl\\nimport cv2\\nfrom sklearn.preprocessing import MinMaxScaler\\nimport textblob\\nfrom sklearn.manifold import TSNE\\nimport numpy as np\\nfrom sklearn.ensemble import RandomForestRegressor\\nfrom sklearn.linear_model import LinearRegression\\nimport altair as alt\\nfrom sklearn.model_selection import RandomizedSearchCV\\nimport tensorflow as tf\\nfrom openpyxl import load_workbook\\nimport sys\\nimport statistics\\nfrom sklearn.cluster import KMeans\\nfrom sklearn.model_selection import train_test_split\\nfrom sklearn.model_selection import cross_val_score\\nfrom sklearn.ensemble import GradientBoostingRegressor\\nfrom sklearn.feature_extraction.text import CountVectorizer\\nimport lightgbm as lgb\\nfrom sklearn.preprocessing import OneHotEncoder\\nimport nltk\\nimport re\\nimport matplotlib.pyplot as plt\\nimport tqdm\\nfrom sklearn.linear_model import Lasso\\nfrom sklearn.model_selection import KFold\\nfrom sklearn import metrics\\nimport xgboost as xgb\\nfrom sklearn.preprocessing import RobustScaler\\nfrom sklearn.linear_model import ElasticNetCV\\nimport sklearn\\nimport seaborn as sns\\nimport plotly as py\\nimport imutils\\nfrom sklearn.feature_extraction.text import TfidfVectorizer\\nimport pickle\\nfrom sklearn.linear_model import Ridge\\nfrom sklearn import svm\\nfrom sklearn.linear_model import RidgeCV\\nfrom sklearn.decomposition import PCA\\nfrom scipy import stats\\nfrom PIL import Image\\nfrom sklearn.model_selection import GridSearchCV\\nfrom sklearn.ensemble import GradientBoostingClassifier\\nimport spacy\\nfrom sklearn.linear_model import LogisticRegression\\nfrom sklearn.preprocessing import LabelEncoder\\nimport pydot\\nimport torch\\nimport skimage\\nfrom statsmodels.tsa.arima_model import ARIMA\\nfrom scipy import signal as sg\\nfrom sklearn.ensemble import RandomForestClassifier\\nimport statsmodels.api as sm'); }\n",
              "    "
            ]
          },
          "metadata": {}
        },
        {
          "output_type": "display_data",
          "data": {
            "text/plain": [
              "<IPython.core.display.Javascript object>"
            ],
            "application/javascript": [
              "\n",
              "        if (window._pyforest_update_imports_cell) { window._pyforest_update_imports_cell('from sklearn.linear_model import LassoCV\\nimport plotly.express as px\\nfrom sklearn.linear_model import ElasticNet\\nimport pandas as pd\\nfrom sklearn.preprocessing import PolynomialFeatures\\nimport fastai\\nfrom pathlib import Path\\nimport matplotlib as mpl\\nimport cv2\\nfrom sklearn.preprocessing import MinMaxScaler\\nimport textblob\\nfrom sklearn.manifold import TSNE\\nimport numpy as np\\nfrom sklearn.ensemble import RandomForestRegressor\\nfrom sklearn.linear_model import LinearRegression\\nimport altair as alt\\nfrom sklearn.model_selection import RandomizedSearchCV\\nimport tensorflow as tf\\nfrom openpyxl import load_workbook\\nimport sys\\nimport statistics\\nfrom sklearn.cluster import KMeans\\nfrom sklearn.model_selection import train_test_split\\nfrom sklearn.model_selection import cross_val_score\\nfrom sklearn.ensemble import GradientBoostingRegressor\\nfrom sklearn.feature_extraction.text import CountVectorizer\\nimport lightgbm as lgb\\nfrom sklearn.preprocessing import OneHotEncoder\\nimport nltk\\nimport re\\nimport matplotlib.pyplot as plt\\nimport tqdm\\nfrom sklearn.linear_model import Lasso\\nfrom sklearn.model_selection import KFold\\nfrom sklearn import metrics\\nimport xgboost as xgb\\nfrom sklearn.preprocessing import RobustScaler\\nfrom sklearn.linear_model import ElasticNetCV\\nimport sklearn\\nimport seaborn as sns\\nimport plotly as py\\nimport imutils\\nfrom sklearn.feature_extraction.text import TfidfVectorizer\\nimport pickle\\nfrom sklearn.linear_model import Ridge\\nfrom sklearn import svm\\nfrom sklearn.linear_model import RidgeCV\\nfrom sklearn.decomposition import PCA\\nfrom scipy import stats\\nfrom PIL import Image\\nfrom sklearn.model_selection import GridSearchCV\\nfrom sklearn.ensemble import GradientBoostingClassifier\\nimport spacy\\nfrom sklearn.linear_model import LogisticRegression\\nfrom sklearn.preprocessing import LabelEncoder\\nimport pydot\\nimport torch\\nimport skimage\\nfrom statsmodels.tsa.arima_model import ARIMA\\nfrom scipy import signal as sg\\nfrom sklearn.ensemble import RandomForestClassifier\\nimport statsmodels.api as sm'); }\n",
              "    "
            ]
          },
          "metadata": {}
        },
        {
          "output_type": "display_data",
          "data": {
            "text/plain": [
              "<Figure size 432x288 with 1 Axes>"
            ],
            "image/png": "[encoded data removed]"
          },
          "metadata": {
            "needs_background": "light"
          }
        }
      ]
    },
    {
      "cell_type": "code",
      "source": [
        "dataset.dtypes"
      ],
      "metadata": {
        "colab": {
          "base_uri": "https://localhost:8080/"
        },
        "id": "QvLsK62nSyiM",
        "outputId": "10054c89-7994-4a1f-9408-edff7c58b1b6"
      },
      "execution_count": 1070,
      "outputs": [
        {
          "output_type": "execute_result",
          "data": {
            "text/plain": [
              "Gender                 int64\n",
              "Married                int64\n",
              "Dependents             int64\n",
              "Education              int64\n",
              "Self_Employed          int64\n",
              "ApplicantIncome      float64\n",
              "CoapplicantIncome    float64\n",
              "LoanAmount           float64\n",
              "Loan_Amount_Term     float64\n",
              "Credit_History       float64\n",
              "Loan_Status            int64\n",
              "Semiurban              uint8\n",
              "Urban                  uint8\n",
              "dtype: object"
            ]
          },
          "metadata": {},
          "execution_count": 1070
        }
      ]
    },
    {
      "cell_type": "code",
      "source": [
        "\n",
        "  sns.distplot(dataset[\"LoanAmount\"])\n",
        "  plt.xlabel(\"LoanAmount \")\n",
        "  plt.show()"
      ],
      "metadata": {
        "colab": {
          "base_uri": "https://localhost:8080/",
          "height": 335
        },
        "id": "le_xguAQTvDj",
        "outputId": "cb67fe1e-b366-4bb0-ce28-3bdbf65a5af0"
      },
      "execution_count": 1071,
      "outputs": [
        {
          "output_type": "display_data",
          "data": {
            "text/plain": [
              "<IPython.core.display.Javascript object>"
            ],
            "application/javascript": [
              "\n",
              "        if (window._pyforest_update_imports_cell) { window._pyforest_update_imports_cell('from sklearn.linear_model import LassoCV\\nimport plotly.express as px\\nfrom sklearn.linear_model import ElasticNet\\nimport pandas as pd\\nfrom sklearn.preprocessing import PolynomialFeatures\\nimport fastai\\nfrom pathlib import Path\\nimport matplotlib as mpl\\nimport cv2\\nfrom sklearn.preprocessing import MinMaxScaler\\nimport textblob\\nfrom sklearn.manifold import TSNE\\nimport numpy as np\\nfrom sklearn.ensemble import RandomForestRegressor\\nfrom sklearn.linear_model import LinearRegression\\nimport altair as alt\\nfrom sklearn.model_selection import RandomizedSearchCV\\nimport tensorflow as tf\\nfrom openpyxl import load_workbook\\nimport sys\\nimport statistics\\nfrom sklearn.cluster import KMeans\\nfrom sklearn.model_selection import train_test_split\\nfrom sklearn.model_selection import cross_val_score\\nfrom sklearn.ensemble import GradientBoostingRegressor\\nfrom sklearn.feature_extraction.text import CountVectorizer\\nimport lightgbm as lgb\\nfrom sklearn.preprocessing import OneHotEncoder\\nimport nltk\\nimport re\\nimport matplotlib.pyplot as plt\\nimport tqdm\\nfrom sklearn.linear_model import Lasso\\nfrom sklearn.model_selection import KFold\\nfrom sklearn import metrics\\nimport xgboost as xgb\\nfrom sklearn.preprocessing import RobustScaler\\nfrom sklearn.linear_model import ElasticNetCV\\nimport sklearn\\nimport seaborn as sns\\nimport plotly as py\\nimport imutils\\nfrom sklearn.feature_extraction.text import TfidfVectorizer\\nimport pickle\\nfrom sklearn.linear_model import Ridge\\nfrom sklearn import svm\\nfrom sklearn.linear_model import RidgeCV\\nfrom sklearn.decomposition import PCA\\nfrom scipy import stats\\nfrom PIL import Image\\nfrom sklearn.model_selection import GridSearchCV\\nfrom sklearn.ensemble import GradientBoostingClassifier\\nimport spacy\\nfrom sklearn.linear_model import LogisticRegression\\nfrom sklearn.preprocessing import LabelEncoder\\nimport pydot\\nimport torch\\nimport skimage\\nfrom statsmodels.tsa.arima_model import ARIMA\\nfrom scipy import signal as sg\\nfrom sklearn.ensemble import RandomForestClassifier\\nimport statsmodels.api as sm'); }\n",
              "    "
            ]
          },
          "metadata": {}
        },
        {
          "output_type": "stream",
          "name": "stderr",
          "text": [
            "/usr/local/lib/python3.7/dist-packages/seaborn/distributions.py:2619: FutureWarning: `distplot` is a deprecated function and will be removed in a future version. Please adapt your code to use either `displot` (a figure-level function with similar flexibility) or `histplot` (an axes-level function for histograms).\n",
            "  warnings.warn(msg, FutureWarning)\n"
          ]
        },
        {
          "output_type": "display_data",
          "data": {
            "text/plain": [
              "<IPython.core.display.Javascript object>"
            ],
            "application/javascript": [
              "\n",
              "        if (window._pyforest_update_imports_cell) { window._pyforest_update_imports_cell('from sklearn.linear_model import LassoCV\\nimport plotly.express as px\\nfrom sklearn.linear_model import ElasticNet\\nimport pandas as pd\\nfrom sklearn.preprocessing import PolynomialFeatures\\nimport fastai\\nfrom pathlib import Path\\nimport matplotlib as mpl\\nimport cv2\\nfrom sklearn.preprocessing import MinMaxScaler\\nimport textblob\\nfrom sklearn.manifold import TSNE\\nimport numpy as np\\nfrom sklearn.ensemble import RandomForestRegressor\\nfrom sklearn.linear_model import LinearRegression\\nimport altair as alt\\nfrom sklearn.model_selection import RandomizedSearchCV\\nimport tensorflow as tf\\nfrom openpyxl import load_workbook\\nimport sys\\nimport statistics\\nfrom sklearn.cluster import KMeans\\nfrom sklearn.model_selection import train_test_split\\nfrom sklearn.model_selection import cross_val_score\\nfrom sklearn.ensemble import GradientBoostingRegressor\\nfrom sklearn.feature_extraction.text import CountVectorizer\\nimport lightgbm as lgb\\nfrom sklearn.preprocessing import OneHotEncoder\\nimport nltk\\nimport re\\nimport matplotlib.pyplot as plt\\nimport tqdm\\nfrom sklearn.linear_model import Lasso\\nfrom sklearn.model_selection import KFold\\nfrom sklearn import metrics\\nimport xgboost as xgb\\nfrom sklearn.preprocessing import RobustScaler\\nfrom sklearn.linear_model import ElasticNetCV\\nimport sklearn\\nimport seaborn as sns\\nimport plotly as py\\nimport imutils\\nfrom sklearn.feature_extraction.text import TfidfVectorizer\\nimport pickle\\nfrom sklearn.linear_model import Ridge\\nfrom sklearn import svm\\nfrom sklearn.linear_model import RidgeCV\\nfrom sklearn.decomposition import PCA\\nfrom scipy import stats\\nfrom PIL import Image\\nfrom sklearn.model_selection import GridSearchCV\\nfrom sklearn.ensemble import GradientBoostingClassifier\\nimport spacy\\nfrom sklearn.linear_model import LogisticRegression\\nfrom sklearn.preprocessing import LabelEncoder\\nimport pydot\\nimport torch\\nimport skimage\\nfrom statsmodels.tsa.arima_model import ARIMA\\nfrom scipy import signal as sg\\nfrom sklearn.ensemble import RandomForestClassifier\\nimport statsmodels.api as sm'); }\n",
              "    "
            ]
          },
          "metadata": {}
        },
        {
          "output_type": "display_data",
          "data": {
            "text/plain": [
              "<IPython.core.display.Javascript object>"
            ],
            "application/javascript": [
              "\n",
              "        if (window._pyforest_update_imports_cell) { window._pyforest_update_imports_cell('from sklearn.linear_model import LassoCV\\nimport plotly.express as px\\nfrom sklearn.linear_model import ElasticNet\\nimport pandas as pd\\nfrom sklearn.preprocessing import PolynomialFeatures\\nimport fastai\\nfrom pathlib import Path\\nimport matplotlib as mpl\\nimport cv2\\nfrom sklearn.preprocessing import MinMaxScaler\\nimport textblob\\nfrom sklearn.manifold import TSNE\\nimport numpy as np\\nfrom sklearn.ensemble import RandomForestRegressor\\nfrom sklearn.linear_model import LinearRegression\\nimport altair as alt\\nfrom sklearn.model_selection import RandomizedSearchCV\\nimport tensorflow as tf\\nfrom openpyxl import load_workbook\\nimport sys\\nimport statistics\\nfrom sklearn.cluster import KMeans\\nfrom sklearn.model_selection import train_test_split\\nfrom sklearn.model_selection import cross_val_score\\nfrom sklearn.ensemble import GradientBoostingRegressor\\nfrom sklearn.feature_extraction.text import CountVectorizer\\nimport lightgbm as lgb\\nfrom sklearn.preprocessing import OneHotEncoder\\nimport nltk\\nimport re\\nimport matplotlib.pyplot as plt\\nimport tqdm\\nfrom sklearn.linear_model import Lasso\\nfrom sklearn.model_selection import KFold\\nfrom sklearn import metrics\\nimport xgboost as xgb\\nfrom sklearn.preprocessing import RobustScaler\\nfrom sklearn.linear_model import ElasticNetCV\\nimport sklearn\\nimport seaborn as sns\\nimport plotly as py\\nimport imutils\\nfrom sklearn.feature_extraction.text import TfidfVectorizer\\nimport pickle\\nfrom sklearn.linear_model import Ridge\\nfrom sklearn import svm\\nfrom sklearn.linear_model import RidgeCV\\nfrom sklearn.decomposition import PCA\\nfrom scipy import stats\\nfrom PIL import Image\\nfrom sklearn.model_selection import GridSearchCV\\nfrom sklearn.ensemble import GradientBoostingClassifier\\nimport spacy\\nfrom sklearn.linear_model import LogisticRegression\\nfrom sklearn.preprocessing import LabelEncoder\\nimport pydot\\nimport torch\\nimport skimage\\nfrom statsmodels.tsa.arima_model import ARIMA\\nfrom scipy import signal as sg\\nfrom sklearn.ensemble import RandomForestClassifier\\nimport statsmodels.api as sm'); }\n",
              "    "
            ]
          },
          "metadata": {}
        },
        {
          "output_type": "display_data",
          "data": {
            "text/plain": [
              "<Figure size 432x288 with 1 Axes>"
            ],
            "image/png": "[encoded data removed]"
          },
          "metadata": {
            "needs_background": "light"
          }
        }
      ]
    },
    {
      "cell_type": "code",
      "source": [
        "  sns.distplot(dataset[\"CoapplicantIncome\"])\n",
        "  plt.xlabel(\"CoapplicantIncome\")\n",
        "  plt.show()"
      ],
      "metadata": {
        "colab": {
          "base_uri": "https://localhost:8080/",
          "height": 335
        },
        "id": "nopLJqU8T069",
        "outputId": "4530d2c3-b43f-468e-a5da-52bfe8e9ca5b"
      },
      "execution_count": 1072,
      "outputs": [
        {
          "output_type": "display_data",
          "data": {
            "text/plain": [
              "<IPython.core.display.Javascript object>"
            ],
            "application/javascript": [
              "\n",
              "        if (window._pyforest_update_imports_cell) { window._pyforest_update_imports_cell('from sklearn.linear_model import LassoCV\\nimport plotly.express as px\\nfrom sklearn.linear_model import ElasticNet\\nimport pandas as pd\\nfrom sklearn.preprocessing import PolynomialFeatures\\nimport fastai\\nfrom pathlib import Path\\nimport matplotlib as mpl\\nimport cv2\\nfrom sklearn.preprocessing import MinMaxScaler\\nimport textblob\\nfrom sklearn.manifold import TSNE\\nimport numpy as np\\nfrom sklearn.ensemble import RandomForestRegressor\\nfrom sklearn.linear_model import LinearRegression\\nimport altair as alt\\nfrom sklearn.model_selection import RandomizedSearchCV\\nimport tensorflow as tf\\nfrom openpyxl import load_workbook\\nimport sys\\nimport statistics\\nfrom sklearn.cluster import KMeans\\nfrom sklearn.model_selection import train_test_split\\nfrom sklearn.model_selection import cross_val_score\\nfrom sklearn.ensemble import GradientBoostingRegressor\\nfrom sklearn.feature_extraction.text import CountVectorizer\\nimport lightgbm as lgb\\nfrom sklearn.preprocessing import OneHotEncoder\\nimport nltk\\nimport re\\nimport matplotlib.pyplot as plt\\nimport tqdm\\nfrom sklearn.linear_model import Lasso\\nfrom sklearn.model_selection import KFold\\nfrom sklearn import metrics\\nimport xgboost as xgb\\nfrom sklearn.preprocessing import RobustScaler\\nfrom sklearn.linear_model import ElasticNetCV\\nimport sklearn\\nimport seaborn as sns\\nimport plotly as py\\nimport imutils\\nfrom sklearn.feature_extraction.text import TfidfVectorizer\\nimport pickle\\nfrom sklearn.linear_model import Ridge\\nfrom sklearn import svm\\nfrom sklearn.linear_model import RidgeCV\\nfrom sklearn.decomposition import PCA\\nfrom scipy import stats\\nfrom PIL import Image\\nfrom sklearn.model_selection import GridSearchCV\\nfrom sklearn.ensemble import GradientBoostingClassifier\\nimport spacy\\nfrom sklearn.linear_model import LogisticRegression\\nfrom sklearn.preprocessing import LabelEncoder\\nimport pydot\\nimport torch\\nimport skimage\\nfrom statsmodels.tsa.arima_model import ARIMA\\nfrom scipy import signal as sg\\nfrom sklearn.ensemble import RandomForestClassifier\\nimport statsmodels.api as sm'); }\n",
              "    "
            ]
          },
          "metadata": {}
        },
        {
          "output_type": "stream",
          "name": "stderr",
          "text": [
            "/usr/local/lib/python3.7/dist-packages/seaborn/distributions.py:2619: FutureWarning: `distplot` is a deprecated function and will be removed in a future version. Please adapt your code to use either `displot` (a figure-level function with similar flexibility) or `histplot` (an axes-level function for histograms).\n",
            "  warnings.warn(msg, FutureWarning)\n"
          ]
        },
        {
          "output_type": "display_data",
          "data": {
            "text/plain": [
              "<IPython.core.display.Javascript object>"
            ],
            "application/javascript": [
              "\n",
              "        if (window._pyforest_update_imports_cell) { window._pyforest_update_imports_cell('from sklearn.linear_model import LassoCV\\nimport plotly.express as px\\nfrom sklearn.linear_model import ElasticNet\\nimport pandas as pd\\nfrom sklearn.preprocessing import PolynomialFeatures\\nimport fastai\\nfrom pathlib import Path\\nimport matplotlib as mpl\\nimport cv2\\nfrom sklearn.preprocessing import MinMaxScaler\\nimport textblob\\nfrom sklearn.manifold import TSNE\\nimport numpy as np\\nfrom sklearn.ensemble import RandomForestRegressor\\nfrom sklearn.linear_model import LinearRegression\\nimport altair as alt\\nfrom sklearn.model_selection import RandomizedSearchCV\\nimport tensorflow as tf\\nfrom openpyxl import load_workbook\\nimport sys\\nimport statistics\\nfrom sklearn.cluster import KMeans\\nfrom sklearn.model_selection import train_test_split\\nfrom sklearn.model_selection import cross_val_score\\nfrom sklearn.ensemble import GradientBoostingRegressor\\nfrom sklearn.feature_extraction.text import CountVectorizer\\nimport lightgbm as lgb\\nfrom sklearn.preprocessing import OneHotEncoder\\nimport nltk\\nimport re\\nimport matplotlib.pyplot as plt\\nimport tqdm\\nfrom sklearn.linear_model import Lasso\\nfrom sklearn.model_selection import KFold\\nfrom sklearn import metrics\\nimport xgboost as xgb\\nfrom sklearn.preprocessing import RobustScaler\\nfrom sklearn.linear_model import ElasticNetCV\\nimport sklearn\\nimport seaborn as sns\\nimport plotly as py\\nimport imutils\\nfrom sklearn.feature_extraction.text import TfidfVectorizer\\nimport pickle\\nfrom sklearn.linear_model import Ridge\\nfrom sklearn import svm\\nfrom sklearn.linear_model import RidgeCV\\nfrom sklearn.decomposition import PCA\\nfrom scipy import stats\\nfrom PIL import Image\\nfrom sklearn.model_selection import GridSearchCV\\nfrom sklearn.ensemble import GradientBoostingClassifier\\nimport spacy\\nfrom sklearn.linear_model import LogisticRegression\\nfrom sklearn.preprocessing import LabelEncoder\\nimport pydot\\nimport torch\\nimport skimage\\nfrom statsmodels.tsa.arima_model import ARIMA\\nfrom scipy import signal as sg\\nfrom sklearn.ensemble import RandomForestClassifier\\nimport statsmodels.api as sm'); }\n",
              "    "
            ]
          },
          "metadata": {}
        },
        {
          "output_type": "display_data",
          "data": {
            "text/plain": [
              "<IPython.core.display.Javascript object>"
            ],
            "application/javascript": [
              "\n",
              "        if (window._pyforest_update_imports_cell) { window._pyforest_update_imports_cell('from sklearn.linear_model import LassoCV\\nimport plotly.express as px\\nfrom sklearn.linear_model import ElasticNet\\nimport pandas as pd\\nfrom sklearn.preprocessing import PolynomialFeatures\\nimport fastai\\nfrom pathlib import Path\\nimport matplotlib as mpl\\nimport cv2\\nfrom sklearn.preprocessing import MinMaxScaler\\nimport textblob\\nfrom sklearn.manifold import TSNE\\nimport numpy as np\\nfrom sklearn.ensemble import RandomForestRegressor\\nfrom sklearn.linear_model import LinearRegression\\nimport altair as alt\\nfrom sklearn.model_selection import RandomizedSearchCV\\nimport tensorflow as tf\\nfrom openpyxl import load_workbook\\nimport sys\\nimport statistics\\nfrom sklearn.cluster import KMeans\\nfrom sklearn.model_selection import train_test_split\\nfrom sklearn.model_selection import cross_val_score\\nfrom sklearn.ensemble import GradientBoostingRegressor\\nfrom sklearn.feature_extraction.text import CountVectorizer\\nimport lightgbm as lgb\\nfrom sklearn.preprocessing import OneHotEncoder\\nimport nltk\\nimport re\\nimport matplotlib.pyplot as plt\\nimport tqdm\\nfrom sklearn.linear_model import Lasso\\nfrom sklearn.model_selection import KFold\\nfrom sklearn import metrics\\nimport xgboost as xgb\\nfrom sklearn.preprocessing import RobustScaler\\nfrom sklearn.linear_model import ElasticNetCV\\nimport sklearn\\nimport seaborn as sns\\nimport plotly as py\\nimport imutils\\nfrom sklearn.feature_extraction.text import TfidfVectorizer\\nimport pickle\\nfrom sklearn.linear_model import Ridge\\nfrom sklearn import svm\\nfrom sklearn.linear_model import RidgeCV\\nfrom sklearn.decomposition import PCA\\nfrom scipy import stats\\nfrom PIL import Image\\nfrom sklearn.model_selection import GridSearchCV\\nfrom sklearn.ensemble import GradientBoostingClassifier\\nimport spacy\\nfrom sklearn.linear_model import LogisticRegression\\nfrom sklearn.preprocessing import LabelEncoder\\nimport pydot\\nimport torch\\nimport skimage\\nfrom statsmodels.tsa.arima_model import ARIMA\\nfrom scipy import signal as sg\\nfrom sklearn.ensemble import RandomForestClassifier\\nimport statsmodels.api as sm'); }\n",
              "    "
            ]
          },
          "metadata": {}
        },
        {
          "output_type": "display_data",
          "data": {
            "text/plain": [
              "<Figure size 432x288 with 1 Axes>"
            ],
            "image/png": "[encoded data removed]"
          },
          "metadata": {
            "needs_background": "light"
          }
        }
      ]
    },
    {
      "cell_type": "code",
      "source": [
        "dataset[\"CoapplicantIncome\"].unique()"
      ],
      "metadata": {
        "colab": {
          "base_uri": "https://localhost:8080/"
        },
        "id": "t6q0fUecUec-",
        "outputId": "7e60f036-3075-4092-8844-a27ff00459f6"
      },
      "execution_count": 1073,
      "outputs": [
        {
          "output_type": "execute_result",
          "data": {
            "text/plain": [
              "array([ 0.        ,  7.31920246,  7.76599308,  8.34212526,  7.32448998,\n",
              "        7.82604401,  7.33106031,  9.30282839,  6.55250789,  7.51806418,\n",
              "        9.00048316,  7.95191138,  6.99117689,  8.16080392,  8.63515399,\n",
              "        7.55590509,  7.55903826,  7.98139158,  7.72046169,  6.94793707,\n",
              "        7.6420444 ,  8.12266802,  7.41938058,  8.00670085,  7.63433724,\n",
              "        7.19368582,  7.28619171,  8.88336292,  7.41997992,  7.10167597,\n",
              "        7.75662333,  8.14351741,  7.7301748 ,  7.40549566,  7.06304816,\n",
              "        7.37274637,  7.69666708,  7.71912984,  7.9585769 ,  8.24196656,\n",
              "        8.14612951,  8.43294164,  7.72090525,  8.02845516,  7.53689713,\n",
              "        7.4815557 ,  8.4661104 ,  8.01400499,  8.29429961,  7.681099  ,\n",
              "        7.54009032,  7.83676478,  7.60140233,  7.65869956,  8.33519158,\n",
              "        7.97281078,  8.64029539,  7.50714108,  7.7419679 ,  6.90575328,\n",
              "        8.17244682,  8.09070872,  8.24459676,  8.18423477,  6.62671775,\n",
              "        6.93828448,  7.02731451,  8.18896686,  7.75533881,  8.32239411,\n",
              "        7.73368357,  7.24351297,  7.669962  ,  7.88908441,  9.10286651,\n",
              "        7.60837447,  7.40306109,  8.25608813,  7.85166118,  7.56527528,\n",
              "        8.95557715,  7.26612878,  7.6182511 ,  8.40893961,  7.2626286 ,\n",
              "        7.41878088,  6.72262979,  8.22977775,  6.94889722,  7.1553963 ,\n",
              "        7.27793857,  8.06054005,  8.11192806,  7.47873483,  6.60258789,\n",
              "        7.58324752,  7.39018143,  9.3326465 ,  7.2806972 ,  8.88889467,\n",
              "        8.52991196,  7.66809371,  8.5748959 ,  7.85709386,  7.76895604,\n",
              "        7.94342777,  7.82444593,  6.98841318,  7.13169851,  8.01367414,\n",
              "        6.8916259 ,  7.49609735,  7.48211892,  7.77653503,  7.4489161 ,\n",
              "        7.93451346,  6.91869522,  7.43602782,  7.62803113,  7.86288203,\n",
              "        7.48436864,  7.13966034,  8.51739317,  7.59287029,  8.64857227,\n",
              "        7.17088848,  8.39344238,  8.37424618,  7.5196924 ,  7.53315881,\n",
              "        8.26642147,  7.68156036,  8.86813171,  7.6501687 ,  8.35490953,\n",
              "        7.70074779,  8.14554963,  7.23561914,  7.50218649,  7.35308192,\n",
              "        7.52725592,  7.70706266,  7.51914996,  8.09407315,  7.79441121,\n",
              "        6.68586095,  6.89446737,  8.02420749,  7.79028238,  8.11222796,\n",
              "        7.84070645,  7.98446273,  7.46794233,  7.4977617 ,  7.53048   ,\n",
              "        7.7857209 ,  7.66622193,  5.24702407,  7.37211803,  8.00168998,\n",
              "        8.51398806,  7.67832636,  7.8046593 ,  7.49220304,  7.51425465,\n",
              "        8.40983067,  6.53524127,  8.43402895,  7.37023064,  7.11476945,\n",
              "        7.75405264,  7.80751004,  8.08054697,  7.68202151,  8.43032726,\n",
              "        8.74049673,  6.22653667,  8.06085575,  8.20740183,  8.01763716,\n",
              "        8.56921622,  8.97132147,  7.59488439,  6.82871207,  8.51659301,\n",
              "        8.35066624,  7.37838371,  8.05102221,  7.79069603,  7.65728279,\n",
              "        7.39387829,  7.24494155,  6.18414889,  9.90353755,  7.7836406 ,\n",
              "        7.61775958,  8.08271113,  7.9280456 ,  7.25700271,  7.45007957,\n",
              "        8.36660283,  2.84024742,  7.75833347,  7.52402142,  7.02642681,\n",
              "        8.53010942,  7.59789795,  9.02809881,  7.09920174,  7.2276625 ,\n",
              "        7.44483327,  7.34148385,  7.13568735,  7.28413481,  7.45818616,\n",
              "        7.81075812,  8.31483218,  7.6912001 ,  7.4175804 ,  7.97865373,\n",
              "        7.64012317,  7.31388683,  8.44440742,  6.92264389,  7.5352967 ,\n",
              "        7.38025579,  8.05547514,  7.79852305,  7.93236215,  7.03174126,\n",
              "        7.67693715,  6.81783057,  7.43897159,  7.95787736,  8.39321601,\n",
              "        8.2117544 ,  8.63497623,  8.57602798,  7.30249642,  8.80507524,\n",
              "        8.01102338,  7.16084591,  7.60339934,  7.61874238,  8.80492526,\n",
              "        8.20712917,  8.14002395,  7.39817409,  7.55799496,  7.46336305,\n",
              "        7.26192709,  8.87724244,  7.64396195,  7.17242458,  8.61268517,\n",
              "        7.62217459,  8.2705251 ,  6.28599809,  7.95366978,  7.83399634,\n",
              "        6.49828215,  7.57609734,  7.48661331,  7.60936654,  7.77317368,\n",
              "        8.08671792,  8.35866628,  6.94022247,  7.88983375,  7.74370326,\n",
              "        5.49306144,  7.63288551,  6.13556489,  7.70120018,  7.9157132 ,\n",
              "        7.71110125, 10.42933971,  7.32843735,  8.13651825,  8.10198073,\n",
              "        6.90875478, 10.63748873,  7.93487157,  8.36683531,  8.24301947,\n",
              "        7.25276242,  5.48479693])"
            ]
          },
          "metadata": {},
          "execution_count": 1073
        }
      ]
    },
    {
      "cell_type": "code",
      "source": [
        "dataset[\"CoapplicantIncome\"]=np.where(dataset[\"CoapplicantIncome\"]==\"-inf\",0,dataset[\"CoapplicantIncome\"])"
      ],
      "metadata": {
        "colab": {
          "base_uri": "https://localhost:8080/",
          "height": 17
        },
        "id": "aA8pVTteU-zW",
        "outputId": "287db29c-665a-4c40-987b-c3811b9e0430"
      },
      "execution_count": 1074,
      "outputs": [
        {
          "output_type": "display_data",
          "data": {
            "text/plain": [
              "<IPython.core.display.Javascript object>"
            ],
            "application/javascript": [
              "\n",
              "        if (window._pyforest_update_imports_cell) { window._pyforest_update_imports_cell('from sklearn.linear_model import LassoCV\\nimport plotly.express as px\\nfrom sklearn.linear_model import ElasticNet\\nimport pandas as pd\\nfrom sklearn.preprocessing import PolynomialFeatures\\nimport fastai\\nfrom pathlib import Path\\nimport matplotlib as mpl\\nimport cv2\\nfrom sklearn.preprocessing import MinMaxScaler\\nimport textblob\\nfrom sklearn.manifold import TSNE\\nimport numpy as np\\nfrom sklearn.ensemble import RandomForestRegressor\\nfrom sklearn.linear_model import LinearRegression\\nimport altair as alt\\nfrom sklearn.model_selection import RandomizedSearchCV\\nimport tensorflow as tf\\nfrom openpyxl import load_workbook\\nimport sys\\nimport statistics\\nfrom sklearn.cluster import KMeans\\nfrom sklearn.model_selection import train_test_split\\nfrom sklearn.model_selection import cross_val_score\\nfrom sklearn.ensemble import GradientBoostingRegressor\\nfrom sklearn.feature_extraction.text import CountVectorizer\\nimport lightgbm as lgb\\nfrom sklearn.preprocessing import OneHotEncoder\\nimport nltk\\nimport re\\nimport matplotlib.pyplot as plt\\nimport tqdm\\nfrom sklearn.linear_model import Lasso\\nfrom sklearn.model_selection import KFold\\nfrom sklearn import metrics\\nimport xgboost as xgb\\nfrom sklearn.preprocessing import RobustScaler\\nfrom sklearn.linear_model import ElasticNetCV\\nimport sklearn\\nimport seaborn as sns\\nimport plotly as py\\nimport imutils\\nfrom sklearn.feature_extraction.text import TfidfVectorizer\\nimport pickle\\nfrom sklearn.linear_model import Ridge\\nfrom sklearn import svm\\nfrom sklearn.linear_model import RidgeCV\\nfrom sklearn.decomposition import PCA\\nfrom scipy import stats\\nfrom PIL import Image\\nfrom sklearn.model_selection import GridSearchCV\\nfrom sklearn.ensemble import GradientBoostingClassifier\\nimport spacy\\nfrom sklearn.linear_model import LogisticRegression\\nfrom sklearn.preprocessing import LabelEncoder\\nimport pydot\\nimport torch\\nimport skimage\\nfrom statsmodels.tsa.arima_model import ARIMA\\nfrom scipy import signal as sg\\nfrom sklearn.ensemble import RandomForestClassifier\\nimport statsmodels.api as sm'); }\n",
              "    "
            ]
          },
          "metadata": {}
        }
      ]
    },
    {
      "cell_type": "code",
      "source": [
        "  sns.distplot(dataset[\"CoapplicantIncome\"])\n",
        "  plt.xlabel(\"CoapplicantIncome\")\n",
        "  plt.show()"
      ],
      "metadata": {
        "colab": {
          "base_uri": "https://localhost:8080/",
          "height": 335
        },
        "id": "OwDGHaPRVVBJ",
        "outputId": "68125ba6-6223-4683-acfc-07ad85024485"
      },
      "execution_count": 1075,
      "outputs": [
        {
          "output_type": "display_data",
          "data": {
            "text/plain": [
              "<IPython.core.display.Javascript object>"
            ],
            "application/javascript": [
              "\n",
              "        if (window._pyforest_update_imports_cell) { window._pyforest_update_imports_cell('from sklearn.linear_model import LassoCV\\nimport plotly.express as px\\nfrom sklearn.linear_model import ElasticNet\\nimport pandas as pd\\nfrom sklearn.preprocessing import PolynomialFeatures\\nimport fastai\\nfrom pathlib import Path\\nimport matplotlib as mpl\\nimport cv2\\nfrom sklearn.preprocessing import MinMaxScaler\\nimport textblob\\nfrom sklearn.manifold import TSNE\\nimport numpy as np\\nfrom sklearn.ensemble import RandomForestRegressor\\nfrom sklearn.linear_model import LinearRegression\\nimport altair as alt\\nfrom sklearn.model_selection import RandomizedSearchCV\\nimport tensorflow as tf\\nfrom openpyxl import load_workbook\\nimport sys\\nimport statistics\\nfrom sklearn.cluster import KMeans\\nfrom sklearn.model_selection import train_test_split\\nfrom sklearn.model_selection import cross_val_score\\nfrom sklearn.ensemble import GradientBoostingRegressor\\nfrom sklearn.feature_extraction.text import CountVectorizer\\nimport lightgbm as lgb\\nfrom sklearn.preprocessing import OneHotEncoder\\nimport nltk\\nimport re\\nimport matplotlib.pyplot as plt\\nimport tqdm\\nfrom sklearn.linear_model import Lasso\\nfrom sklearn.model_selection import KFold\\nfrom sklearn import metrics\\nimport xgboost as xgb\\nfrom sklearn.preprocessing import RobustScaler\\nfrom sklearn.linear_model import ElasticNetCV\\nimport sklearn\\nimport seaborn as sns\\nimport plotly as py\\nimport imutils\\nfrom sklearn.feature_extraction.text import TfidfVectorizer\\nimport pickle\\nfrom sklearn.linear_model import Ridge\\nfrom sklearn import svm\\nfrom sklearn.linear_model import RidgeCV\\nfrom sklearn.decomposition import PCA\\nfrom scipy import stats\\nfrom PIL import Image\\nfrom sklearn.model_selection import GridSearchCV\\nfrom sklearn.ensemble import GradientBoostingClassifier\\nimport spacy\\nfrom sklearn.linear_model import LogisticRegression\\nfrom sklearn.preprocessing import LabelEncoder\\nimport pydot\\nimport torch\\nimport skimage\\nfrom statsmodels.tsa.arima_model import ARIMA\\nfrom scipy import signal as sg\\nfrom sklearn.ensemble import RandomForestClassifier\\nimport statsmodels.api as sm'); }\n",
              "    "
            ]
          },
          "metadata": {}
        },
        {
          "output_type": "stream",
          "name": "stderr",
          "text": [
            "/usr/local/lib/python3.7/dist-packages/seaborn/distributions.py:2619: FutureWarning: `distplot` is a deprecated function and will be removed in a future version. Please adapt your code to use either `displot` (a figure-level function with similar flexibility) or `histplot` (an axes-level function for histograms).\n",
            "  warnings.warn(msg, FutureWarning)\n"
          ]
        },
        {
          "output_type": "display_data",
          "data": {
            "text/plain": [
              "<IPython.core.display.Javascript object>"
            ],
            "application/javascript": [
              "\n",
              "        if (window._pyforest_update_imports_cell) { window._pyforest_update_imports_cell('from sklearn.linear_model import LassoCV\\nimport plotly.express as px\\nfrom sklearn.linear_model import ElasticNet\\nimport pandas as pd\\nfrom sklearn.preprocessing import PolynomialFeatures\\nimport fastai\\nfrom pathlib import Path\\nimport matplotlib as mpl\\nimport cv2\\nfrom sklearn.preprocessing import MinMaxScaler\\nimport textblob\\nfrom sklearn.manifold import TSNE\\nimport numpy as np\\nfrom sklearn.ensemble import RandomForestRegressor\\nfrom sklearn.linear_model import LinearRegression\\nimport altair as alt\\nfrom sklearn.model_selection import RandomizedSearchCV\\nimport tensorflow as tf\\nfrom openpyxl import load_workbook\\nimport sys\\nimport statistics\\nfrom sklearn.cluster import KMeans\\nfrom sklearn.model_selection import train_test_split\\nfrom sklearn.model_selection import cross_val_score\\nfrom sklearn.ensemble import GradientBoostingRegressor\\nfrom sklearn.feature_extraction.text import CountVectorizer\\nimport lightgbm as lgb\\nfrom sklearn.preprocessing import OneHotEncoder\\nimport nltk\\nimport re\\nimport matplotlib.pyplot as plt\\nimport tqdm\\nfrom sklearn.linear_model import Lasso\\nfrom sklearn.model_selection import KFold\\nfrom sklearn import metrics\\nimport xgboost as xgb\\nfrom sklearn.preprocessing import RobustScaler\\nfrom sklearn.linear_model import ElasticNetCV\\nimport sklearn\\nimport seaborn as sns\\nimport plotly as py\\nimport imutils\\nfrom sklearn.feature_extraction.text import TfidfVectorizer\\nimport pickle\\nfrom sklearn.linear_model import Ridge\\nfrom sklearn import svm\\nfrom sklearn.linear_model import RidgeCV\\nfrom sklearn.decomposition import PCA\\nfrom scipy import stats\\nfrom PIL import Image\\nfrom sklearn.model_selection import GridSearchCV\\nfrom sklearn.ensemble import GradientBoostingClassifier\\nimport spacy\\nfrom sklearn.linear_model import LogisticRegression\\nfrom sklearn.preprocessing import LabelEncoder\\nimport pydot\\nimport torch\\nimport skimage\\nfrom statsmodels.tsa.arima_model import ARIMA\\nfrom scipy import signal as sg\\nfrom sklearn.ensemble import RandomForestClassifier\\nimport statsmodels.api as sm'); }\n",
              "    "
            ]
          },
          "metadata": {}
        },
        {
          "output_type": "display_data",
          "data": {
            "text/plain": [
              "<IPython.core.display.Javascript object>"
            ],
            "application/javascript": [
              "\n",
              "        if (window._pyforest_update_imports_cell) { window._pyforest_update_imports_cell('from sklearn.linear_model import LassoCV\\nimport plotly.express as px\\nfrom sklearn.linear_model import ElasticNet\\nimport pandas as pd\\nfrom sklearn.preprocessing import PolynomialFeatures\\nimport fastai\\nfrom pathlib import Path\\nimport matplotlib as mpl\\nimport cv2\\nfrom sklearn.preprocessing import MinMaxScaler\\nimport textblob\\nfrom sklearn.manifold import TSNE\\nimport numpy as np\\nfrom sklearn.ensemble import RandomForestRegressor\\nfrom sklearn.linear_model import LinearRegression\\nimport altair as alt\\nfrom sklearn.model_selection import RandomizedSearchCV\\nimport tensorflow as tf\\nfrom openpyxl import load_workbook\\nimport sys\\nimport statistics\\nfrom sklearn.cluster import KMeans\\nfrom sklearn.model_selection import train_test_split\\nfrom sklearn.model_selection import cross_val_score\\nfrom sklearn.ensemble import GradientBoostingRegressor\\nfrom sklearn.feature_extraction.text import CountVectorizer\\nimport lightgbm as lgb\\nfrom sklearn.preprocessing import OneHotEncoder\\nimport nltk\\nimport re\\nimport matplotlib.pyplot as plt\\nimport tqdm\\nfrom sklearn.linear_model import Lasso\\nfrom sklearn.model_selection import KFold\\nfrom sklearn import metrics\\nimport xgboost as xgb\\nfrom sklearn.preprocessing import RobustScaler\\nfrom sklearn.linear_model import ElasticNetCV\\nimport sklearn\\nimport seaborn as sns\\nimport plotly as py\\nimport imutils\\nfrom sklearn.feature_extraction.text import TfidfVectorizer\\nimport pickle\\nfrom sklearn.linear_model import Ridge\\nfrom sklearn import svm\\nfrom sklearn.linear_model import RidgeCV\\nfrom sklearn.decomposition import PCA\\nfrom scipy import stats\\nfrom PIL import Image\\nfrom sklearn.model_selection import GridSearchCV\\nfrom sklearn.ensemble import GradientBoostingClassifier\\nimport spacy\\nfrom sklearn.linear_model import LogisticRegression\\nfrom sklearn.preprocessing import LabelEncoder\\nimport pydot\\nimport torch\\nimport skimage\\nfrom statsmodels.tsa.arima_model import ARIMA\\nfrom scipy import signal as sg\\nfrom sklearn.ensemble import RandomForestClassifier\\nimport statsmodels.api as sm'); }\n",
              "    "
            ]
          },
          "metadata": {}
        },
        {
          "output_type": "display_data",
          "data": {
            "text/plain": [
              "<Figure size 432x288 with 1 Axes>"
            ],
            "image/png": "[encoded data removed]"
          },
          "metadata": {
            "needs_background": "light"
          }
        }
      ]
    },
    {
      "cell_type": "code",
      "source": [
        "for i in numeric:\n",
        "  sns.boxplot(dataset[i])\n",
        "  plt.show()"
      ],
      "metadata": {
        "colab": {
          "base_uri": "https://localhost:8080/",
          "height": 1000
        },
        "id": "jzhXJALAWFRV",
        "outputId": "3ea14a5a-844d-4ca3-ccb8-8516df28e4af"
      },
      "execution_count": 1076,
      "outputs": [
        {
          "output_type": "display_data",
          "data": {
            "text/plain": [
              "<IPython.core.display.Javascript object>"
            ],
            "application/javascript": [
              "\n",
              "        if (window._pyforest_update_imports_cell) { window._pyforest_update_imports_cell('from sklearn.linear_model import LassoCV\\nimport plotly.express as px\\nfrom sklearn.linear_model import ElasticNet\\nimport pandas as pd\\nfrom sklearn.preprocessing import PolynomialFeatures\\nimport fastai\\nfrom pathlib import Path\\nimport matplotlib as mpl\\nimport cv2\\nfrom sklearn.preprocessing import MinMaxScaler\\nimport textblob\\nfrom sklearn.manifold import TSNE\\nimport numpy as np\\nfrom sklearn.ensemble import RandomForestRegressor\\nfrom sklearn.linear_model import LinearRegression\\nimport altair as alt\\nfrom sklearn.model_selection import RandomizedSearchCV\\nimport tensorflow as tf\\nfrom openpyxl import load_workbook\\nimport sys\\nimport statistics\\nfrom sklearn.cluster import KMeans\\nfrom sklearn.model_selection import train_test_split\\nfrom sklearn.model_selection import cross_val_score\\nfrom sklearn.ensemble import GradientBoostingRegressor\\nfrom sklearn.feature_extraction.text import CountVectorizer\\nimport lightgbm as lgb\\nfrom sklearn.preprocessing import OneHotEncoder\\nimport nltk\\nimport re\\nimport matplotlib.pyplot as plt\\nimport tqdm\\nfrom sklearn.linear_model import Lasso\\nfrom sklearn.model_selection import KFold\\nfrom sklearn import metrics\\nimport xgboost as xgb\\nfrom sklearn.preprocessing import RobustScaler\\nfrom sklearn.linear_model import ElasticNetCV\\nimport sklearn\\nimport seaborn as sns\\nimport plotly as py\\nimport imutils\\nfrom sklearn.feature_extraction.text import TfidfVectorizer\\nimport pickle\\nfrom sklearn.linear_model import Ridge\\nfrom sklearn import svm\\nfrom sklearn.linear_model import RidgeCV\\nfrom sklearn.decomposition import PCA\\nfrom scipy import stats\\nfrom PIL import Image\\nfrom sklearn.model_selection import GridSearchCV\\nfrom sklearn.ensemble import GradientBoostingClassifier\\nimport spacy\\nfrom sklearn.linear_model import LogisticRegression\\nfrom sklearn.preprocessing import LabelEncoder\\nimport pydot\\nimport torch\\nimport skimage\\nfrom statsmodels.tsa.arima_model import ARIMA\\nfrom scipy import signal as sg\\nfrom sklearn.ensemble import RandomForestClassifier\\nimport statsmodels.api as sm'); }\n",
              "    "
            ]
          },
          "metadata": {}
        },
        {
          "output_type": "stream",
          "name": "stderr",
          "text": [
            "/usr/local/lib/python3.7/dist-packages/seaborn/_decorators.py:43: FutureWarning: Pass the following variable as a keyword arg: x. From version 0.12, the only valid positional argument will be `data`, and passing other arguments without an explicit keyword will result in an error or misinterpretation.\n",
            "  FutureWarning\n"
          ]
        },
        {
          "output_type": "display_data",
          "data": {
            "text/plain": [
              "<IPython.core.display.Javascript object>"
            ],
            "application/javascript": [
              "\n",
              "        if (window._pyforest_update_imports_cell) { window._pyforest_update_imports_cell('from sklearn.linear_model import LassoCV\\nimport plotly.express as px\\nfrom sklearn.linear_model import ElasticNet\\nimport pandas as pd\\nfrom sklearn.preprocessing import PolynomialFeatures\\nimport fastai\\nfrom pathlib import Path\\nimport matplotlib as mpl\\nimport cv2\\nfrom sklearn.preprocessing import MinMaxScaler\\nimport textblob\\nfrom sklearn.manifold import TSNE\\nimport numpy as np\\nfrom sklearn.ensemble import RandomForestRegressor\\nfrom sklearn.linear_model import LinearRegression\\nimport altair as alt\\nfrom sklearn.model_selection import RandomizedSearchCV\\nimport tensorflow as tf\\nfrom openpyxl import load_workbook\\nimport sys\\nimport statistics\\nfrom sklearn.cluster import KMeans\\nfrom sklearn.model_selection import train_test_split\\nfrom sklearn.model_selection import cross_val_score\\nfrom sklearn.ensemble import GradientBoostingRegressor\\nfrom sklearn.feature_extraction.text import CountVectorizer\\nimport lightgbm as lgb\\nfrom sklearn.preprocessing import OneHotEncoder\\nimport nltk\\nimport re\\nimport matplotlib.pyplot as plt\\nimport tqdm\\nfrom sklearn.linear_model import Lasso\\nfrom sklearn.model_selection import KFold\\nfrom sklearn import metrics\\nimport xgboost as xgb\\nfrom sklearn.preprocessing import RobustScaler\\nfrom sklearn.linear_model import ElasticNetCV\\nimport sklearn\\nimport seaborn as sns\\nimport plotly as py\\nimport imutils\\nfrom sklearn.feature_extraction.text import TfidfVectorizer\\nimport pickle\\nfrom sklearn.linear_model import Ridge\\nfrom sklearn import svm\\nfrom sklearn.linear_model import RidgeCV\\nfrom sklearn.decomposition import PCA\\nfrom scipy import stats\\nfrom PIL import Image\\nfrom sklearn.model_selection import GridSearchCV\\nfrom sklearn.ensemble import GradientBoostingClassifier\\nimport spacy\\nfrom sklearn.linear_model import LogisticRegression\\nfrom sklearn.preprocessing import LabelEncoder\\nimport pydot\\nimport torch\\nimport skimage\\nfrom statsmodels.tsa.arima_model import ARIMA\\nfrom scipy import signal as sg\\nfrom sklearn.ensemble import RandomForestClassifier\\nimport statsmodels.api as sm'); }\n",
              "    "
            ]
          },
          "metadata": {}
        },
        {
          "output_type": "display_data",
          "data": {
            "text/plain": [
              "<Figure size 432x288 with 1 Axes>"
            ],
            "image/png": "[encoded data removed]"
          },
          "metadata": {
            "needs_background": "light"
          }
        },
        {
          "output_type": "display_data",
          "data": {
            "text/plain": [
              "<IPython.core.display.Javascript object>"
            ],
            "application/javascript": [
              "\n",
              "        if (window._pyforest_update_imports_cell) { window._pyforest_update_imports_cell('from sklearn.linear_model import LassoCV\\nimport plotly.express as px\\nfrom sklearn.linear_model import ElasticNet\\nimport pandas as pd\\nfrom sklearn.preprocessing import PolynomialFeatures\\nimport fastai\\nfrom pathlib import Path\\nimport matplotlib as mpl\\nimport cv2\\nfrom sklearn.preprocessing import MinMaxScaler\\nimport textblob\\nfrom sklearn.manifold import TSNE\\nimport numpy as np\\nfrom sklearn.ensemble import RandomForestRegressor\\nfrom sklearn.linear_model import LinearRegression\\nimport altair as alt\\nfrom sklearn.model_selection import RandomizedSearchCV\\nimport tensorflow as tf\\nfrom openpyxl import load_workbook\\nimport sys\\nimport statistics\\nfrom sklearn.cluster import KMeans\\nfrom sklearn.model_selection import train_test_split\\nfrom sklearn.model_selection import cross_val_score\\nfrom sklearn.ensemble import GradientBoostingRegressor\\nfrom sklearn.feature_extraction.text import CountVectorizer\\nimport lightgbm as lgb\\nfrom sklearn.preprocessing import OneHotEncoder\\nimport nltk\\nimport re\\nimport matplotlib.pyplot as plt\\nimport tqdm\\nfrom sklearn.linear_model import Lasso\\nfrom sklearn.model_selection import KFold\\nfrom sklearn import metrics\\nimport xgboost as xgb\\nfrom sklearn.preprocessing import RobustScaler\\nfrom sklearn.linear_model import ElasticNetCV\\nimport sklearn\\nimport seaborn as sns\\nimport plotly as py\\nimport imutils\\nfrom sklearn.feature_extraction.text import TfidfVectorizer\\nimport pickle\\nfrom sklearn.linear_model import Ridge\\nfrom sklearn import svm\\nfrom sklearn.linear_model import RidgeCV\\nfrom sklearn.decomposition import PCA\\nfrom scipy import stats\\nfrom PIL import Image\\nfrom sklearn.model_selection import GridSearchCV\\nfrom sklearn.ensemble import GradientBoostingClassifier\\nimport spacy\\nfrom sklearn.linear_model import LogisticRegression\\nfrom sklearn.preprocessing import LabelEncoder\\nimport pydot\\nimport torch\\nimport skimage\\nfrom statsmodels.tsa.arima_model import ARIMA\\nfrom scipy import signal as sg\\nfrom sklearn.ensemble import RandomForestClassifier\\nimport statsmodels.api as sm'); }\n",
              "    "
            ]
          },
          "metadata": {}
        },
        {
          "output_type": "stream",
          "name": "stderr",
          "text": [
            "/usr/local/lib/python3.7/dist-packages/seaborn/_decorators.py:43: FutureWarning: Pass the following variable as a keyword arg: x. From version 0.12, the only valid positional argument will be `data`, and passing other arguments without an explicit keyword will result in an error or misinterpretation.\n",
            "  FutureWarning\n"
          ]
        },
        {
          "output_type": "display_data",
          "data": {
            "text/plain": [
              "<IPython.core.display.Javascript object>"
            ],
            "application/javascript": [
              "\n",
              "        if (window._pyforest_update_imports_cell) { window._pyforest_update_imports_cell('from sklearn.linear_model import LassoCV\\nimport plotly.express as px\\nfrom sklearn.linear_model import ElasticNet\\nimport pandas as pd\\nfrom sklearn.preprocessing import PolynomialFeatures\\nimport fastai\\nfrom pathlib import Path\\nimport matplotlib as mpl\\nimport cv2\\nfrom sklearn.preprocessing import MinMaxScaler\\nimport textblob\\nfrom sklearn.manifold import TSNE\\nimport numpy as np\\nfrom sklearn.ensemble import RandomForestRegressor\\nfrom sklearn.linear_model import LinearRegression\\nimport altair as alt\\nfrom sklearn.model_selection import RandomizedSearchCV\\nimport tensorflow as tf\\nfrom openpyxl import load_workbook\\nimport sys\\nimport statistics\\nfrom sklearn.cluster import KMeans\\nfrom sklearn.model_selection import train_test_split\\nfrom sklearn.model_selection import cross_val_score\\nfrom sklearn.ensemble import GradientBoostingRegressor\\nfrom sklearn.feature_extraction.text import CountVectorizer\\nimport lightgbm as lgb\\nfrom sklearn.preprocessing import OneHotEncoder\\nimport nltk\\nimport re\\nimport matplotlib.pyplot as plt\\nimport tqdm\\nfrom sklearn.linear_model import Lasso\\nfrom sklearn.model_selection import KFold\\nfrom sklearn import metrics\\nimport xgboost as xgb\\nfrom sklearn.preprocessing import RobustScaler\\nfrom sklearn.linear_model import ElasticNetCV\\nimport sklearn\\nimport seaborn as sns\\nimport plotly as py\\nimport imutils\\nfrom sklearn.feature_extraction.text import TfidfVectorizer\\nimport pickle\\nfrom sklearn.linear_model import Ridge\\nfrom sklearn import svm\\nfrom sklearn.linear_model import RidgeCV\\nfrom sklearn.decomposition import PCA\\nfrom scipy import stats\\nfrom PIL import Image\\nfrom sklearn.model_selection import GridSearchCV\\nfrom sklearn.ensemble import GradientBoostingClassifier\\nimport spacy\\nfrom sklearn.linear_model import LogisticRegression\\nfrom sklearn.preprocessing import LabelEncoder\\nimport pydot\\nimport torch\\nimport skimage\\nfrom statsmodels.tsa.arima_model import ARIMA\\nfrom scipy import signal as sg\\nfrom sklearn.ensemble import RandomForestClassifier\\nimport statsmodels.api as sm'); }\n",
              "    "
            ]
          },
          "metadata": {}
        },
        {
          "output_type": "display_data",
          "data": {
            "text/plain": [
              "<Figure size 432x288 with 1 Axes>"
            ],
            "image/png": "[encoded data removed]"
          },
          "metadata": {
            "needs_background": "light"
          }
        },
        {
          "output_type": "display_data",
          "data": {
            "text/plain": [
              "<IPython.core.display.Javascript object>"
            ],
            "application/javascript": [
              "\n",
              "        if (window._pyforest_update_imports_cell) { window._pyforest_update_imports_cell('from sklearn.linear_model import LassoCV\\nimport plotly.express as px\\nfrom sklearn.linear_model import ElasticNet\\nimport pandas as pd\\nfrom sklearn.preprocessing import PolynomialFeatures\\nimport fastai\\nfrom pathlib import Path\\nimport matplotlib as mpl\\nimport cv2\\nfrom sklearn.preprocessing import MinMaxScaler\\nimport textblob\\nfrom sklearn.manifold import TSNE\\nimport numpy as np\\nfrom sklearn.ensemble import RandomForestRegressor\\nfrom sklearn.linear_model import LinearRegression\\nimport altair as alt\\nfrom sklearn.model_selection import RandomizedSearchCV\\nimport tensorflow as tf\\nfrom openpyxl import load_workbook\\nimport sys\\nimport statistics\\nfrom sklearn.cluster import KMeans\\nfrom sklearn.model_selection import train_test_split\\nfrom sklearn.model_selection import cross_val_score\\nfrom sklearn.ensemble import GradientBoostingRegressor\\nfrom sklearn.feature_extraction.text import CountVectorizer\\nimport lightgbm as lgb\\nfrom sklearn.preprocessing import OneHotEncoder\\nimport nltk\\nimport re\\nimport matplotlib.pyplot as plt\\nimport tqdm\\nfrom sklearn.linear_model import Lasso\\nfrom sklearn.model_selection import KFold\\nfrom sklearn import metrics\\nimport xgboost as xgb\\nfrom sklearn.preprocessing import RobustScaler\\nfrom sklearn.linear_model import ElasticNetCV\\nimport sklearn\\nimport seaborn as sns\\nimport plotly as py\\nimport imutils\\nfrom sklearn.feature_extraction.text import TfidfVectorizer\\nimport pickle\\nfrom sklearn.linear_model import Ridge\\nfrom sklearn import svm\\nfrom sklearn.linear_model import RidgeCV\\nfrom sklearn.decomposition import PCA\\nfrom scipy import stats\\nfrom PIL import Image\\nfrom sklearn.model_selection import GridSearchCV\\nfrom sklearn.ensemble import GradientBoostingClassifier\\nimport spacy\\nfrom sklearn.linear_model import LogisticRegression\\nfrom sklearn.preprocessing import LabelEncoder\\nimport pydot\\nimport torch\\nimport skimage\\nfrom statsmodels.tsa.arima_model import ARIMA\\nfrom scipy import signal as sg\\nfrom sklearn.ensemble import RandomForestClassifier\\nimport statsmodels.api as sm'); }\n",
              "    "
            ]
          },
          "metadata": {}
        },
        {
          "output_type": "stream",
          "name": "stderr",
          "text": [
            "/usr/local/lib/python3.7/dist-packages/seaborn/_decorators.py:43: FutureWarning: Pass the following variable as a keyword arg: x. From version 0.12, the only valid positional argument will be `data`, and passing other arguments without an explicit keyword will result in an error or misinterpretation.\n",
            "  FutureWarning\n"
          ]
        },
        {
          "output_type": "display_data",
          "data": {
            "text/plain": [
              "<IPython.core.display.Javascript object>"
            ],
            "application/javascript": [
              "\n",
              "        if (window._pyforest_update_imports_cell) { window._pyforest_update_imports_cell('from sklearn.linear_model import LassoCV\\nimport plotly.express as px\\nfrom sklearn.linear_model import ElasticNet\\nimport pandas as pd\\nfrom sklearn.preprocessing import PolynomialFeatures\\nimport fastai\\nfrom pathlib import Path\\nimport matplotlib as mpl\\nimport cv2\\nfrom sklearn.preprocessing import MinMaxScaler\\nimport textblob\\nfrom sklearn.manifold import TSNE\\nimport numpy as np\\nfrom sklearn.ensemble import RandomForestRegressor\\nfrom sklearn.linear_model import LinearRegression\\nimport altair as alt\\nfrom sklearn.model_selection import RandomizedSearchCV\\nimport tensorflow as tf\\nfrom openpyxl import load_workbook\\nimport sys\\nimport statistics\\nfrom sklearn.cluster import KMeans\\nfrom sklearn.model_selection import train_test_split\\nfrom sklearn.model_selection import cross_val_score\\nfrom sklearn.ensemble import GradientBoostingRegressor\\nfrom sklearn.feature_extraction.text import CountVectorizer\\nimport lightgbm as lgb\\nfrom sklearn.preprocessing import OneHotEncoder\\nimport nltk\\nimport re\\nimport matplotlib.pyplot as plt\\nimport tqdm\\nfrom sklearn.linear_model import Lasso\\nfrom sklearn.model_selection import KFold\\nfrom sklearn import metrics\\nimport xgboost as xgb\\nfrom sklearn.preprocessing import RobustScaler\\nfrom sklearn.linear_model import ElasticNetCV\\nimport sklearn\\nimport seaborn as sns\\nimport plotly as py\\nimport imutils\\nfrom sklearn.feature_extraction.text import TfidfVectorizer\\nimport pickle\\nfrom sklearn.linear_model import Ridge\\nfrom sklearn import svm\\nfrom sklearn.linear_model import RidgeCV\\nfrom sklearn.decomposition import PCA\\nfrom scipy import stats\\nfrom PIL import Image\\nfrom sklearn.model_selection import GridSearchCV\\nfrom sklearn.ensemble import GradientBoostingClassifier\\nimport spacy\\nfrom sklearn.linear_model import LogisticRegression\\nfrom sklearn.preprocessing import LabelEncoder\\nimport pydot\\nimport torch\\nimport skimage\\nfrom statsmodels.tsa.arima_model import ARIMA\\nfrom scipy import signal as sg\\nfrom sklearn.ensemble import RandomForestClassifier\\nimport statsmodels.api as sm'); }\n",
              "    "
            ]
          },
          "metadata": {}
        },
        {
          "output_type": "display_data",
          "data": {
            "text/plain": [
              "<Figure size 432x288 with 1 Axes>"
            ],
            "image/png": "[encoded data removed]"
          },
          "metadata": {
            "needs_background": "light"
          }
        },
        {
          "output_type": "display_data",
          "data": {
            "text/plain": [
              "<IPython.core.display.Javascript object>"
            ],
            "application/javascript": [
              "\n",
              "        if (window._pyforest_update_imports_cell) { window._pyforest_update_imports_cell('from sklearn.linear_model import LassoCV\\nimport plotly.express as px\\nfrom sklearn.linear_model import ElasticNet\\nimport pandas as pd\\nfrom sklearn.preprocessing import PolynomialFeatures\\nimport fastai\\nfrom pathlib import Path\\nimport matplotlib as mpl\\nimport cv2\\nfrom sklearn.preprocessing import MinMaxScaler\\nimport textblob\\nfrom sklearn.manifold import TSNE\\nimport numpy as np\\nfrom sklearn.ensemble import RandomForestRegressor\\nfrom sklearn.linear_model import LinearRegression\\nimport altair as alt\\nfrom sklearn.model_selection import RandomizedSearchCV\\nimport tensorflow as tf\\nfrom openpyxl import load_workbook\\nimport sys\\nimport statistics\\nfrom sklearn.cluster import KMeans\\nfrom sklearn.model_selection import train_test_split\\nfrom sklearn.model_selection import cross_val_score\\nfrom sklearn.ensemble import GradientBoostingRegressor\\nfrom sklearn.feature_extraction.text import CountVectorizer\\nimport lightgbm as lgb\\nfrom sklearn.preprocessing import OneHotEncoder\\nimport nltk\\nimport re\\nimport matplotlib.pyplot as plt\\nimport tqdm\\nfrom sklearn.linear_model import Lasso\\nfrom sklearn.model_selection import KFold\\nfrom sklearn import metrics\\nimport xgboost as xgb\\nfrom sklearn.preprocessing import RobustScaler\\nfrom sklearn.linear_model import ElasticNetCV\\nimport sklearn\\nimport seaborn as sns\\nimport plotly as py\\nimport imutils\\nfrom sklearn.feature_extraction.text import TfidfVectorizer\\nimport pickle\\nfrom sklearn.linear_model import Ridge\\nfrom sklearn import svm\\nfrom sklearn.linear_model import RidgeCV\\nfrom sklearn.decomposition import PCA\\nfrom scipy import stats\\nfrom PIL import Image\\nfrom sklearn.model_selection import GridSearchCV\\nfrom sklearn.ensemble import GradientBoostingClassifier\\nimport spacy\\nfrom sklearn.linear_model import LogisticRegression\\nfrom sklearn.preprocessing import LabelEncoder\\nimport pydot\\nimport torch\\nimport skimage\\nfrom statsmodels.tsa.arima_model import ARIMA\\nfrom scipy import signal as sg\\nfrom sklearn.ensemble import RandomForestClassifier\\nimport statsmodels.api as sm'); }\n",
              "    "
            ]
          },
          "metadata": {}
        },
        {
          "output_type": "stream",
          "name": "stderr",
          "text": [
            "/usr/local/lib/python3.7/dist-packages/seaborn/_decorators.py:43: FutureWarning: Pass the following variable as a keyword arg: x. From version 0.12, the only valid positional argument will be `data`, and passing other arguments without an explicit keyword will result in an error or misinterpretation.\n",
            "  FutureWarning\n"
          ]
        },
        {
          "output_type": "display_data",
          "data": {
            "text/plain": [
              "<IPython.core.display.Javascript object>"
            ],
            "application/javascript": [
              "\n",
              "        if (window._pyforest_update_imports_cell) { window._pyforest_update_imports_cell('from sklearn.linear_model import LassoCV\\nimport plotly.express as px\\nfrom sklearn.linear_model import ElasticNet\\nimport pandas as pd\\nfrom sklearn.preprocessing import PolynomialFeatures\\nimport fastai\\nfrom pathlib import Path\\nimport matplotlib as mpl\\nimport cv2\\nfrom sklearn.preprocessing import MinMaxScaler\\nimport textblob\\nfrom sklearn.manifold import TSNE\\nimport numpy as np\\nfrom sklearn.ensemble import RandomForestRegressor\\nfrom sklearn.linear_model import LinearRegression\\nimport altair as alt\\nfrom sklearn.model_selection import RandomizedSearchCV\\nimport tensorflow as tf\\nfrom openpyxl import load_workbook\\nimport sys\\nimport statistics\\nfrom sklearn.cluster import KMeans\\nfrom sklearn.model_selection import train_test_split\\nfrom sklearn.model_selection import cross_val_score\\nfrom sklearn.ensemble import GradientBoostingRegressor\\nfrom sklearn.feature_extraction.text import CountVectorizer\\nimport lightgbm as lgb\\nfrom sklearn.preprocessing import OneHotEncoder\\nimport nltk\\nimport re\\nimport matplotlib.pyplot as plt\\nimport tqdm\\nfrom sklearn.linear_model import Lasso\\nfrom sklearn.model_selection import KFold\\nfrom sklearn import metrics\\nimport xgboost as xgb\\nfrom sklearn.preprocessing import RobustScaler\\nfrom sklearn.linear_model import ElasticNetCV\\nimport sklearn\\nimport seaborn as sns\\nimport plotly as py\\nimport imutils\\nfrom sklearn.feature_extraction.text import TfidfVectorizer\\nimport pickle\\nfrom sklearn.linear_model import Ridge\\nfrom sklearn import svm\\nfrom sklearn.linear_model import RidgeCV\\nfrom sklearn.decomposition import PCA\\nfrom scipy import stats\\nfrom PIL import Image\\nfrom sklearn.model_selection import GridSearchCV\\nfrom sklearn.ensemble import GradientBoostingClassifier\\nimport spacy\\nfrom sklearn.linear_model import LogisticRegression\\nfrom sklearn.preprocessing import LabelEncoder\\nimport pydot\\nimport torch\\nimport skimage\\nfrom statsmodels.tsa.arima_model import ARIMA\\nfrom scipy import signal as sg\\nfrom sklearn.ensemble import RandomForestClassifier\\nimport statsmodels.api as sm'); }\n",
              "    "
            ]
          },
          "metadata": {}
        },
        {
          "output_type": "display_data",
          "data": {
            "text/plain": [
              "<Figure size 432x288 with 1 Axes>"
            ],
            "image/png": "[encoded data removed]"
          },
          "metadata": {
            "needs_background": "light"
          }
        }
      ]
    },
    {
      "cell_type": "code",
      "source": [
        "for i in numeric:\n",
        "  IQR=dataset[i].quantile(0.75)-dataset[i].quantile(0.25)\n",
        "  lower=dataset[i].quantile(0.25)-(1.5*IQR)\n",
        "  upper=dataset[i].quantile(0.75)+(1.5*IQR)\n",
        "  print(i)\n",
        "  print(upper)\n",
        "  print(lower)\n",
        "  print(\"-----------------\")"
      ],
      "metadata": {
        "colab": {
          "base_uri": "https://localhost:8080/"
        },
        "id": "h8q8PREoWMDc",
        "outputId": "9fe8d394-4d4e-4044-e878-11f996537681"
      },
      "execution_count": 1077,
      "outputs": [
        {
          "output_type": "stream",
          "name": "stdout",
          "text": [
            "ApplicantIncome\n",
            "9.714769169065523\n",
            "6.915177213877904\n",
            "-----------------\n",
            "CoapplicantIncome\n",
            "19.349742043898722\n",
            "-11.609845226339234\n",
            "-----------------\n",
            "LoanAmount\n",
            "5.849817637928362\n",
            "3.878243162766202\n",
            "-----------------\n",
            "Loan_Amount_Term\n",
            "360.0\n",
            "360.0\n",
            "-----------------\n"
          ]
        }
      ]
    },
    {
      "cell_type": "code",
      "source": [
        "for i in numeric:\n",
        "  dataset.loc[dataset[i]>upper,\"i\"]=upper\n",
        "  dataset.loc[dataset[i]<lower,\"i\"]=lower"
      ],
      "metadata": {
        "id": "cqKGhTrTWwKs"
      },
      "execution_count": 1078,
      "outputs": []
    },
    {
      "cell_type": "code",
      "source": [
        "for i in numeric:\n",
        "  print(i)\n",
        "  print(dataset[i].value_counts().sort_values())"
      ],
      "metadata": {
        "colab": {
          "base_uri": "https://localhost:8080/"
        },
        "id": "iuOBLNNiXNZT",
        "outputId": "e11121b6-2769-46e9-eae7-e34328b23bf1"
      },
      "execution_count": 1079,
      "outputs": [
        {
          "output_type": "stream",
          "name": "stdout",
          "text": [
            "ApplicantIncome\n",
            "8.572817    1\n",
            "9.433564    1\n",
            "7.730175    1\n",
            "7.511525    1\n",
            "8.229244    1\n",
            "           ..\n",
            "8.334952    5\n",
            "7.863651    6\n",
            "8.699681    6\n",
            "8.430327    6\n",
            "7.824446    9\n",
            "Name: ApplicantIncome, Length: 505, dtype: int64\n",
            "CoapplicantIncome\n",
            "8.877242      1\n",
            "7.765993      1\n",
            "6.947937      1\n",
            "8.955577      1\n",
            "8.146130      1\n",
            "           ... \n",
            "7.755339      3\n",
            "7.418781      5\n",
            "7.642044      5\n",
            "7.824446      5\n",
            "0.000000    273\n",
            "Name: CoapplicantIncome, Length: 287, dtype: int64\n",
            "LoanAmount\n",
            "5.537334     1\n",
            "5.525453     1\n",
            "5.497168     1\n",
            "4.983607     1\n",
            "6.347389     1\n",
            "            ..\n",
            "5.081404    12\n",
            "4.615121    15\n",
            "4.709530    17\n",
            "4.795791    20\n",
            "4.993232    22\n",
            "Name: LoanAmount, Length: 204, dtype: int64\n",
            "Loan_Amount_Term\n",
            "12.0       1\n",
            "60.0       2\n",
            "36.0       2\n",
            "120.0      3\n",
            "240.0      4\n",
            "84.0       4\n",
            "300.0     13\n",
            "342.0     14\n",
            "480.0     15\n",
            "180.0     44\n",
            "360.0    512\n",
            "Name: Loan_Amount_Term, dtype: int64\n"
          ]
        }
      ]
    },
    {
      "cell_type": "code",
      "source": [
        "x=dataset.drop([\"Loan_Status\"],axis=1)\n",
        "y=dataset[\"Loan_Status\"]"
      ],
      "metadata": {
        "id": "t9RcpnadbNje"
      },
      "execution_count": 1080,
      "outputs": []
    },
    {
      "cell_type": "code",
      "source": [
        "from sklearn.ensemble import RandomForestClassifier\n",
        "model=RandomForestClassifier()"
      ],
      "metadata": {
        "id": "66IrIzlBXXgM"
      },
      "execution_count": 1081,
      "outputs": []
    },
    {
      "cell_type": "code",
      "source": [
        "from sklearn.model_selection import RandomizedSearchCV"
      ],
      "metadata": {
        "id": "hzy1WcisZuiq"
      },
      "execution_count": 1082,
      "outputs": []
    },
    {
      "cell_type": "code",
      "source": [
        "help(RandomForestClassifier)"
      ],
      "metadata": {
        "colab": {
          "base_uri": "https://localhost:8080/"
        },
        "id": "QVAhRQnYZybY",
        "outputId": "06283411-a200-4929-ce60-012f66a1b19a"
      },
      "execution_count": 1083,
      "outputs": [
        {
          "output_type": "stream",
          "name": "stdout",
          "text": [
            "Help on class RandomForestClassifier in module sklearn.ensemble._forest:\n",
            "\n",
            "class RandomForestClassifier(ForestClassifier)\n",
            " |  RandomForestClassifier(n_estimators=100, *, criterion='gini', max_depth=None, min_samples_split=2, min_samples_leaf=1, min_weight_fraction_leaf=0.0, max_features='auto', max_leaf_nodes=None, min_impurity_decrease=0.0, bootstrap=True, oob_score=False, n_jobs=None, random_state=None, verbose=0, warm_start=False, class_weight=None, ccp_alpha=0.0, max_samples=None)\n",
            " |  \n",
            " |  A random forest classifier.\n",
            " |  \n",
            " |  A random forest is a meta estimator that fits a number of decision tree\n",
            " |  classifiers on various sub-samples of the dataset and uses averaging to\n",
            " |  improve the predictive accuracy and control over-fitting.\n",
            " |  The sub-sample size is controlled with the `max_samples` parameter if\n",
            " |  `bootstrap=True` (default), otherwise the whole dataset is used to build\n",
            " |  each tree.\n",
            " |  \n",
            " |  Read more in the :ref:`User Guide <forest>`.\n",
            " |  \n",
            " |  Parameters\n",
            " |  ----------\n",
            " |  n_estimators : int, default=100\n",
            " |      The number of trees in the forest.\n",
            " |  \n",
            " |      .. versionchanged:: 0.22\n",
            " |         The default value of ``n_estimators`` changed from 10 to 100\n",
            " |         in 0.22.\n",
            " |  \n",
            " |  criterion : {\"gini\", \"entropy\"}, default=\"gini\"\n",
            " |      The function to measure the quality of a split. Supported criteria are\n",
            " |      \"gini\" for the Gini impurity and \"entropy\" for the information gain.\n",
            " |      Note: this parameter is tree-specific.\n",
            " |  \n",
            " |  max_depth : int, default=None\n",
            " |      The maximum depth of the tree. If None, then nodes are expanded until\n",
            " |      all leaves are pure or until all leaves contain less than\n",
            " |      min_samples_split samples.\n",
            " |  \n",
            " |  min_samples_split : int or float, default=2\n",
            " |      The minimum number of samples required to split an internal node:\n",
            " |  \n",
            " |      - If int, then consider `min_samples_split` as the minimum number.\n",
            " |      - If float, then `min_samples_split` is a fraction and\n",
            " |        `ceil(min_samples_split * n_samples)` are the minimum\n",
            " |        number of samples for each split.\n",
            " |  \n",
            " |      .. versionchanged:: 0.18\n",
            " |         Added float values for fractions.\n",
            " |  \n",
            " |  min_samples_leaf : int or float, default=1\n",
            " |      The minimum number of samples required to be at a leaf node.\n",
            " |      A split point at any depth will only be considered if it leaves at\n",
            " |      least ``min_samples_leaf`` training samples in each of the left and\n",
            " |      right branches.  This may have the effect of smoothing the model,\n",
            " |      especially in regression.\n",
            " |  \n",
            " |      - If int, then consider `min_samples_leaf` as the minimum number.\n",
            " |      - If float, then `min_samples_leaf` is a fraction and\n",
            " |        `ceil(min_samples_leaf * n_samples)` are the minimum\n",
            " |        number of samples for each node.\n",
            " |  \n",
            " |      .. versionchanged:: 0.18\n",
            " |         Added float values for fractions.\n",
            " |  \n",
            " |  min_weight_fraction_leaf : float, default=0.0\n",
            " |      The minimum weighted fraction of the sum total of weights (of all\n",
            " |      the input samples) required to be at a leaf node. Samples have\n",
            " |      equal weight when sample_weight is not provided.\n",
            " |  \n",
            " |  max_features : {\"auto\", \"sqrt\", \"log2\"}, int or float, default=\"auto\"\n",
            " |      The number of features to consider when looking for the best split:\n",
            " |  \n",
            " |      - If int, then consider `max_features` features at each split.\n",
            " |      - If float, then `max_features` is a fraction and\n",
            " |        `round(max_features * n_features)` features are considered at each\n",
            " |        split.\n",
            " |      - If \"auto\", then `max_features=sqrt(n_features)`.\n",
            " |      - If \"sqrt\", then `max_features=sqrt(n_features)` (same as \"auto\").\n",
            " |      - If \"log2\", then `max_features=log2(n_features)`.\n",
            " |      - If None, then `max_features=n_features`.\n",
            " |  \n",
            " |      Note: the search for a split does not stop until at least one\n",
            " |      valid partition of the node samples is found, even if it requires to\n",
            " |      effectively inspect more than ``max_features`` features.\n",
            " |  \n",
            " |  max_leaf_nodes : int, default=None\n",
            " |      Grow trees with ``max_leaf_nodes`` in best-first fashion.\n",
            " |      Best nodes are defined as relative reduction in impurity.\n",
            " |      If None then unlimited number of leaf nodes.\n",
            " |  \n",
            " |  min_impurity_decrease : float, default=0.0\n",
            " |      A node will be split if this split induces a decrease of the impurity\n",
            " |      greater than or equal to this value.\n",
            " |  \n",
            " |      The weighted impurity decrease equation is the following::\n",
            " |  \n",
            " |          N_t / N * (impurity - N_t_R / N_t * right_impurity\n",
            " |                              - N_t_L / N_t * left_impurity)\n",
            " |  \n",
            " |      where ``N`` is the total number of samples, ``N_t`` is the number of\n",
            " |      samples at the current node, ``N_t_L`` is the number of samples in the\n",
            " |      left child, and ``N_t_R`` is the number of samples in the right child.\n",
            " |  \n",
            " |      ``N``, ``N_t``, ``N_t_R`` and ``N_t_L`` all refer to the weighted sum,\n",
            " |      if ``sample_weight`` is passed.\n",
            " |  \n",
            " |      .. versionadded:: 0.19\n",
            " |  \n",
            " |  bootstrap : bool, default=True\n",
            " |      Whether bootstrap samples are used when building trees. If False, the\n",
            " |      whole dataset is used to build each tree.\n",
            " |  \n",
            " |  oob_score : bool, default=False\n",
            " |      Whether to use out-of-bag samples to estimate the generalization score.\n",
            " |      Only available if bootstrap=True.\n",
            " |  \n",
            " |  n_jobs : int, default=None\n",
            " |      The number of jobs to run in parallel. :meth:`fit`, :meth:`predict`,\n",
            " |      :meth:`decision_path` and :meth:`apply` are all parallelized over the\n",
            " |      trees. ``None`` means 1 unless in a :obj:`joblib.parallel_backend`\n",
            " |      context. ``-1`` means using all processors. See :term:`Glossary\n",
            " |      <n_jobs>` for more details.\n",
            " |  \n",
            " |  random_state : int, RandomState instance or None, default=None\n",
            " |      Controls both the randomness of the bootstrapping of the samples used\n",
            " |      when building trees (if ``bootstrap=True``) and the sampling of the\n",
            " |      features to consider when looking for the best split at each node\n",
            " |      (if ``max_features < n_features``).\n",
            " |      See :term:`Glossary <random_state>` for details.\n",
            " |  \n",
            " |  verbose : int, default=0\n",
            " |      Controls the verbosity when fitting and predicting.\n",
            " |  \n",
            " |  warm_start : bool, default=False\n",
            " |      When set to ``True``, reuse the solution of the previous call to fit\n",
            " |      and add more estimators to the ensemble, otherwise, just fit a whole\n",
            " |      new forest. See :term:`the Glossary <warm_start>`.\n",
            " |  \n",
            " |  class_weight : {\"balanced\", \"balanced_subsample\"}, dict or list of dicts,             default=None\n",
            " |      Weights associated with classes in the form ``{class_label: weight}``.\n",
            " |      If not given, all classes are supposed to have weight one. For\n",
            " |      multi-output problems, a list of dicts can be provided in the same\n",
            " |      order as the columns of y.\n",
            " |  \n",
            " |      Note that for multioutput (including multilabel) weights should be\n",
            " |      defined for each class of every column in its own dict. For example,\n",
            " |      for four-class multilabel classification weights should be\n",
            " |      [{0: 1, 1: 1}, {0: 1, 1: 5}, {0: 1, 1: 1}, {0: 1, 1: 1}] instead of\n",
            " |      [{1:1}, {2:5}, {3:1}, {4:1}].\n",
            " |  \n",
            " |      The \"balanced\" mode uses the values of y to automatically adjust\n",
            " |      weights inversely proportional to class frequencies in the input data\n",
            " |      as ``n_samples / (n_classes * np.bincount(y))``\n",
            " |  \n",
            " |      The \"balanced_subsample\" mode is the same as \"balanced\" except that\n",
            " |      weights are computed based on the bootstrap sample for every tree\n",
            " |      grown.\n",
            " |  \n",
            " |      For multi-output, the weights of each column of y will be multiplied.\n",
            " |  \n",
            " |      Note that these weights will be multiplied with sample_weight (passed\n",
            " |      through the fit method) if sample_weight is specified.\n",
            " |  \n",
            " |  ccp_alpha : non-negative float, default=0.0\n",
            " |      Complexity parameter used for Minimal Cost-Complexity Pruning. The\n",
            " |      subtree with the largest cost complexity that is smaller than\n",
            " |      ``ccp_alpha`` will be chosen. By default, no pruning is performed. See\n",
            " |      :ref:`minimal_cost_complexity_pruning` for details.\n",
            " |  \n",
            " |      .. versionadded:: 0.22\n",
            " |  \n",
            " |  max_samples : int or float, default=None\n",
            " |      If bootstrap is True, the number of samples to draw from X\n",
            " |      to train each base estimator.\n",
            " |  \n",
            " |      - If None (default), then draw `X.shape[0]` samples.\n",
            " |      - If int, then draw `max_samples` samples.\n",
            " |      - If float, then draw `max_samples * X.shape[0]` samples. Thus,\n",
            " |        `max_samples` should be in the interval `(0.0, 1.0]`.\n",
            " |  \n",
            " |      .. versionadded:: 0.22\n",
            " |  \n",
            " |  Attributes\n",
            " |  ----------\n",
            " |  base_estimator_ : DecisionTreeClassifier\n",
            " |      The child estimator template used to create the collection of fitted\n",
            " |      sub-estimators.\n",
            " |  \n",
            " |  estimators_ : list of DecisionTreeClassifier\n",
            " |      The collection of fitted sub-estimators.\n",
            " |  \n",
            " |  classes_ : ndarray of shape (n_classes,) or a list of such arrays\n",
            " |      The classes labels (single output problem), or a list of arrays of\n",
            " |      class labels (multi-output problem).\n",
            " |  \n",
            " |  n_classes_ : int or list\n",
            " |      The number of classes (single output problem), or a list containing the\n",
            " |      number of classes for each output (multi-output problem).\n",
            " |  \n",
            " |  n_features_ : int\n",
            " |      The number of features when ``fit`` is performed.\n",
            " |  \n",
            " |      .. deprecated:: 1.0\n",
            " |          Attribute `n_features_` was deprecated in version 1.0 and will be\n",
            " |          removed in 1.2. Use `n_features_in_` instead.\n",
            " |  \n",
            " |  n_features_in_ : int\n",
            " |      Number of features seen during :term:`fit`.\n",
            " |  \n",
            " |      .. versionadded:: 0.24\n",
            " |  \n",
            " |  feature_names_in_ : ndarray of shape (`n_features_in_`,)\n",
            " |      Names of features seen during :term:`fit`. Defined only when `X`\n",
            " |      has feature names that are all strings.\n",
            " |  \n",
            " |      .. versionadded:: 1.0\n",
            " |  \n",
            " |  n_outputs_ : int\n",
            " |      The number of outputs when ``fit`` is performed.\n",
            " |  \n",
            " |  feature_importances_ : ndarray of shape (n_features,)\n",
            " |      The impurity-based feature importances.\n",
            " |      The higher, the more important the feature.\n",
            " |      The importance of a feature is computed as the (normalized)\n",
            " |      total reduction of the criterion brought by that feature.  It is also\n",
            " |      known as the Gini importance.\n",
            " |  \n",
            " |      Warning: impurity-based feature importances can be misleading for\n",
            " |      high cardinality features (many unique values). See\n",
            " |      :func:`sklearn.inspection.permutation_importance` as an alternative.\n",
            " |  \n",
            " |  oob_score_ : float\n",
            " |      Score of the training dataset obtained using an out-of-bag estimate.\n",
            " |      This attribute exists only when ``oob_score`` is True.\n",
            " |  \n",
            " |  oob_decision_function_ : ndarray of shape (n_samples, n_classes) or             (n_samples, n_classes, n_outputs)\n",
            " |      Decision function computed with out-of-bag estimate on the training\n",
            " |      set. If n_estimators is small it might be possible that a data point\n",
            " |      was never left out during the bootstrap. In this case,\n",
            " |      `oob_decision_function_` might contain NaN. This attribute exists\n",
            " |      only when ``oob_score`` is True.\n",
            " |  \n",
            " |  See Also\n",
            " |  --------\n",
            " |  sklearn.tree.DecisionTreeClassifier : A decision tree classifier.\n",
            " |  sklearn.ensemble.ExtraTreesClassifier : Ensemble of extremely randomized\n",
            " |      tree classifiers.\n",
            " |  \n",
            " |  Notes\n",
            " |  -----\n",
            " |  The default values for the parameters controlling the size of the trees\n",
            " |  (e.g. ``max_depth``, ``min_samples_leaf``, etc.) lead to fully grown and\n",
            " |  unpruned trees which can potentially be very large on some data sets. To\n",
            " |  reduce memory consumption, the complexity and size of the trees should be\n",
            " |  controlled by setting those parameter values.\n",
            " |  \n",
            " |  The features are always randomly permuted at each split. Therefore,\n",
            " |  the best found split may vary, even with the same training data,\n",
            " |  ``max_features=n_features`` and ``bootstrap=False``, if the improvement\n",
            " |  of the criterion is identical for several splits enumerated during the\n",
            " |  search of the best split. To obtain a deterministic behaviour during\n",
            " |  fitting, ``random_state`` has to be fixed.\n",
            " |  \n",
            " |  References\n",
            " |  ----------\n",
            " |  .. [1] L. Breiman, \"Random Forests\", Machine Learning, 45(1), 5-32, 2001.\n",
            " |  \n",
            " |  Examples\n",
            " |  --------\n",
            " |  >>> from sklearn.ensemble import RandomForestClassifier\n",
            " |  >>> from sklearn.datasets import make_classification\n",
            " |  >>> X, y = make_classification(n_samples=1000, n_features=4,\n",
            " |  ...                            n_informative=2, n_redundant=0,\n",
            " |  ...                            random_state=0, shuffle=False)\n",
            " |  >>> clf = RandomForestClassifier(max_depth=2, random_state=0)\n",
            " |  >>> clf.fit(X, y)\n",
            " |  RandomForestClassifier(...)\n",
            " |  >>> print(clf.predict([[0, 0, 0, 0]]))\n",
            " |  [1]\n",
            " |  \n",
            " |  Method resolution order:\n",
            " |      RandomForestClassifier\n",
            " |      ForestClassifier\n",
            " |      sklearn.base.ClassifierMixin\n",
            " |      BaseForest\n",
            " |      sklearn.base.MultiOutputMixin\n",
            " |      sklearn.ensemble._base.BaseEnsemble\n",
            " |      sklearn.base.MetaEstimatorMixin\n",
            " |      sklearn.base.BaseEstimator\n",
            " |      builtins.object\n",
            " |  \n",
            " |  Methods defined here:\n",
            " |  \n",
            " |  __init__(self, n_estimators=100, *, criterion='gini', max_depth=None, min_samples_split=2, min_samples_leaf=1, min_weight_fraction_leaf=0.0, max_features='auto', max_leaf_nodes=None, min_impurity_decrease=0.0, bootstrap=True, oob_score=False, n_jobs=None, random_state=None, verbose=0, warm_start=False, class_weight=None, ccp_alpha=0.0, max_samples=None)\n",
            " |      Initialize self.  See help(type(self)) for accurate signature.\n",
            " |  \n",
            " |  ----------------------------------------------------------------------\n",
            " |  Data and other attributes defined here:\n",
            " |  \n",
            " |  __abstractmethods__ = frozenset()\n",
            " |  \n",
            " |  ----------------------------------------------------------------------\n",
            " |  Methods inherited from ForestClassifier:\n",
            " |  \n",
            " |  predict(self, X)\n",
            " |      Predict class for X.\n",
            " |      \n",
            " |      The predicted class of an input sample is a vote by the trees in\n",
            " |      the forest, weighted by their probability estimates. That is,\n",
            " |      the predicted class is the one with highest mean probability\n",
            " |      estimate across the trees.\n",
            " |      \n",
            " |      Parameters\n",
            " |      ----------\n",
            " |      X : {array-like, sparse matrix} of shape (n_samples, n_features)\n",
            " |          The input samples. Internally, its dtype will be converted to\n",
            " |          ``dtype=np.float32``. If a sparse matrix is provided, it will be\n",
            " |          converted into a sparse ``csr_matrix``.\n",
            " |      \n",
            " |      Returns\n",
            " |      -------\n",
            " |      y : ndarray of shape (n_samples,) or (n_samples, n_outputs)\n",
            " |          The predicted classes.\n",
            " |  \n",
            " |  predict_log_proba(self, X)\n",
            " |      Predict class log-probabilities for X.\n",
            " |      \n",
            " |      The predicted class log-probabilities of an input sample is computed as\n",
            " |      the log of the mean predicted class probabilities of the trees in the\n",
            " |      forest.\n",
            " |      \n",
            " |      Parameters\n",
            " |      ----------\n",
            " |      X : {array-like, sparse matrix} of shape (n_samples, n_features)\n",
            " |          The input samples. Internally, its dtype will be converted to\n",
            " |          ``dtype=np.float32``. If a sparse matrix is provided, it will be\n",
            " |          converted into a sparse ``csr_matrix``.\n",
            " |      \n",
            " |      Returns\n",
            " |      -------\n",
            " |      p : ndarray of shape (n_samples, n_classes), or a list of such arrays\n",
            " |          The class probabilities of the input samples. The order of the\n",
            " |          classes corresponds to that in the attribute :term:`classes_`.\n",
            " |  \n",
            " |  predict_proba(self, X)\n",
            " |      Predict class probabilities for X.\n",
            " |      \n",
            " |      The predicted class probabilities of an input sample are computed as\n",
            " |      the mean predicted class probabilities of the trees in the forest.\n",
            " |      The class probability of a single tree is the fraction of samples of\n",
            " |      the same class in a leaf.\n",
            " |      \n",
            " |      Parameters\n",
            " |      ----------\n",
            " |      X : {array-like, sparse matrix} of shape (n_samples, n_features)\n",
            " |          The input samples. Internally, its dtype will be converted to\n",
            " |          ``dtype=np.float32``. If a sparse matrix is provided, it will be\n",
            " |          converted into a sparse ``csr_matrix``.\n",
            " |      \n",
            " |      Returns\n",
            " |      -------\n",
            " |      p : ndarray of shape (n_samples, n_classes), or a list of such arrays\n",
            " |          The class probabilities of the input samples. The order of the\n",
            " |          classes corresponds to that in the attribute :term:`classes_`.\n",
            " |  \n",
            " |  ----------------------------------------------------------------------\n",
            " |  Methods inherited from sklearn.base.ClassifierMixin:\n",
            " |  \n",
            " |  score(self, X, y, sample_weight=None)\n",
            " |      Return the mean accuracy on the given test data and labels.\n",
            " |      \n",
            " |      In multi-label classification, this is the subset accuracy\n",
            " |      which is a harsh metric since you require for each sample that\n",
            " |      each label set be correctly predicted.\n",
            " |      \n",
            " |      Parameters\n",
            " |      ----------\n",
            " |      X : array-like of shape (n_samples, n_features)\n",
            " |          Test samples.\n",
            " |      \n",
            " |      y : array-like of shape (n_samples,) or (n_samples, n_outputs)\n",
            " |          True labels for `X`.\n",
            " |      \n",
            " |      sample_weight : array-like of shape (n_samples,), default=None\n",
            " |          Sample weights.\n",
            " |      \n",
            " |      Returns\n",
            " |      -------\n",
            " |      score : float\n",
            " |          Mean accuracy of ``self.predict(X)`` wrt. `y`.\n",
            " |  \n",
            " |  ----------------------------------------------------------------------\n",
            " |  Data descriptors inherited from sklearn.base.ClassifierMixin:\n",
            " |  \n",
            " |  __dict__\n",
            " |      dictionary for instance variables (if defined)\n",
            " |  \n",
            " |  __weakref__\n",
            " |      list of weak references to the object (if defined)\n",
            " |  \n",
            " |  ----------------------------------------------------------------------\n",
            " |  Methods inherited from BaseForest:\n",
            " |  \n",
            " |  apply(self, X)\n",
            " |      Apply trees in the forest to X, return leaf indices.\n",
            " |      \n",
            " |      Parameters\n",
            " |      ----------\n",
            " |      X : {array-like, sparse matrix} of shape (n_samples, n_features)\n",
            " |          The input samples. Internally, its dtype will be converted to\n",
            " |          ``dtype=np.float32``. If a sparse matrix is provided, it will be\n",
            " |          converted into a sparse ``csr_matrix``.\n",
            " |      \n",
            " |      Returns\n",
            " |      -------\n",
            " |      X_leaves : ndarray of shape (n_samples, n_estimators)\n",
            " |          For each datapoint x in X and for each tree in the forest,\n",
            " |          return the index of the leaf x ends up in.\n",
            " |  \n",
            " |  decision_path(self, X)\n",
            " |      Return the decision path in the forest.\n",
            " |      \n",
            " |      .. versionadded:: 0.18\n",
            " |      \n",
            " |      Parameters\n",
            " |      ----------\n",
            " |      X : {array-like, sparse matrix} of shape (n_samples, n_features)\n",
            " |          The input samples. Internally, its dtype will be converted to\n",
            " |          ``dtype=np.float32``. If a sparse matrix is provided, it will be\n",
            " |          converted into a sparse ``csr_matrix``.\n",
            " |      \n",
            " |      Returns\n",
            " |      -------\n",
            " |      indicator : sparse matrix of shape (n_samples, n_nodes)\n",
            " |          Return a node indicator matrix where non zero elements indicates\n",
            " |          that the samples goes through the nodes. The matrix is of CSR\n",
            " |          format.\n",
            " |      \n",
            " |      n_nodes_ptr : ndarray of shape (n_estimators + 1,)\n",
            " |          The columns from indicator[n_nodes_ptr[i]:n_nodes_ptr[i+1]]\n",
            " |          gives the indicator value for the i-th estimator.\n",
            " |  \n",
            " |  fit(self, X, y, sample_weight=None)\n",
            " |      Build a forest of trees from the training set (X, y).\n",
            " |      \n",
            " |      Parameters\n",
            " |      ----------\n",
            " |      X : {array-like, sparse matrix} of shape (n_samples, n_features)\n",
            " |          The training input samples. Internally, its dtype will be converted\n",
            " |          to ``dtype=np.float32``. If a sparse matrix is provided, it will be\n",
            " |          converted into a sparse ``csc_matrix``.\n",
            " |      \n",
            " |      y : array-like of shape (n_samples,) or (n_samples, n_outputs)\n",
            " |          The target values (class labels in classification, real numbers in\n",
            " |          regression).\n",
            " |      \n",
            " |      sample_weight : array-like of shape (n_samples,), default=None\n",
            " |          Sample weights. If None, then samples are equally weighted. Splits\n",
            " |          that would create child nodes with net zero or negative weight are\n",
            " |          ignored while searching for a split in each node. In the case of\n",
            " |          classification, splits are also ignored if they would result in any\n",
            " |          single class carrying a negative weight in either child node.\n",
            " |      \n",
            " |      Returns\n",
            " |      -------\n",
            " |      self : object\n",
            " |          Fitted estimator.\n",
            " |  \n",
            " |  ----------------------------------------------------------------------\n",
            " |  Data descriptors inherited from BaseForest:\n",
            " |  \n",
            " |  feature_importances_\n",
            " |      The impurity-based feature importances.\n",
            " |      \n",
            " |      The higher, the more important the feature.\n",
            " |      The importance of a feature is computed as the (normalized)\n",
            " |      total reduction of the criterion brought by that feature.  It is also\n",
            " |      known as the Gini importance.\n",
            " |      \n",
            " |      Warning: impurity-based feature importances can be misleading for\n",
            " |      high cardinality features (many unique values). See\n",
            " |      :func:`sklearn.inspection.permutation_importance` as an alternative.\n",
            " |      \n",
            " |      Returns\n",
            " |      -------\n",
            " |      feature_importances_ : ndarray of shape (n_features,)\n",
            " |          The values of this array sum to 1, unless all trees are single node\n",
            " |          trees consisting of only the root node, in which case it will be an\n",
            " |          array of zeros.\n",
            " |  \n",
            " |  n_features_\n",
            " |      DEPRECATED: Attribute `n_features_` was deprecated in version 1.0 and will be removed in 1.2. Use `n_features_in_` instead.\n",
            " |      \n",
            " |      Number of features when fitting the estimator.\n",
            " |  \n",
            " |  ----------------------------------------------------------------------\n",
            " |  Methods inherited from sklearn.ensemble._base.BaseEnsemble:\n",
            " |  \n",
            " |  __getitem__(self, index)\n",
            " |      Return the index'th estimator in the ensemble.\n",
            " |  \n",
            " |  __iter__(self)\n",
            " |      Return iterator over estimators in the ensemble.\n",
            " |  \n",
            " |  __len__(self)\n",
            " |      Return the number of estimators in the ensemble.\n",
            " |  \n",
            " |  ----------------------------------------------------------------------\n",
            " |  Data and other attributes inherited from sklearn.ensemble._base.BaseEnsemble:\n",
            " |  \n",
            " |  __annotations__ = {'_required_parameters': typing.List[str]}\n",
            " |  \n",
            " |  ----------------------------------------------------------------------\n",
            " |  Methods inherited from sklearn.base.BaseEstimator:\n",
            " |  \n",
            " |  __getstate__(self)\n",
            " |  \n",
            " |  __repr__(self, N_CHAR_MAX=700)\n",
            " |      Return repr(self).\n",
            " |  \n",
            " |  __setstate__(self, state)\n",
            " |  \n",
            " |  get_params(self, deep=True)\n",
            " |      Get parameters for this estimator.\n",
            " |      \n",
            " |      Parameters\n",
            " |      ----------\n",
            " |      deep : bool, default=True\n",
            " |          If True, will return the parameters for this estimator and\n",
            " |          contained subobjects that are estimators.\n",
            " |      \n",
            " |      Returns\n",
            " |      -------\n",
            " |      params : dict\n",
            " |          Parameter names mapped to their values.\n",
            " |  \n",
            " |  set_params(self, **params)\n",
            " |      Set the parameters of this estimator.\n",
            " |      \n",
            " |      The method works on simple estimators as well as on nested objects\n",
            " |      (such as :class:`~sklearn.pipeline.Pipeline`). The latter have\n",
            " |      parameters of the form ``<component>__<parameter>`` so that it's\n",
            " |      possible to update each component of a nested object.\n",
            " |      \n",
            " |      Parameters\n",
            " |      ----------\n",
            " |      **params : dict\n",
            " |          Estimator parameters.\n",
            " |      \n",
            " |      Returns\n",
            " |      -------\n",
            " |      self : estimator instance\n",
            " |          Estimator instance.\n",
            "\n"
          ]
        }
      ]
    },
    {
      "cell_type": "code",
      "source": [
        "params={\"n_estimators\":[10,20,30,40,50,100],\n",
        "         \"max_depth\":[5,10,15,20,25,30,35]}      \n",
        "         \n",
        "         \n",
        "         \n",
        "         \n"
      ],
      "metadata": {
        "id": "uSQj-yGTaDBR"
      },
      "execution_count": 1084,
      "outputs": []
    },
    {
      "cell_type": "code",
      "source": [
        "rs=RandomizedSearchCV(model,param_distributions=params,n_iter=10,cv=15,n_jobs=-1,verbose=0,scoring=\"roc_auc\")"
      ],
      "metadata": {
        "id": "gHTcdSaYatmX"
      },
      "execution_count": 1085,
      "outputs": []
    },
    {
      "cell_type": "code",
      "source": [
        "rs.fit(x,y)"
      ],
      "metadata": {
        "colab": {
          "base_uri": "https://localhost:8080/"
        },
        "id": "Qzm3JStFa6jj",
        "outputId": "901d6cea-041c-43b8-886d-21be33519a5c"
      },
      "execution_count": 1086,
      "outputs": [
        {
          "output_type": "execute_result",
          "data": {
            "text/plain": [
              "RandomizedSearchCV(cv=15, estimator=RandomForestClassifier(), n_jobs=-1,\n",
              "                   param_distributions={'max_depth': [5, 10, 15, 20, 25, 30,\n",
              "                                                      35],\n",
              "                                        'n_estimators': [10, 20, 30, 40, 50,\n",
              "                                                         100]},\n",
              "                   scoring='roc_auc')"
            ]
          },
          "metadata": {},
          "execution_count": 1086
        }
      ]
    },
    {
      "cell_type": "code",
      "source": [
        "rs.best_params_"
      ],
      "metadata": {
        "colab": {
          "base_uri": "https://localhost:8080/"
        },
        "id": "95qygJ50bfq8",
        "outputId": "a96a4c78-af6e-4b98-901f-ffaff6eabea0"
      },
      "execution_count": 1087,
      "outputs": [
        {
          "output_type": "execute_result",
          "data": {
            "text/plain": [
              "{'n_estimators': 30, 'max_depth': 30}"
            ]
          },
          "metadata": {},
          "execution_count": 1087
        }
      ]
    },
    {
      "cell_type": "code",
      "source": [
        "model=RandomForestClassifier(n_estimators= 50, max_depth=15)"
      ],
      "metadata": {
        "id": "TNRxlWLXbiCW"
      },
      "execution_count": 1088,
      "outputs": []
    },
    {
      "cell_type": "code",
      "source": [
        "from sklearn.model_selection import train_test_split\n",
        "x_train,x_test,y_train,y_test=train_test_split(x,y,test_size=0.20,random_state=42)"
      ],
      "metadata": {
        "id": "XH2rKrsrbvGR"
      },
      "execution_count": 1089,
      "outputs": []
    },
    {
      "cell_type": "code",
      "source": [
        "model.fit(x_train,y_train)"
      ],
      "metadata": {
        "colab": {
          "base_uri": "https://localhost:8080/"
        },
        "id": "5Nc52F9kcDnk",
        "outputId": "4836e85f-aeff-438e-9224-dd52dff1f89b"
      },
      "execution_count": 1090,
      "outputs": [
        {
          "output_type": "execute_result",
          "data": {
            "text/plain": [
              "RandomForestClassifier(max_depth=15, n_estimators=50)"
            ]
          },
          "metadata": {},
          "execution_count": 1090
        }
      ]
    },
    {
      "cell_type": "code",
      "source": [
        "ypred=model.predict(x_test)"
      ],
      "metadata": {
        "id": "0yjTx_u1cF66"
      },
      "execution_count": 1091,
      "outputs": []
    },
    {
      "cell_type": "code",
      "source": [
        "from sklearn.metrics import accuracy_score,classification_report,confusion_matrix\n",
        "print(\"Accuracy%=\",accuracy_score(y_test,ypred)*100)"
      ],
      "metadata": {
        "colab": {
          "base_uri": "https://localhost:8080/"
        },
        "id": "-8X8pQhQcIS3",
        "outputId": "56674560-e38e-4fbf-90bf-21b0e32c2518"
      },
      "execution_count": 1092,
      "outputs": [
        {
          "output_type": "stream",
          "name": "stdout",
          "text": [
            "Accuracy%= 77.23577235772358\n"
          ]
        }
      ]
    },
    {
      "cell_type": "code",
      "source": [
        "print(\"classification_report=\",classification_report(y_test,ypred))"
      ],
      "metadata": {
        "colab": {
          "base_uri": "https://localhost:8080/"
        },
        "id": "wqjNJsstcU5l",
        "outputId": "871cd6e6-931f-4f83-8f7a-ca36e6f54fdd"
      },
      "execution_count": 1093,
      "outputs": [
        {
          "output_type": "stream",
          "name": "stdout",
          "text": [
            "classification_report=               precision    recall  f1-score   support\n",
            "\n",
            "           0       0.86      0.42      0.56        43\n",
            "           1       0.75      0.96      0.85        80\n",
            "\n",
            "    accuracy                           0.77       123\n",
            "   macro avg       0.81      0.69      0.70       123\n",
            "weighted avg       0.79      0.77      0.75       123\n",
            "\n"
          ]
        }
      ]
    },
    {
      "cell_type": "code",
      "source": [
        "print(sns.heatmap(confusion_matrix(y_test,ypred),annot=True))"
      ],
      "metadata": {
        "colab": {
          "base_uri": "https://localhost:8080/",
          "height": 283
        },
        "id": "44sFmUb6kPTq",
        "outputId": "14a11e47-3d51-444b-aa39-d02d718002c5"
      },
      "execution_count": 1094,
      "outputs": [
        {
          "output_type": "display_data",
          "data": {
            "text/plain": [
              "<IPython.core.display.Javascript object>"
            ],
            "application/javascript": [
              "\n",
              "        if (window._pyforest_update_imports_cell) { window._pyforest_update_imports_cell('from sklearn.linear_model import LassoCV\\nimport plotly.express as px\\nfrom sklearn.linear_model import ElasticNet\\nimport pandas as pd\\nfrom sklearn.preprocessing import PolynomialFeatures\\nimport fastai\\nfrom pathlib import Path\\nimport matplotlib as mpl\\nimport cv2\\nfrom sklearn.preprocessing import MinMaxScaler\\nimport textblob\\nfrom sklearn.manifold import TSNE\\nimport numpy as np\\nfrom sklearn.ensemble import RandomForestRegressor\\nfrom sklearn.linear_model import LinearRegression\\nimport altair as alt\\nfrom sklearn.model_selection import RandomizedSearchCV\\nimport tensorflow as tf\\nfrom openpyxl import load_workbook\\nimport sys\\nimport statistics\\nfrom sklearn.cluster import KMeans\\nfrom sklearn.model_selection import train_test_split\\nfrom sklearn.model_selection import cross_val_score\\nfrom sklearn.ensemble import GradientBoostingRegressor\\nfrom sklearn.feature_extraction.text import CountVectorizer\\nimport lightgbm as lgb\\nfrom sklearn.preprocessing import OneHotEncoder\\nimport nltk\\nimport re\\nimport matplotlib.pyplot as plt\\nimport tqdm\\nfrom sklearn.linear_model import Lasso\\nfrom sklearn.model_selection import KFold\\nfrom sklearn import metrics\\nimport xgboost as xgb\\nfrom sklearn.preprocessing import RobustScaler\\nfrom sklearn.linear_model import ElasticNetCV\\nimport sklearn\\nimport seaborn as sns\\nimport plotly as py\\nimport imutils\\nfrom sklearn.feature_extraction.text import TfidfVectorizer\\nimport pickle\\nfrom sklearn.linear_model import Ridge\\nfrom sklearn import svm\\nfrom sklearn.linear_model import RidgeCV\\nfrom sklearn.decomposition import PCA\\nfrom scipy import stats\\nfrom PIL import Image\\nfrom sklearn.model_selection import GridSearchCV\\nfrom sklearn.ensemble import GradientBoostingClassifier\\nimport spacy\\nfrom sklearn.linear_model import LogisticRegression\\nfrom sklearn.preprocessing import LabelEncoder\\nimport pydot\\nimport torch\\nimport skimage\\nfrom statsmodels.tsa.arima_model import ARIMA\\nfrom scipy import signal as sg\\nfrom sklearn.ensemble import RandomForestClassifier\\nimport statsmodels.api as sm'); }\n",
              "    "
            ]
          },
          "metadata": {}
        },
        {
          "output_type": "stream",
          "name": "stdout",
          "text": [
            "AxesSubplot(0.125,0.125;0.62x0.755)\n"
          ]
        },
        {
          "output_type": "display_data",
          "data": {
            "text/plain": [
              "<Figure size 432x288 with 2 Axes>"
            ],
            "image/png": "[encoded data removed]"
          },
          "metadata": {
            "needs_background": "light"
          }
        }
      ]
    },
    {
      "cell_type": "code",
      "source": [
        "param={\n",
        "    \"gamma\":[0,\n",
        " 1,\n",
        " 2,\n",
        " 3,\n",
        " 4,\n",
        " 5,\n",
        " 6,\n",
        " 7,\n",
        " 8,\n",
        " 9,\n",
        " 10,\n",
        " 11,\n",
        " 12,\n",
        " 13,\n",
        " 14,\n",
        " 15,\n",
        " 16,\n",
        " 17,\n",
        " 18,\n",
        " 19,\n",
        " 20,\n",
        " 21,\n",
        " 22,\n",
        " 23,\n",
        " 24,\n",
        " 25,\n",
        " 26,\n",
        " 27,\n",
        " 28,\n",
        " 29,\n",
        " 30,\n",
        " 31,\n",
        " 32,\n",
        " 33,\n",
        " 34,\n",
        " 35,\n",
        " 36,\n",
        " 37,\n",
        " 38,\n",
        " 39,\n",
        " 40,\n",
        " 41,\n",
        " 42,\n",
        " 43,\n",
        " 44,\n",
        " 45,\n",
        " 46,\n",
        " 47,\n",
        " 48,\n",
        " 49],\n",
        "    \"max_depth\":[0,\n",
        " 1,\n",
        " 2,\n",
        " 3,\n",
        " 4,\n",
        " 5,\n",
        " 6,\n",
        " 7,\n",
        " 8,\n",
        " 9,\n",
        " 10,\n",
        " 11,\n",
        " 12,\n",
        " 13,\n",
        " 14,\n",
        " 15,\n",
        " 16,\n",
        " 17,\n",
        " 18,\n",
        " 19,\n",
        " 20,\n",
        " 21,\n",
        " 22,\n",
        " 23,\n",
        " 24,\n",
        " 25,\n",
        " 26,\n",
        " 27,\n",
        " 28,\n",
        " 29,\n",
        " 30,\n",
        " 31,\n",
        " 32,\n",
        " 33,\n",
        " 34,\n",
        " 35,\n",
        " 36,\n",
        " 37,\n",
        " 38,\n",
        " 39,\n",
        " 40,\n",
        " 41,\n",
        " 42,\n",
        " 43,\n",
        " 44,\n",
        " 45,\n",
        " 46,\n",
        " 47,\n",
        " 48,\n",
        " 49],\n",
        "    \"n_estimators\":[0,\n",
        " 1,\n",
        " 2,\n",
        " 3,\n",
        " 4,\n",
        " 5,\n",
        " 6,\n",
        " 7,\n",
        " 8,\n",
        " 9,\n",
        " 10,\n",
        " 11,\n",
        " 12,\n",
        " 13,\n",
        " 14,\n",
        " 15,\n",
        " 16,\n",
        " 17,\n",
        " 18,\n",
        " 19,\n",
        " 20,\n",
        " 21,\n",
        " 22,\n",
        " 23,\n",
        " 24,\n",
        " 25,\n",
        " 26,\n",
        " 27,\n",
        " 28,\n",
        " 29,\n",
        " 30,\n",
        " 31,\n",
        " 32,\n",
        " 33,\n",
        " 34,\n",
        " 35,\n",
        " 36,\n",
        " 37,\n",
        " 38,\n",
        " 39,\n",
        " 40,\n",
        " 41,\n",
        " 42,\n",
        " 43,\n",
        " 44,\n",
        " 45,\n",
        " 46,\n",
        " 47,\n",
        " 48,\n",
        " 49],\n",
        "    \"min_child_weight\": [0],\n",
        "    \"col_sample_bytree\":[10,20,30,5,15,25],\n",
        "    \"learning_rate\":[0.1,0.001,0.2,0.3,0.4,0.5]\n",
        "\n",
        "\n",
        "}"
      ],
      "metadata": {
        "id": "pbVfy3WHcj7w"
      },
      "execution_count": 1095,
      "outputs": []
    },
    {
      "cell_type": "code",
      "source": [
        "from xgboost import XGBClassifier"
      ],
      "metadata": {
        "id": "PUCUvudTgXo7"
      },
      "execution_count": 1096,
      "outputs": []
    },
    {
      "cell_type": "code",
      "source": [
        "rsxg=RandomizedSearchCV(XGBClassifier(),param_distributions=param,n_iter=10,cv=15,n_jobs=-1,verbose=0,scoring=\"roc_auc\")"
      ],
      "metadata": {
        "id": "hUlbpZFhgT8M"
      },
      "execution_count": 1097,
      "outputs": []
    },
    {
      "cell_type": "code",
      "source": [
        "rsxg.fit(x,y)"
      ],
      "metadata": {
        "colab": {
          "base_uri": "https://localhost:8080/"
        },
        "id": "FyPC8AXggn1h",
        "outputId": "e46525b6-f133-4d3c-8665-799b7c01ed35"
      },
      "execution_count": 1098,
      "outputs": [
        {
          "output_type": "execute_result",
          "data": {
            "text/plain": [
              "RandomizedSearchCV(cv=15, estimator=XGBClassifier(), n_jobs=-1,\n",
              "                   param_distributions={'col_sample_bytree': [10, 20, 30, 5, 15,\n",
              "                                                              25],\n",
              "                                        'gamma': [0, 1, 2, 3, 4, 5, 6, 7, 8, 9,\n",
              "                                                  10, 11, 12, 13, 14, 15, 16,\n",
              "                                                  17, 18, 19, 20, 21, 22, 23,\n",
              "                                                  24, 25, 26, 27, 28, 29, ...],\n",
              "                                        'learning_rate': [0.1, 0.001, 0.2, 0.3,\n",
              "                                                          0.4, 0.5],\n",
              "                                        'max_depth': [0, 1, 2, 3, 4, 5, 6, 7, 8,\n",
              "                                                      9, 10, 11, 12, 13, 14, 15,\n",
              "                                                      16, 17, 18, 19, 20, 21,\n",
              "                                                      22, 23, 24, 25, 26, 27,\n",
              "                                                      28, 29, ...],\n",
              "                                        'min_child_weight': [0],\n",
              "                                        'n_estimators': [0, 1, 2, 3, 4, 5, 6, 7,\n",
              "                                                         8, 9, 10, 11, 12, 13,\n",
              "                                                         14, 15, 16, 17, 18, 19,\n",
              "                                                         20, 21, 22, 23, 24, 25,\n",
              "                                                         26, 27, 28, 29, ...]},\n",
              "                   scoring='roc_auc')"
            ]
          },
          "metadata": {},
          "execution_count": 1098
        }
      ]
    },
    {
      "cell_type": "code",
      "source": [
        "rsxg.best_params_"
      ],
      "metadata": {
        "colab": {
          "base_uri": "https://localhost:8080/"
        },
        "id": "rEzn-JP4gpfm",
        "outputId": "440b2fff-d68a-4828-a630-1668a6bda97d"
      },
      "execution_count": 1099,
      "outputs": [
        {
          "output_type": "execute_result",
          "data": {
            "text/plain": [
              "{'n_estimators': 27,\n",
              " 'min_child_weight': 0,\n",
              " 'max_depth': 22,\n",
              " 'learning_rate': 0.2,\n",
              " 'gamma': 5,\n",
              " 'col_sample_bytree': 15}"
            ]
          },
          "metadata": {},
          "execution_count": 1099
        }
      ]
    },
    {
      "cell_type": "code",
      "source": [
        "xgb=XGBClassifier(n_estimators= 41,\n",
        " min_child_weight= 0,\n",
        " max_depth= 7,\n",
        " learning_rate= 0.1,\n",
        " gamma= 30,\n",
        " col_sample_bytree=15)"
      ],
      "metadata": {
        "id": "X7sfx5g-grlA"
      },
      "execution_count": 1100,
      "outputs": []
    },
    {
      "cell_type": "code",
      "source": [
        "xgb.fit(x_train,y_train)"
      ],
      "metadata": {
        "colab": {
          "base_uri": "https://localhost:8080/"
        },
        "id": "MhnZQS9GhqrD",
        "outputId": "7a55a16d-d90f-4741-c705-29717b8fddc9"
      },
      "execution_count": 1101,
      "outputs": [
        {
          "output_type": "execute_result",
          "data": {
            "text/plain": [
              "XGBClassifier(col_sample_bytree=15, gamma=30, max_depth=7, min_child_weight=0,\n",
              "              n_estimators=41)"
            ]
          },
          "metadata": {},
          "execution_count": 1101
        }
      ]
    },
    {
      "cell_type": "code",
      "source": [
        "ypredxgb=xgb.predict(x_test)"
      ],
      "metadata": {
        "id": "YjB43MVWieL0"
      },
      "execution_count": 1102,
      "outputs": []
    },
    {
      "cell_type": "code",
      "source": [
        "print(\"Accuracy%=\",accuracy_score(y_test,ypredxgb)*100)"
      ],
      "metadata": {
        "colab": {
          "base_uri": "https://localhost:8080/"
        },
        "id": "0IHHOn6RihGH",
        "outputId": "365d234a-337a-4543-df62-f8cbfa7a49cd"
      },
      "execution_count": 1103,
      "outputs": [
        {
          "output_type": "stream",
          "name": "stdout",
          "text": [
            "Accuracy%= 78.86178861788618\n"
          ]
        }
      ]
    },
    {
      "cell_type": "code",
      "source": [
        "print(\"classification_report=\",classification_report(y_test,ypredxgb))"
      ],
      "metadata": {
        "colab": {
          "base_uri": "https://localhost:8080/"
        },
        "id": "nVODiYDUio1h",
        "outputId": "747ce8e1-fc4d-4302-c3e4-b3eeb08eb012"
      },
      "execution_count": 1104,
      "outputs": [
        {
          "output_type": "stream",
          "name": "stdout",
          "text": [
            "classification_report=               precision    recall  f1-score   support\n",
            "\n",
            "           0       0.95      0.42      0.58        43\n",
            "           1       0.76      0.99      0.86        80\n",
            "\n",
            "    accuracy                           0.79       123\n",
            "   macro avg       0.85      0.70      0.72       123\n",
            "weighted avg       0.83      0.79      0.76       123\n",
            "\n"
          ]
        }
      ]
    },
    {
      "cell_type": "code",
      "source": [
        "print(sns.heatmap(confusion_matrix(y_test,ypredxgb),annot=True))"
      ],
      "metadata": {
        "colab": {
          "base_uri": "https://localhost:8080/",
          "height": 283
        },
        "id": "XgDxPp_-kBr-",
        "outputId": "d245aefd-62dc-41f1-e050-c74c01f13dcd"
      },
      "execution_count": 1105,
      "outputs": [
        {
          "output_type": "display_data",
          "data": {
            "text/plain": [
              "<IPython.core.display.Javascript object>"
            ],
            "application/javascript": [
              "\n",
              "        if (window._pyforest_update_imports_cell) { window._pyforest_update_imports_cell('from sklearn.linear_model import LassoCV\\nimport plotly.express as px\\nfrom sklearn.linear_model import ElasticNet\\nimport pandas as pd\\nfrom sklearn.preprocessing import PolynomialFeatures\\nimport fastai\\nfrom pathlib import Path\\nimport matplotlib as mpl\\nimport cv2\\nfrom sklearn.preprocessing import MinMaxScaler\\nimport textblob\\nfrom sklearn.manifold import TSNE\\nimport numpy as np\\nfrom sklearn.ensemble import RandomForestRegressor\\nfrom sklearn.linear_model import LinearRegression\\nimport altair as alt\\nfrom sklearn.model_selection import RandomizedSearchCV\\nimport tensorflow as tf\\nfrom openpyxl import load_workbook\\nimport sys\\nimport statistics\\nfrom sklearn.cluster import KMeans\\nfrom sklearn.model_selection import train_test_split\\nfrom sklearn.model_selection import cross_val_score\\nfrom sklearn.ensemble import GradientBoostingRegressor\\nfrom sklearn.feature_extraction.text import CountVectorizer\\nimport lightgbm as lgb\\nfrom sklearn.preprocessing import OneHotEncoder\\nimport nltk\\nimport re\\nimport matplotlib.pyplot as plt\\nimport tqdm\\nfrom sklearn.linear_model import Lasso\\nfrom sklearn.model_selection import KFold\\nfrom sklearn import metrics\\nimport xgboost as xgb\\nfrom sklearn.preprocessing import RobustScaler\\nfrom sklearn.linear_model import ElasticNetCV\\nimport sklearn\\nimport seaborn as sns\\nimport plotly as py\\nimport imutils\\nfrom sklearn.feature_extraction.text import TfidfVectorizer\\nimport pickle\\nfrom sklearn.linear_model import Ridge\\nfrom sklearn import svm\\nfrom sklearn.linear_model import RidgeCV\\nfrom sklearn.decomposition import PCA\\nfrom scipy import stats\\nfrom PIL import Image\\nfrom sklearn.model_selection import GridSearchCV\\nfrom sklearn.ensemble import GradientBoostingClassifier\\nimport spacy\\nfrom sklearn.linear_model import LogisticRegression\\nfrom sklearn.preprocessing import LabelEncoder\\nimport pydot\\nimport torch\\nimport skimage\\nfrom statsmodels.tsa.arima_model import ARIMA\\nfrom scipy import signal as sg\\nfrom sklearn.ensemble import RandomForestClassifier\\nimport statsmodels.api as sm'); }\n",
              "    "
            ]
          },
          "metadata": {}
        },
        {
          "output_type": "stream",
          "name": "stdout",
          "text": [
            "AxesSubplot(0.125,0.125;0.62x0.755)\n"
          ]
        },
        {
          "output_type": "display_data",
          "data": {
            "text/plain": [
              "<Figure size 432x288 with 2 Axes>"
            ],
            "image/png": "[encoded data removed]"
          },
          "metadata": {
            "needs_background": "light"
          }
        }
      ]
    }
  ]
}